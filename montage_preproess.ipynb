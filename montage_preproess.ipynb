{
  "cells": [
    {
      "cell_type": "code",
      "execution_count": null,
      "metadata": {
        "id": "2hVjETSnsIX8"
      },
      "outputs": [],
      "source": [
        "import pickle\n",
        "from google.colab import drive\n",
        "\n",
        "import pandas as pd\n",
        "import numpy as np\n",
        "\n",
        "import requests\n",
        "\n",
        "from bs4 import BeautifulSoup\n",
        "import os"
      ]
    },
    {
      "cell_type": "code",
      "execution_count": null,
      "metadata": {
        "colab": {
          "base_uri": "https://localhost:8080/"
        },
        "id": "VvEgEp6VdFOk",
        "outputId": "3e185fba-3b6c-4acc-a232-bfb9d54fb586"
      },
      "outputs": [
        {
          "output_type": "stream",
          "name": "stdout",
          "text": [
            "Mounted at /content/drive\n"
          ]
        }
      ],
      "source": [
        "# Google dirve에 연결\n",
        "\n",
        "drive.mount('/content/drive')"
      ]
    },
    {
      "cell_type": "code",
      "execution_count": null,
      "metadata": {
        "id": "aa3oglfZuQua"
      },
      "outputs": [],
      "source": [
        "# PATH\n",
        "PATH_train='/content/drive/MyDrive/montage_project/train/'\n",
        "PATH_train_montage = '/content/drive/MyDrive/montage_project/train/montage/'\n",
        "PATH_train_json = '/content/drive/MyDrive/montage_project/train/H/'\n",
        "\n",
        "PATH_train_resized='/content/drive/MyDrive/montage_project/train/resized/'"
      ]
    },
    {
      "cell_type": "code",
      "execution_count": null,
      "metadata": {
        "id": "5VGqYcn66grs"
      },
      "outputs": [],
      "source": [
        "PATH_test='/content/drive/MyDrive/montage_project/test/'\n",
        "PATH_test_montage = '/content/drive/MyDrive/montage_project/test/montage/'\n",
        "PATH_test_json = '/content/drive/MyDrive/montage_project/test/H/'\n"
      ]
    },
    {
      "cell_type": "markdown",
      "source": [
        "# json -> dic_train_json / dic_test_json 만들기"
      ],
      "metadata": {
        "id": "oiTEPJUnty6T"
      }
    },
    {
      "cell_type": "code",
      "source": [
        "import os\n",
        "\n",
        "train_json_list = os.listdir(PATH_train_json)\n",
        "\n",
        "## Train의 json 파일 8071개 이름 list\n",
        "filename_TJ = [file for file in train_json_list if file.endswith('.json')] \n",
        "print(len(filename_TJ))\n",
        "\n",
        "import json\n",
        "\n",
        "dict_json = []\n",
        "for i,v in enumerate(filename_TJ):\n",
        "  print(i,': ',v)\n",
        "  a_json = open(PATH_train_json+v,\"r\")\n",
        "  a_dict = json.load(a_json)\n",
        "  dict_json.append(a_dict)\n",
        "\n",
        "print(len(dict_json))\n",
        "\n",
        "df_Data = pd.DataFrame(dict_json)\n",
        "df_Data.to_pickle(PATH_train+'df_train_json.pickle')\n",
        "\n",
        "\n",
        "\n",
        "df_train = pd.read_pickle(PATH_train+'df_train_json.pickle')\n",
        "dic_train={\n",
        "    # 고유 아이디\n",
        "    'org_id':[],\n",
        "    # 나이\n",
        "    'age':[],\n",
        "    # 성별\n",
        "    'gender':[],\n",
        "    # 얼굴유형\n",
        "    'face':[],\n",
        "    #얼굴크기\n",
        "    #이마유형\n",
        "    #머리스타일유형\n",
        "    'hairstyle':[],\n",
        "    #앞머리길이\n",
        "    #옆머리길이\n",
        "    #눈썹유형\n",
        "    'eyebrows':[]\n",
        "    #눈썹짙음\n",
        "    #눈크기\n",
        "    #눈유형\n",
        "    #코크기\n",
        "    #코길이\n",
        "    #입유형\n",
        "    #입크기\n",
        "    #수염\n",
        "    #구렛나룻\n",
        "}\n",
        "\n",
        "for i in range(len(df_train['info'])):\n",
        "  dic_train['org_id'].append(str(df_train['info'][i][0]['org_id']))\n",
        "  dic_train['age'].append(str(df_train['info'][i][0]['age']))\n",
        "  dic_train['gender'].append(df_train['info'][i][0]['gender'])\n",
        "  dic_train['face'].append(df_train['descripton'][i][0]['face']['type'])\n",
        "  dic_train['hairstyle'].append(df_train['descripton'][i][0]['hairstyle']['type'])\n",
        "  dic_train['eyebrows'].append(df_train['descripton'][i][0]['eyebrows']['type'])\n",
        "\n",
        "\n",
        "print(len(dic_train),len(dic_train['org_id']))\n",
        "\n",
        "import pickle\n",
        "import gzip\n",
        "\n",
        "\n",
        "with gzip.open(PATH_train+'dic_train_json.pickle','wb') as f:\n",
        "  pickle.dump(dic_train,f)\n"
      ],
      "metadata": {
        "id": "lWg_W0QHtwXK"
      },
      "execution_count": null,
      "outputs": []
    },
    {
      "cell_type": "code",
      "source": [
        "# 1) json 파일 가져오기 -> df_test -> df_test.json.pickle\n",
        "import os\n",
        "\n",
        "test_json_list = os.listdir(PATH_test_json)\n",
        "\n",
        "## Test의 json 파일 1010개 이름 list\n",
        "filename_TestJ = [file for file in test_json_list if file.endswith('.json')] \n",
        "print(len(filename_TestJ))\n",
        "\n",
        "import json\n",
        "\n",
        "dic_json = []\n",
        "for i,v in enumerate(filename_TestJ):\n",
        "  a_json = open(PATH_test_json+v,\"r\")\n",
        "  a_dict = json.load(a_json)\n",
        "  dic_json.append(a_dict)\n",
        "\n",
        "print(len(dic_json))\n",
        "\n",
        "df_test = pd.DataFrame(dic_json)\n",
        "df_test.to_pickle(PATH_test+'df_test_json.pickle')\n",
        "\n",
        "\n",
        "# 2) json pickle 가져오기 df_test -> dic_test\n",
        "\n",
        "PATH_test='/content/drive/MyDrive/montage_project/test/'\n",
        "PATH_test_montage = '/content/drive/MyDrive/montage_project/test/montage/'\n",
        "PATH_test_json = '/content/drive/MyDrive/montage_project/test/H/'\n",
        "\n",
        "df_test = pd.read_pickle(PATH_test+'df_test_json.pickle')\n",
        "df_test.head()\n",
        "len(df_test)\n",
        "\n",
        "dic_test={\n",
        "    # 고유 아이디\n",
        "    'org_id':[],\n",
        "    # 나이\n",
        "    'age':[],\n",
        "    # 성별\n",
        "    'gender':[],\n",
        "    # 얼굴유형\n",
        "    'face':[],\n",
        "    #얼굴크기\n",
        "    #이마유형\n",
        "    #머리스타일유형\n",
        "    'hairstyle':[],\n",
        "    #앞머리길이\n",
        "    #옆머리길이\n",
        "    #눈썹유형\n",
        "    'eyebrows':[]\n",
        "\n",
        "    #눈썹짙음\n",
        "    #눈크기\n",
        "    #눈유형\n",
        "    #코크기\n",
        "    #코길이\n",
        "    #입유형\n",
        "    #입크기\n",
        "    #수염\n",
        "    #구렛나룻\n",
        "}\n",
        "\n",
        "for i in range(len(df_test['info'])):\n",
        "  dic_test['org_id'].append(str(df_test['info'][i][0]['org_id']))\n",
        "  dic_test['age'].append(str(df_test['info'][i][0]['age']))\n",
        "  dic_test['gender'].append(df_test['info'][i][0]['gender'])\n",
        "  dic_test['face'].append(df_test['descripton'][i][0]['face']['type'])\n",
        "  dic_test['hairstyle'].append(df_test['descripton'][i][0]['hairstyle']['type'])\n",
        "  dic_test['eyebrows'].append(df_test['descripton'][i][0]['eyebrows']['type'])\n",
        "\n",
        "\n",
        "print(len(dic_test),len(dic_test['org_id']))\n",
        "\n",
        "import pickle\n",
        "import gzip\n",
        "\n",
        "\n",
        "with gzip.open(PATH_test+'dic_test_json.pickle','wb') as f:\n",
        "  pickle.dump(dic_test,f)\n"
      ],
      "metadata": {
        "colab": {
          "base_uri": "https://localhost:8080/"
        },
        "id": "amadRdb5uqBg",
        "outputId": "223c6add-c56f-4efb-f7e5-30aa41032ae6"
      },
      "execution_count": null,
      "outputs": [
        {
          "output_type": "stream",
          "name": "stdout",
          "text": [
            "1010\n",
            "1010\n",
            "6 1010\n"
          ]
        }
      ]
    },
    {
      "cell_type": "code",
      "source": [],
      "metadata": {
        "colab": {
          "base_uri": "https://localhost:8080/"
        },
        "id": "yw4dsEqCtPw7",
        "outputId": "f29b944a-c562-48f8-eeb0-c9216c094a90"
      },
      "execution_count": null,
      "outputs": [
        {
          "output_type": "stream",
          "name": "stdout",
          "text": [
            "6 8071\n"
          ]
        }
      ]
    },
    {
      "cell_type": "markdown",
      "source": [
        "# 사진 -> dic_train_img_re / dic_test_img_re *만들기*"
      ],
      "metadata": {
        "id": "FFwP4wHruLak"
      }
    },
    {
      "cell_type": "code",
      "source": [
        "import os\n",
        "train_montage_list = os.listdir(PATH_train_montage)\n",
        "\n",
        "## Train의 Montage 파일 8071개 이름 list\n",
        "filename_TM = [file for file in train_montage_list if file.endswith('.png')] \n",
        "len(filename_TM)\n",
        "\n",
        "import cv2 # 이미지를 읽어들일때 사용(저장할때 사용)\n",
        "\n",
        "dic_pic = {}\n",
        "for i,v in enumerate(filename_TM):\n",
        "    list_pic=[]\n",
        "    # 이미지 불러오기!\n",
        "    img = cv2.imread(PATH_train_montage+filename_TM[i],cv2.IMREAD_COLOR)\n",
        "    # 이미지 resize!\n",
        "    # 이미지의 x, y가 224이 넘을 경우 작게해주기\n",
        "    percent = 1\n",
        "    if(img.shape[1] > img.shape[0]) :       # 이미지의 가로가 세보다 크면 가로를 640으로 맞추고 세로를 비율에 맞춰서\n",
        "          percent = 224/img.shape[1]\n",
        "    else :\n",
        "          percent = 224/img.shape[0]\n",
        "\n",
        "    img = cv2.resize(img, dsize=(0, 0), fx=percent, fy=percent, interpolation=cv2.INTER_LINEAR)\n",
        "\n",
        "    # padding 하는 구간\n",
        "    # 이미지 범위 지정 ; 높이 너비\n",
        "    y,x,h,w = (0,0,img.shape[0], img.shape[1])\n",
        "\n",
        "    # 그림 주변에 검은색으로 칠하기\n",
        "    w_x = (224-(w-x))/2  # w_x = (224 - 그림)을 뺀 나머지 영역 크기 [ 그림나머지/2 [그림] 그림나머지/2 ]\n",
        "    h_y = (224-(h-y))/2\n",
        "\n",
        "    # 크기가 -면 0으로 지정.\n",
        "    if(w_x < 0):  w_x = 0\n",
        "    elif(h_y < 0):  h_y = 0\n",
        "\n",
        "    M = np.float32([[1,0,w_x], [0,1,h_y]])  #(2*3 이차원 행렬)\n",
        "    img_re = cv2.warpAffine(img, M, (224, 224)) #이동변환  \n",
        "    dic_pic[v]=img_re\n",
        "\n",
        "\n",
        "import pickle\n",
        "import gzip\n",
        "\n",
        "with gzip.open(PATH_train+'dic_train_img_re.pickle','wb') as f:\n",
        "  pickle.dump(dic_pic,f)\n"
      ],
      "metadata": {
        "id": "521v745QuRB9"
      },
      "execution_count": null,
      "outputs": []
    },
    {
      "cell_type": "code",
      "source": [
        "import os\n",
        "test_montage_list = os.listdir(PATH_test_montage)\n",
        "\n",
        "## Train의 Montage 파일 1010개 이름 list\n",
        "filename_TestM = [file for file in test_montage_list if file.endswith('.png') or file.endswith('jpg')] \n",
        "print(len(filename_TestM))\n",
        "\n",
        "import cv2 # 이미지를 읽어들일때 사용(저장할때 사용)\n",
        "\n",
        "dic_pic = {}\n",
        "for i,v in enumerate(filename_TestM):\n",
        "    list_pic=[]\n",
        "    # 이미지 불러오기!\n",
        "    img = cv2.imread(PATH_test_montage+filename_TestM[i],cv2.IMREAD_COLOR)\n",
        "    # 이미지 resize!\n",
        "    # 이미지의 x, y가 224이 넘을 경우 작게해주기\n",
        "    percent = 1\n",
        "    if(img.shape[1] > img.shape[0]) :       # 이미지의 가로가 세보다 크면 가로를 640으로 맞추고 세로를 비율에 맞춰서\n",
        "          percent = 224/img.shape[1]\n",
        "    else :\n",
        "          percent = 224/img.shape[0]\n",
        "\n",
        "    img = cv2.resize(img, dsize=(0, 0), fx=percent, fy=percent, interpolation=cv2.INTER_LINEAR)\n",
        "\n",
        "    # padding 하는 구간\n",
        "    # 이미지 범위 지정 ; 높이 너비\n",
        "    y,x,h,w = (0,0,img.shape[0], img.shape[1])\n",
        "\n",
        "    # 그림 주변에 검은색으로 칠하기\n",
        "    w_x = (224-(w-x))/2  # w_x = (224 - 그림)을 뺀 나머지 영역 크기 [ 그림나머지/2 [그림] 그림나머지/2 ]\n",
        "    h_y = (224-(h-y))/2\n",
        "\n",
        "    # 크기가 -면 0으로 지정.\n",
        "    if(w_x < 0):  w_x = 0\n",
        "    elif(h_y < 0):  h_y = 0\n",
        "\n",
        "    M = np.float32([[1,0,w_x], [0,1,h_y]])  #(2*3 이차원 행렬)\n",
        "    img_re = cv2.warpAffine(img, M, (224, 224)) #이동변환  \n",
        "    dic_pic[v]=img_re\n",
        "\n",
        "\n",
        "import pickle\n",
        "import gzip\n",
        "\n",
        "with gzip.open(PATH_test+'dic_test_img_re.pickle','wb') as f:\n",
        "  pickle.dump(dic_pic,f)\n",
        "\n",
        "print(len(dic_pic))"
      ],
      "metadata": {
        "colab": {
          "base_uri": "https://localhost:8080/"
        },
        "id": "MHBHnfPBvIrV",
        "outputId": "2fd5623e-23c2-45c0-957c-c7e0635d1cd6"
      },
      "execution_count": null,
      "outputs": [
        {
          "output_type": "stream",
          "name": "stdout",
          "text": [
            "1010\n",
            "1010\n"
          ]
        }
      ]
    },
    {
      "cell_type": "code",
      "source": [],
      "metadata": {
        "id": "NDBC_9gRv9ww"
      },
      "execution_count": null,
      "outputs": []
    },
    {
      "cell_type": "markdown",
      "source": [
        "# ----------------------------------------------------------------------------------------------------------------------------------"
      ],
      "metadata": {
        "id": "4rkeP59rwEKx"
      }
    },
    {
      "cell_type": "markdown",
      "source": [
        "# train argm -> dic_train_img_au 만들기"
      ],
      "metadata": {
        "id": "iyR4pSzJwAha"
      }
    },
    {
      "cell_type": "markdown",
      "source": [
        "## 0)Trainset Augmentation"
      ],
      "metadata": {
        "id": "CzZgqpGxvS41"
      }
    },
    {
      "cell_type": "code",
      "source": [
        "## 증강 모델\n",
        "from tensorflow.keras.preprocessing.image import ImageDataGenerator, array_to_img, img_to_array, load_img\n",
        "\n",
        "datagen = ImageDataGenerator(\n",
        "    rotation_range=40,\n",
        "    width_shift_range=0.2,\n",
        "    height_shift_range=0.2,\n",
        "    shear_range=0.2,\n",
        "    zoom_range=0.2,\n",
        "    horizontal_flip=True,\n",
        "    vertical_flip=True,\n",
        ")"
      ],
      "metadata": {
        "id": "0Gb8SnzRvV1i"
      },
      "execution_count": null,
      "outputs": []
    },
    {
      "cell_type": "code",
      "source": [
        "## dic json 불러오기!\n",
        "import gzip\n",
        "\n",
        "with gzip.open(PATH_train+'dic_train_json.pickle','rb') as f:\n",
        "  dic_train = pickle.load(f)\n",
        "\n",
        "print(len(dic_train),len(dic_train['org_id']))"
      ],
      "metadata": {
        "colab": {
          "base_uri": "https://localhost:8080/"
        },
        "id": "LmKeQv4jc712",
        "outputId": "ea0a48f9-a425-4c44-9cc3-8283d1ee394a"
      },
      "execution_count": null,
      "outputs": [
        {
          "output_type": "stream",
          "name": "stdout",
          "text": [
            "6 8071\n"
          ]
        }
      ]
    },
    {
      "cell_type": "code",
      "source": [
        "type(dic_train['org_id']),dic_train.keys()"
      ],
      "metadata": {
        "colab": {
          "base_uri": "https://localhost:8080/"
        },
        "id": "cmfngCUHyzFZ",
        "outputId": "ef033312-e2c7-4981-c5b0-e59b1dbe371f"
      },
      "execution_count": null,
      "outputs": [
        {
          "output_type": "execute_result",
          "data": {
            "text/plain": [
              "(list, dict_keys(['org_id', 'age', 'gender', 'face', 'hairstyle', 'eyebrows']))"
            ]
          },
          "metadata": {},
          "execution_count": 31
        }
      ]
    },
    {
      "cell_type": "code",
      "source": [
        "set(dic_train['hairstyle'])"
      ],
      "metadata": {
        "colab": {
          "base_uri": "https://localhost:8080/"
        },
        "id": "8upYlIULOsfY",
        "outputId": "4aa32790-c325-4024-e04e-1be0a19284da"
      },
      "execution_count": null,
      "outputs": [
        {
          "output_type": "execute_result",
          "data": {
            "text/plain": [
              "{'곱슬머리', '스포츠형', '웨이브형', '직모(생머리)', '탈모형'}"
            ]
          },
          "metadata": {},
          "execution_count": 32
        }
      ]
    },
    {
      "cell_type": "code",
      "source": [
        "import collections, numpy\n",
        "\n",
        "aUnique = dic_train['hairstyle']\n",
        "\n",
        "unique, counts = numpy.unique(aUnique, return_counts=True)\n",
        "\n",
        "print(dict(zip(unique, counts)));  \n",
        "\n"
      ],
      "metadata": {
        "colab": {
          "base_uri": "https://localhost:8080/"
        },
        "id": "jvHcYLBMbWKV",
        "outputId": "b6c8662c-423d-4598-9d22-099ca87c7777"
      },
      "execution_count": null,
      "outputs": [
        {
          "output_type": "stream",
          "name": "stdout",
          "text": [
            "{'곱슬머리': 2392, '스포츠형': 199, '웨이브형': 976, '직모(생머리)': 4467, '탈모형': 37}\n"
          ]
        }
      ]
    },
    {
      "cell_type": "code",
      "source": [
        "dic_train['hairstyle'][0]"
      ],
      "metadata": {
        "colab": {
          "base_uri": "https://localhost:8080/",
          "height": 36
        },
        "id": "vg-wZsK8PyfF",
        "outputId": "aca064a0-6806-4875-8fc3-1e2ff0516cfd"
      },
      "execution_count": null,
      "outputs": [
        {
          "output_type": "execute_result",
          "data": {
            "text/plain": [
              "'직모(생머리)'"
            ],
            "application/vnd.google.colaboratory.intrinsic+json": {
              "type": "string"
            }
          },
          "metadata": {},
          "execution_count": 34
        }
      ]
    },
    {
      "cell_type": "code",
      "source": [
        "dic_train['org_id'][0]"
      ],
      "metadata": {
        "colab": {
          "base_uri": "https://localhost:8080/",
          "height": 36
        },
        "id": "D5Ln6I3_P-uL",
        "outputId": "dbcf76da-36ca-4137-8a30-08200c20804d"
      },
      "execution_count": null,
      "outputs": [
        {
          "output_type": "execute_result",
          "data": {
            "text/plain": [
              "'545'"
            ],
            "application/vnd.google.colaboratory.intrinsic+json": {
              "type": "string"
            }
          },
          "metadata": {},
          "execution_count": 35
        }
      ]
    },
    {
      "cell_type": "code",
      "source": [
        "## dic 사진 불러오기!\n",
        "with gzip.open(PATH_train+'dic_train_img_re.pickle','rb') as f:\n",
        "  dic_train_img_re = pickle.load(f)\n",
        "\n",
        "print(len(dic_train_img_re),len(dic_train_img_re['20.png']))"
      ],
      "metadata": {
        "colab": {
          "base_uri": "https://localhost:8080/"
        },
        "id": "RNJRADNCyLCX",
        "outputId": "77d52e5f-d660-4b3f-d4dd-c8347b8a048d"
      },
      "execution_count": null,
      "outputs": [
        {
          "output_type": "stream",
          "name": "stdout",
          "text": [
            "8071 224\n"
          ]
        }
      ]
    },
    {
      "cell_type": "code",
      "source": [
        "type(dic_train_img_re['20.png']),dic_train_img_re['20.png'].shape"
      ],
      "metadata": {
        "colab": {
          "base_uri": "https://localhost:8080/"
        },
        "id": "-tyWEc0kyr-1",
        "outputId": "fa23e28a-1062-4b1f-9dcf-8cda61364c43"
      },
      "execution_count": null,
      "outputs": [
        {
          "output_type": "execute_result",
          "data": {
            "text/plain": [
              "(numpy.ndarray, (224, 224, 3))"
            ]
          },
          "metadata": {},
          "execution_count": 37
        }
      ]
    },
    {
      "cell_type": "code",
      "source": [
        "pip install tqdm\n"
      ],
      "metadata": {
        "colab": {
          "base_uri": "https://localhost:8080/"
        },
        "id": "hx3gLJvKpZBJ",
        "outputId": "87a1022e-926a-4202-bb63-49700c4d5c89"
      },
      "execution_count": null,
      "outputs": [
        {
          "output_type": "stream",
          "name": "stdout",
          "text": [
            "Looking in indexes: https://pypi.org/simple, https://us-python.pkg.dev/colab-wheels/public/simple/\n",
            "Requirement already satisfied: tqdm in /usr/local/lib/python3.7/dist-packages (4.64.0)\n"
          ]
        }
      ]
    },
    {
      "cell_type": "code",
      "source": [
        "from tqdm.notebook import tqdm\n",
        "from google.colab.patches import cv2_imshow\n",
        "\n",
        "\n",
        "for i,title in tqdm(enumerate(dic_train['org_id'])):\n",
        "    print(title,dic_train['hairstyle'][i])\n",
        "    cv2_imshow(dic_train_img_re[title+'.png'])\n",
        "    if i==10: break"
      ],
      "metadata": {
        "colab": {
          "base_uri": "https://localhost:8080/",
          "height": 1000,
          "referenced_widgets": [
            "7f8831871f49422b9cd49696676b29da",
            "aebc0c0934424626b12bf6cd7813fe01",
            "f7966dbf6e5a43fbb67e8af030d2c3f3",
            "b422219ef6a543c4af13ae5c2f160c13",
            "2b3c14a5faad47f789cd647dc47b890f",
            "56da67a4871e41119bb3af29c427dcf2",
            "f7ea62bd43954eeb96e5f82ec636d390",
            "efdff128a10340b7b7304835c45dd5c5",
            "a03c8d4e756242b6a3dd4d19ee2fabf4",
            "a6b69c69708949f1abe5e1d0237ff620",
            "05ab5a760aa84be98d4cf5165c943968"
          ]
        },
        "id": "NslvyiVtQY7w",
        "outputId": "27551e18-ddeb-4527-a673-eb3ca7ee54cf"
      },
      "execution_count": null,
      "outputs": [
        {
          "output_type": "display_data",
          "data": {
            "text/plain": [
              "0it [00:00, ?it/s]"
            ],
            "application/vnd.jupyter.widget-view+json": {
              "version_major": 2,
              "version_minor": 0,
              "model_id": "7f8831871f49422b9cd49696676b29da"
            }
          },
          "metadata": {}
        },
        {
          "output_type": "stream",
          "name": "stdout",
          "text": [
            "545 직모(생머리)\n"
          ]
        },
        {
          "output_type": "display_data",
          "data": {
            "text/plain": [
              "<PIL.Image.Image image mode=RGB size=224x224 at 0x7F800571EDD0>"
            ],
            "image/png": "[encoded data removed]"
          },
          "metadata": {}
        },
        {
          "output_type": "stream",
          "name": "stdout",
          "text": [
            "1120 직모(생머리)\n"
          ]
        },
        {
          "output_type": "display_data",
          "data": {
            "text/plain": [
              "<PIL.Image.Image image mode=RGB size=224x224 at 0x7F8005722710>"
            ],
            "image/png": "[encoded data removed]"
          },
          "metadata": {}
        },
        {
          "output_type": "stream",
          "name": "stdout",
          "text": [
            "5163 직모(생머리)\n"
          ]
        },
        {
          "output_type": "display_data",
          "data": {
            "text/plain": [
              "<PIL.Image.Image image mode=RGB size=224x224 at 0x7F7FF79AF3D0>"
            ],
            "image/png": "[encoded data removed]"
          },
          "metadata": {}
        },
        {
          "output_type": "stream",
          "name": "stdout",
          "text": [
            "4322 직모(생머리)\n"
          ]
        },
        {
          "output_type": "display_data",
          "data": {
            "text/plain": [
              "<PIL.Image.Image image mode=RGB size=224x224 at 0x7F7FF79A8890>"
            ],
            "image/png": "[encoded data removed]"
          },
          "metadata": {}
        },
        {
          "output_type": "stream",
          "name": "stdout",
          "text": [
            "816 스포츠형\n"
          ]
        },
        {
          "output_type": "display_data",
          "data": {
            "text/plain": [
              "<PIL.Image.Image image mode=RGB size=224x224 at 0x7F800571EDD0>"
            ],
            "image/png": "[encoded data removed]"
          },
          "metadata": {}
        },
        {
          "output_type": "stream",
          "name": "stdout",
          "text": [
            "115 직모(생머리)\n"
          ]
        },
        {
          "output_type": "display_data",
          "data": {
            "text/plain": [
              "<PIL.Image.Image image mode=RGB size=224x224 at 0x7F7FF79A8ED0>"
            ],
            "image/png": "[encoded data removed]"
          },
          "metadata": {}
        },
        {
          "output_type": "stream",
          "name": "stdout",
          "text": [
            "9510 직모(생머리)\n"
          ]
        },
        {
          "output_type": "display_data",
          "data": {
            "text/plain": [
              "<PIL.Image.Image image mode=RGB size=224x224 at 0x7F7FF79AF550>"
            ],
            "image/png": "[encoded data removed]"
          },
          "metadata": {}
        },
        {
          "output_type": "stream",
          "name": "stdout",
          "text": [
            "1989 곱슬머리\n"
          ]
        },
        {
          "output_type": "display_data",
          "data": {
            "text/plain": [
              "<PIL.Image.Image image mode=RGB size=224x224 at 0x7F8005722290>"
            ],
            "image/png": "[encoded data removed]"
          },
          "metadata": {}
        },
        {
          "output_type": "stream",
          "name": "stdout",
          "text": [
            "11960 곱슬머리\n"
          ]
        },
        {
          "output_type": "display_data",
          "data": {
            "text/plain": [
              "<PIL.Image.Image image mode=RGB size=224x224 at 0x7F7FF79AF590>"
            ],
            "image/png": "[encoded data removed]"
          },
          "metadata": {}
        },
        {
          "output_type": "stream",
          "name": "stdout",
          "text": [
            "4772 직모(생머리)\n"
          ]
        },
        {
          "output_type": "display_data",
          "data": {
            "text/plain": [
              "<PIL.Image.Image image mode=RGB size=224x224 at 0x7F7FF79AF690>"
            ],
            "image/png": "[encoded data removed]"
          },
          "metadata": {}
        },
        {
          "output_type": "stream",
          "name": "stdout",
          "text": [
            "1823 직모(생머리)\n"
          ]
        },
        {
          "output_type": "display_data",
          "data": {
            "text/plain": [
              "<PIL.Image.Image image mode=RGB size=224x224 at 0x7F7FF79AF550>"
            ],
            "image/png": "[encoded data removed]"
          },
          "metadata": {}
        }
      ]
    },
    {
      "cell_type": "code",
      "source": [
        "#{'곱슬머리', '스포츠형', '웨이브형', '직모(생머리)', '탈모형'}\n",
        "\n",
        "# type2\n",
        "\n",
        "from tqdm.notebook import tqdm\n",
        "\n",
        "## 증강 사진 g드라이브 에 저장\n",
        "import cv2\n",
        "\n",
        "PATH_train_augm = '/content/drive/MyDrive/montage_project/train/augm2/'\n",
        "\n",
        "\n",
        "for index,title in tqdm(enumerate(dic_train['org_id'])):\n",
        "    if dic_train['hairstyle'][index] == '스포츠형':\n",
        "      img = dic_train_img_re[title+'.png']\n",
        "      x = img_to_array(img)\n",
        "      x = x.reshape((1,) + x.shape)\n",
        "      i = 0\n",
        "      # flow : augmentation 함수\n",
        "      for batch in datagen.flow(x, batch_size=1,save_to_dir=PATH_train_augm, save_prefix=title, save_format='png'):\n",
        "        i += 1\n",
        "        if i > 11: break   # 12번\n",
        "    elif dic_train['hairstyle'][index] == '웨이브형':\n",
        "      img = dic_train_img_re[title+'.png']\n",
        "      x = img_to_array(img)\n",
        "      x = x.reshape((1,) + x.shape)\n",
        "      i = 0\n",
        "      # flow : augmentation 함수\n",
        "      for batch in datagen.flow(x, batch_size=1,save_to_dir=PATH_train_augm, save_prefix=title, save_format='png'):\n",
        "        i += 1\n",
        "        if i > 1: break   # 2번\n",
        "    elif dic_train['hairstyle'][index] == '탈모형':\n",
        "      img = dic_train_img_re[title+'.png']\n",
        "      x = img_to_array(img)\n",
        "      x = x.reshape((1,) + x.shape)\n",
        "      i = 0\n",
        "      # flow : augmentation 함수\n",
        "      for batch in datagen.flow(x, batch_size=1,save_to_dir=PATH_train_augm, save_prefix=title, save_format='png'):\n",
        "        i += 1\n",
        "        if i > 66: break   # 67번\n",
        "        "
      ],
      "metadata": {
        "colab": {
          "base_uri": "https://localhost:8080/",
          "height": 49,
          "referenced_widgets": [
            "92f85d4913134550b09c21cca6367224",
            "4b314991a16544e68a7e040b98428fa3",
            "f9dba8d993f84122b9bfac2b3953ba79",
            "41d9c52ba73a4e0ba387e5f2e12d0a64",
            "9d537aea6f124eb9b6c2d458e8a8f8cb",
            "8505013840094772931c9815301d8fd8",
            "a1c7de2109074fcfa586adc0d794924f",
            "71a54ce0f8b14c9395ccf949b41dd261",
            "95780ac23c054a3d8932b5148c0efd8e",
            "2e5fad21d48143d0a26d5ddaff93f913",
            "130707c72d6c43cb8a4a0e0b46d83324"
          ]
        },
        "id": "sv99ik1Bh2Bi",
        "outputId": "38292ee2-b80f-4cfb-d172-ea50810318bf"
      },
      "execution_count": null,
      "outputs": [
        {
          "output_type": "display_data",
          "data": {
            "text/plain": [
              "0it [00:00, ?it/s]"
            ],
            "application/vnd.jupyter.widget-view+json": {
              "version_major": 2,
              "version_minor": 0,
              "model_id": "92f85d4913134550b09c21cca6367224"
            }
          },
          "metadata": {}
        }
      ]
    },
    {
      "cell_type": "code",
      "source": [
        "#{'곱슬머리', '스포츠형', '웨이브형', '직모(생머리)', '탈모형'}\n",
        "# type6\n",
        "\n",
        "from tqdm.notebook import tqdm\n",
        "\n",
        "## 증강 사진 g드라이브 에 저장\n",
        "import cv2\n",
        "\n",
        "PATH_train_augm = '/content/drive/MyDrive/montage_project/train/augm6/'\n",
        "\n",
        "\n",
        "for index,title in tqdm(enumerate(dic_train['org_id'])):\n",
        "    if dic_train['hairstyle'][index] == '곱슬머리':\n",
        "      img = dic_train_img_re[title+'.png']\n",
        "      x = img_to_array(img)\n",
        "      x = x.reshape((1,) + x.shape)\n",
        "      i = 0\n",
        "      # flow : augmentation 함수\n",
        "      for batch in datagen.flow(x, batch_size=1,save_to_dir=PATH_train_augm, save_prefix=title, save_format='png'):\n",
        "        i += 1\n",
        "        if i > 0: break   # 1번    \n",
        "    elif dic_train['hairstyle'][index] == '스포츠형':\n",
        "      img = dic_train_img_re[title+'.png']\n",
        "      x = img_to_array(img)\n",
        "      x = x.reshape((1,) + x.shape)\n",
        "      i = 0\n",
        "      # flow : augmentation 함수\n",
        "      for batch in datagen.flow(x, batch_size=1,save_to_dir=PATH_train_augm, save_prefix=title, save_format='png'):\n",
        "        i += 1\n",
        "        if i > 22: break   # 23번\n",
        "    elif dic_train['hairstyle'][index] == '웨이브형':\n",
        "      img = dic_train_img_re[title+'.png']\n",
        "      x = img_to_array(img)\n",
        "      x = x.reshape((1,) + x.shape)\n",
        "      i = 0\n",
        "      # flow : augmentation 함수\n",
        "      for batch in datagen.flow(x, batch_size=1,save_to_dir=PATH_train_augm, save_prefix=title, save_format='png'):\n",
        "        i += 1\n",
        "        if i > 3: break   # 4번\n",
        "    elif dic_train['hairstyle'][index] == '탈모형':\n",
        "      img = dic_train_img_re[title+'.png']\n",
        "      x = img_to_array(img)\n",
        "      x = x.reshape((1,) + x.shape)\n",
        "      i = 0\n",
        "      # flow : augmentation 함수\n",
        "      for batch in datagen.flow(x, batch_size=1,save_to_dir=PATH_train_augm, save_prefix=title, save_format='png'):\n",
        "        i += 1\n",
        "        if i > 132: break   # 133번\n",
        "        "
      ],
      "metadata": {
        "id": "G1AXSk20M__G",
        "colab": {
          "base_uri": "https://localhost:8080/",
          "referenced_widgets": [
            "f736f6c35f0f469fbd9fa533dc7071ca",
            "f4ca814ee46a420f917c0841de39b6de",
            "78f997ec2c094e2ca1c7f19b47b2799f",
            "b44c1ddd32024d4aa89a581054d5a753",
            "8845f25041124e169a24295a68716e50",
            "1b351f15bb834e3da14c806e6bad9ed4",
            "dd8b9f06801b4938a7afa369f71e3bd6",
            "e8bde71a86c548939495de1b94f95dd3",
            "f98b0da5ff75470ba36c5e1a672ef54f",
            "b22a402e1d4c4d73860f261c0174cce4",
            "dd5378f8a6a2423083211c3835dc0709"
          ],
          "height": 49
        },
        "outputId": "ca092a49-9ad7-40ac-fe9a-f67576eeb896"
      },
      "execution_count": null,
      "outputs": [
        {
          "output_type": "display_data",
          "data": {
            "text/plain": [
              "0it [00:00, ?it/s]"
            ],
            "application/vnd.jupyter.widget-view+json": {
              "version_major": 2,
              "version_minor": 0,
              "model_id": "f736f6c35f0f469fbd9fa533dc7071ca"
            }
          },
          "metadata": {}
        }
      ]
    },
    {
      "cell_type": "code",
      "source": [
        "#{'곱슬머리', '스포츠형', '웨이브형', '직모(생머리)', '탈모형'}\n",
        "# type7\n",
        "\n",
        "from tqdm.notebook import tqdm\n",
        "\n",
        "## 증강 사진 g드라이브 에 저장\n",
        "import cv2\n",
        "\n",
        "PATH_train_augm = '/content/drive/MyDrive/montage_project/train/augm7/'\n",
        "dic_val_img_re={}\n",
        "\n",
        "for index,title in tqdm(enumerate(dic_train['org_id'])):\n",
        "    if index <1000:\n",
        "      dic_val_img_re[title]= dic_train_img_re[title+'.png']\n",
        "      continue\n",
        "    if dic_train['hairstyle'][index] == '곱슬머리':\n",
        "      img = dic_train_img_re[title+'.png']\n",
        "      x = img_to_array(img)\n",
        "      x = x.reshape((1,) + x.shape)\n",
        "      i = 0\n",
        "      # flow : augmentation 함수\n",
        "      for batch in datagen.flow(x, batch_size=1,save_to_dir=PATH_train_augm, save_prefix=title, save_format='png'):\n",
        "        i += 1\n",
        "        if i > 0: break   # 1번    \n",
        "    elif dic_train['hairstyle'][index] == '스포츠형':\n",
        "      img = dic_train_img_re[title+'.png']\n",
        "      x = img_to_array(img)\n",
        "      x = x.reshape((1,) + x.shape)\n",
        "      i = 0\n",
        "      # flow : augmentation 함수\n",
        "      for batch in datagen.flow(x, batch_size=1,save_to_dir=PATH_train_augm, save_prefix=title, save_format='png'):\n",
        "        i += 1\n",
        "        if i > 22: break   # 23번\n",
        "    elif dic_train['hairstyle'][index] == '웨이브형':\n",
        "      img = dic_train_img_re[title+'.png']\n",
        "      x = img_to_array(img)\n",
        "      x = x.reshape((1,) + x.shape)\n",
        "      i = 0\n",
        "      # flow : augmentation 함수\n",
        "      for batch in datagen.flow(x, batch_size=1,save_to_dir=PATH_train_augm, save_prefix=title, save_format='png'):\n",
        "        i += 1\n",
        "        if i > 3: break   # 4번\n",
        "    elif dic_train['hairstyle'][index] == '탈모형':\n",
        "      img = dic_train_img_re[title+'.png']\n",
        "      x = img_to_array(img)\n",
        "      x = x.reshape((1,) + x.shape)\n",
        "      i = 0\n",
        "      # flow : augmentation 함수\n",
        "      for batch in datagen.flow(x, batch_size=1,save_to_dir=PATH_train_augm, save_prefix=title, save_format='png'):\n",
        "        i += 1\n",
        "        if i > 132: break   # 133번\n",
        "        "
      ],
      "metadata": {
        "colab": {
          "base_uri": "https://localhost:8080/",
          "height": 49,
          "referenced_widgets": [
            "6caa53eaf458439598afbe884628effa",
            "e30224f802074b829cde2b764a2b7486",
            "3e06156e99b141df988243e43b5a4e00",
            "40e869a7dbc04a73b2f70a17db882baf",
            "98b95ae0241f432f8ab6775395678c5b",
            "775c17cec5cb49b08315f2164a49beb3",
            "ccb3c1d439e6467faee51dc8f08ea4e1",
            "9ca8d458017540a090bfe0129ef271cd",
            "26252cdb88f14dc18e16cdbf0e99fb1e",
            "9d9548e00d224e89830fd7fb27679752",
            "6ddaf71d8e8b4a93acfcd41d274789bb"
          ]
        },
        "id": "T5hT3GHdc_gn",
        "outputId": "6efb2935-3b0c-489a-bc67-aa86eff64206"
      },
      "execution_count": null,
      "outputs": [
        {
          "output_type": "display_data",
          "data": {
            "text/plain": [
              "0it [00:00, ?it/s]"
            ],
            "application/vnd.jupyter.widget-view+json": {
              "version_major": 2,
              "version_minor": 0,
              "model_id": "6caa53eaf458439598afbe884628effa"
            }
          },
          "metadata": {}
        }
      ]
    },
    {
      "cell_type": "code",
      "source": [
        "cd /content/drive/MyDrive/montage_project/train/augm7/"
      ],
      "metadata": {
        "colab": {
          "base_uri": "https://localhost:8080/"
        },
        "id": "IiaUyM54X3sR",
        "outputId": "caa9d81b-16dd-4c8b-ee67-b403419e99f9"
      },
      "execution_count": null,
      "outputs": [
        {
          "output_type": "stream",
          "name": "stdout",
          "text": [
            "/content/drive/MyDrive/montage_project/train/augm7\n"
          ]
        }
      ]
    },
    {
      "cell_type": "code",
      "source": [
        "ls -l | grep ^- | wc -l"
      ],
      "metadata": {
        "colab": {
          "base_uri": "https://localhost:8080/"
        },
        "id": "J2i8JLQgX8Mz",
        "outputId": "e989d942-7e9b-428c-e158-88e13d1b2bd9"
      },
      "execution_count": null,
      "outputs": [
        {
          "output_type": "stream",
          "name": "stdout",
          "text": [
            "13686\n"
          ]
        }
      ]
    },
    {
      "cell_type": "code",
      "source": [
        "len(dic_val_img_re)"
      ],
      "metadata": {
        "colab": {
          "base_uri": "https://localhost:8080/"
        },
        "id": "Vz84LFt0eCPt",
        "outputId": "9c6917b0-074b-4eec-c71e-fe849f9bb86c"
      },
      "execution_count": null,
      "outputs": [
        {
          "output_type": "execute_result",
          "data": {
            "text/plain": [
              "1000"
            ]
          },
          "metadata": {},
          "execution_count": 42
        }
      ]
    },
    {
      "cell_type": "code",
      "source": [
        "import pickle\n",
        "import gzip\n",
        "\n",
        "with gzip.open(PATH_train+'dic_val_img_re_type7.pickle','wb') as f:\n",
        "  pickle.dump(dic_val_img_re,f)\n"
      ],
      "metadata": {
        "id": "NFEN0Y6weHf2"
      },
      "execution_count": null,
      "outputs": []
    },
    {
      "cell_type": "code",
      "source": [],
      "metadata": {
        "id": "Iplcu7YAeHY0"
      },
      "execution_count": null,
      "outputs": []
    },
    {
      "cell_type": "code",
      "source": [
        "import os\n",
        "PATH_train_augm = '/content/drive/MyDrive/montage_project/train/augm7/'\n",
        "\n",
        "train_augm_list = os.listdir(PATH_train_augm)\n",
        "\n",
        "## argm파일 9086...?개 이름 list\n",
        "filename_Ta = [file for file in train_augm_list if file.endswith('.png')] \n",
        "print(len(filename_Ta))\n",
        "\n",
        "import cv2 # 이미지를 읽어들일때 사용(저장할때 사용)\n",
        "\n",
        "dic_pic = {}\n",
        "for i,title in enumerate(filename_Ta):\n",
        "    # 이미지 불러오기!\n",
        "    img = cv2.imread(PATH_train_augm+title,cv2.IMREAD_COLOR)\n",
        "    img_ar=np.array(img)\n",
        "    dic_pic[title]=img_ar\n",
        "\n",
        "\n",
        "import pickle\n",
        "import gzip\n",
        "\n",
        "with gzip.open(PATH_train+'dic_train_img_aut7.pickle','wb') as f:\n",
        "  pickle.dump(dic_pic,f)\n"
      ],
      "metadata": {
        "colab": {
          "base_uri": "https://localhost:8080/"
        },
        "id": "E_uYj2BA4dWG",
        "outputId": "c9817110-304b-4b6f-bcd2-3197eccc21c5"
      },
      "execution_count": null,
      "outputs": [
        {
          "output_type": "stream",
          "name": "stdout",
          "text": [
            "13686\n"
          ]
        }
      ]
    },
    {
      "cell_type": "code",
      "source": [
        "len(dic_pic)"
      ],
      "metadata": {
        "colab": {
          "base_uri": "https://localhost:8080/"
        },
        "id": "BCXa5Fmm9exB",
        "outputId": "8177fa7f-171e-47dc-9c60-7ffcde0c8cc4"
      },
      "execution_count": null,
      "outputs": [
        {
          "output_type": "execute_result",
          "data": {
            "text/plain": [
              "13686"
            ]
          },
          "metadata": {},
          "execution_count": 47
        }
      ]
    },
    {
      "cell_type": "markdown",
      "metadata": {
        "id": "nccCeZHQ2lYQ"
      },
      "source": []
    },
    {
      "cell_type": "markdown",
      "metadata": {
        "id": "aRm2h7Bq2r0d"
      },
      "source": [
        "# **train Lable 만들기***"
      ]
    },
    {
      "cell_type": "code",
      "source": [
        "import gzip\n",
        "\n",
        "## dic re 사진 불러오기!\n",
        "with gzip.open(PATH_train+'dic_train_img_re.pickle','rb') as f:\n",
        "  dic_train_img_re = pickle.load(f)\n",
        "\n",
        "print(len(dic_train_img_re),dic_train_img_re['20.png'].shape)"
      ],
      "metadata": {
        "colab": {
          "base_uri": "https://localhost:8080/"
        },
        "id": "LaC6gmrX-5b1",
        "outputId": "0b73388f-bf13-4e42-a048-1d42e0cc454e"
      },
      "execution_count": null,
      "outputs": [
        {
          "output_type": "stream",
          "name": "stdout",
          "text": [
            "8071 (224, 224, 3)\n"
          ]
        }
      ]
    },
    {
      "cell_type": "code",
      "source": [
        "## dic au 사진 불러오기!\n",
        "with gzip.open(PATH_train+'dic_train_img_aut7.pickle','rb') as g:\n",
        "  dic_train_img_au = pickle.load(g)\n",
        "\n",
        "len(dic_train_img_au)"
      ],
      "metadata": {
        "colab": {
          "base_uri": "https://localhost:8080/"
        },
        "id": "V9_SeU6cuvM8",
        "outputId": "9bacf4e9-c049-4f0e-bfec-7a34d4e5c6aa"
      },
      "execution_count": null,
      "outputs": [
        {
          "output_type": "execute_result",
          "data": {
            "text/plain": [
              "13686"
            ]
          },
          "metadata": {},
          "execution_count": 49
        }
      ]
    },
    {
      "cell_type": "code",
      "source": [
        "## dic au 사진 불러오기!\n",
        "with gzip.open(PATH_train+'dic_val_img_re_type7.pickle','rb') as c:\n",
        "  dic_val_img_re = pickle.load(c)\n",
        "\n",
        "len(dic_val_img_re)"
      ],
      "metadata": {
        "colab": {
          "base_uri": "https://localhost:8080/"
        },
        "id": "bxlzZVzUhjLI",
        "outputId": "236a6f19-49e7-4371-85ec-3bd10a6323e0"
      },
      "execution_count": null,
      "outputs": [
        {
          "output_type": "execute_result",
          "data": {
            "text/plain": [
              "1000"
            ]
          },
          "metadata": {},
          "execution_count": 50
        }
      ]
    },
    {
      "cell_type": "code",
      "source": [
        "# dic_train json 가져오기\n",
        "\n",
        "import pickle\n",
        "import gzip\n",
        "\n",
        "\n",
        "with gzip.open(PATH_train+'dic_train_json.pickle','rb') as f:\n",
        "  dic_train=pickle.load(f)\n",
        "\n",
        "len(dic_train)"
      ],
      "metadata": {
        "colab": {
          "base_uri": "https://localhost:8080/"
        },
        "id": "6x45nVJbjyX2",
        "outputId": "694039e4-99be-410f-c195-dc85fc0854ee"
      },
      "execution_count": null,
      "outputs": [
        {
          "output_type": "execute_result",
          "data": {
            "text/plain": [
              "6"
            ]
          },
          "metadata": {},
          "execution_count": 51
        }
      ]
    },
    {
      "cell_type": "code",
      "source": [
        "# type7\n",
        "train_img_list=[]\n",
        "train_hairstyle_label=[]\n",
        "train_orgid_list=[]\n",
        "# 원본 전처리\n",
        "#{'곱슬머리', '스포츠형', '웨이브형', '직모(생머리)', '탈모형'}\n",
        "\n",
        "for i,title in enumerate(dic_train_img_re.keys()):\n",
        "  # 이미지 title,org_id = v -> title_num\n",
        "  title_num = title.split('.')[0]\n",
        "  # img list 만들기\n",
        "  train_img_list.append(dic_train_img_re[title])\n",
        "  # org_id 둘러보고 dic_train 값 제공\n",
        "  for j,k in enumerate(dic_train['org_id']):\n",
        "    if k == title_num:\n",
        "      train_orgid_list.append(title_num)\n",
        "      # hairstyle label 만들기   \n",
        "      hairstyle= dic_train['hairstyle'][j]\n",
        "      if(hairstyle =='곱슬머리'):  train_hairstyle_label.append(0)\n",
        "      elif(hairstyle =='스포츠형' ):  train_hairstyle_label.append(1)\n",
        "      elif(hairstyle =='웨이브형'):  train_hairstyle_label.append(2)\n",
        "      elif(hairstyle =='직모(생머리)'): train_hairstyle_label.append(3)\n",
        "      elif(hairstyle == '탈모형'):  train_hairstyle_label.append(4)"
      ],
      "metadata": {
        "id": "-rjOpzqFgaAw"
      },
      "execution_count": null,
      "outputs": []
    },
    {
      "cell_type": "code",
      "source": [
        "# type7\n",
        "val_img_list=[]\n",
        "val_hairstyle_label=[]\n",
        "# 원본 전처리\n",
        "#{'곱슬머리', '스포츠형', '웨이브형', '직모(생머리)', '탈모형'}\n",
        "\n",
        "for i,title in enumerate(dic_val_img_re.keys()):\n",
        "  # 이미지 title,org_id = v -> title_num\n",
        "  title_num = title.split('.')[0]\n",
        "  # val img list 만들기\n",
        "  val_img_list.append(dic_val_img_re[title])\n",
        "  for j,k in enumerate(dic_train['org_id']):\n",
        "    if k == title_num:\n",
        "      # hairstyle label 만들기  \n",
        "      hairstyle= dic_train['hairstyle'][j]\n",
        "      if(hairstyle =='곱슬머리'):  val_hairstyle_label.append(0)\n",
        "      elif(hairstyle =='스포츠형' ):  val_hairstyle_label.append(1)\n",
        "      elif(hairstyle =='웨이브형'):  val_hairstyle_label.append(2)\n",
        "      elif(hairstyle =='직모(생머리)'): val_hairstyle_label.append(3)\n",
        "      elif(hairstyle == '탈모형'):  val_hairstyle_label.append(4)"
      ],
      "metadata": {
        "id": "hSnptAUMi-Xq"
      },
      "execution_count": null,
      "outputs": []
    },
    {
      "cell_type": "code",
      "source": [
        "print(len(train_img_list),len(train_orgid_list),len(train_hairstyle_label),len(val_img_list),len(val_hairstyle_label))"
      ],
      "metadata": {
        "colab": {
          "base_uri": "https://localhost:8080/"
        },
        "id": "yL6UkpcRR6D2",
        "outputId": "7ab865b2-2917-4350-ace0-efe3cd9382c0"
      },
      "execution_count": null,
      "outputs": [
        {
          "output_type": "stream",
          "name": "stdout",
          "text": [
            "8071 8071 8071 1000 1000\n"
          ]
        }
      ]
    },
    {
      "cell_type": "code",
      "execution_count": null,
      "metadata": {
        "id": "kDg4_9IQ2r0e"
      },
      "outputs": [],
      "source": [
        "# 원본 전처리\n",
        "#{'곱슬머리', '스포츠형', '웨이브형', '직모(생머리)', '탈모형'}\n",
        "# type2\n",
        "s=0\n",
        "for i,title in enumerate(dic_train_img_re.keys()):\n",
        "  # img list 만들기\n",
        "  # 이미지 title,org_id = v -> title_num\n",
        " # print(v)\n",
        "  title_num = title.split('.')[0]\n",
        "  # org_id 둘러보고 dic_train 값 제공\n",
        "  for j,k in enumerate(dic_train['org_id']):\n",
        "    if k == title_num:\n",
        "#      print(j,k)\n",
        "      # age label 만들기\n",
        "      age= float(dic_train['age'][j])\n",
        "      if 20 <= age <35 :  train_age_label.append(0)\n",
        "      elif 35 <= i < 50 :  train_age_label.append(1)\n",
        "      else: train_age_label.append(2)\n",
        "      # gender label 만들기\n",
        "      gender=dic_train['gender'][j]\n",
        "      if(gender =='M'): train_gender_label.append(0)\n",
        "      else: train_gender_label.append(1)\n",
        "      # face label 만들기\n",
        "      face = dic_train['face'][j]\n",
        "      if(face =='계란형'):  train_face_label.append(0)\n",
        "      elif(face =='긴형'):  train_face_label.append(1)\n",
        "      elif(face =='둥근형'):  train_face_label.append(2)\n",
        "      else:  train_face_label.append(3)\n",
        "      \n",
        "      # hairstyle label 만들기  \n",
        "      hairstyle= dic_train['hairstyle'][j]\n",
        "      if(hairstyle =='곱슬머리'):  \n",
        "        train_hairstyle_label.append(0)\n",
        "        train_img_list.append(dic_train_img_re[title])\n",
        "      elif(hairstyle =='스포츠형' ):  \n",
        "        train_hairstyle_label.append(1)\n",
        "        train_img_list.append(dic_train_img_re[title])\n",
        "      elif(hairstyle =='웨이브형'):  \n",
        "        train_hairstyle_label.append(2)\n",
        "        train_img_list.append(dic_train_img_re[title])\n",
        "      elif(hairstyle =='직모(생머리)' and s <2500): \n",
        "        train_hairstyle_label.append(3)\n",
        "        train_img_list.append(dic_train_img_re[title])\n",
        "        s+=1\n",
        "      elif(hairstyle == '탈모형'):  \n",
        "        train_hairstyle_label.append(4)\n",
        "        train_img_list.append(dic_train_img_re[title])\n",
        "\n",
        "      # eyebrows label 만들기  \n",
        "      eyebrows= dic_train['eyebrows'][j]\n",
        "      if(eyebrows =='각진형'):  train_eyebrows_label.append(0)\n",
        "      elif(eyebrows =='둥근형'):  train_eyebrows_label.append(1)\n",
        "      elif(eyebrows =='물결형'):  train_eyebrows_label.append(2)\n",
        "      elif(eyebrows =='직선형'):  train_eyebrows_label.append(3)\n",
        "      else:  train_eyebrows_label.append(4)"
      ]
    },
    {
      "cell_type": "code",
      "execution_count": null,
      "metadata": {
        "colab": {
          "base_uri": "https://localhost:8080/"
        },
        "outputId": "695d4131-0ce0-4b85-c4d8-728e1737f13b",
        "id": "s2LDhp4Y2r0e"
      },
      "outputs": [
        {
          "output_type": "stream",
          "name": "stdout",
          "text": [
            "8071 8071\n"
          ]
        }
      ],
      "source": [
        "print(len(train_img_list),len(train_hairstyle_label))"
      ]
    },
    {
      "cell_type": "code",
      "source": [
        "set(train_hairstyle_label)"
      ],
      "metadata": {
        "colab": {
          "base_uri": "https://localhost:8080/"
        },
        "id": "JrCITe3sam3v",
        "outputId": "06a252fc-57dc-4936-f729-917eed4d20ca"
      },
      "execution_count": null,
      "outputs": [
        {
          "output_type": "execute_result",
          "data": {
            "text/plain": [
              "{0, 1, 2, 3, 4}"
            ]
          },
          "metadata": {},
          "execution_count": 71
        }
      ]
    },
    {
      "cell_type": "code",
      "source": [
        "import collections, numpy\n",
        "\n",
        "aUnique = train_hairstyle_label\n",
        "\n",
        "unique, counts = numpy.unique(aUnique, return_counts=True)\n",
        "\n",
        "print(dict(zip(unique, counts)));  \n",
        "\n"
      ],
      "metadata": {
        "colab": {
          "base_uri": "https://localhost:8080/"
        },
        "id": "Dk5QA3yZait8",
        "outputId": "6f2155ad-4a9e-47f4-8d21-9c7bcad7f446"
      },
      "execution_count": null,
      "outputs": [
        {
          "output_type": "stream",
          "name": "stdout",
          "text": [
            "{0: 2392, 1: 199, 2: 976, 3: 4467, 4: 37}\n"
          ]
        }
      ]
    },
    {
      "cell_type": "code",
      "source": [
        "train_orgid_list[0]"
      ],
      "metadata": {
        "colab": {
          "base_uri": "https://localhost:8080/",
          "height": 36
        },
        "id": "s1k2vi6YcK95",
        "outputId": "d96b8bd3-32bd-4255-b997-5524e8ee9ef0"
      },
      "execution_count": null,
      "outputs": [
        {
          "output_type": "execute_result",
          "data": {
            "text/plain": [
              "'9539'"
            ],
            "application/vnd.google.colaboratory.intrinsic+json": {
              "type": "string"
            }
          },
          "metadata": {},
          "execution_count": 73
        }
      ]
    },
    {
      "cell_type": "code",
      "source": [
        "# 증강 추가 하기\n",
        "\n",
        "for i,title in enumerate(dic_train_img_au.keys()):\n",
        "  # img list 만들기\n",
        "  train_img_list.append(dic_train_img_au[title])\n",
        "  # 이미지 title,org_id = v -> title_num\n",
        " # print(v)\n",
        "  title = title.split('.')[0]\n",
        "  title_num = title.split('_0_')[0]\n",
        "  # org_id 둘러보고 dic_train 값 제공\n",
        "  for i,k in enumerate(train_orgid_list):\n",
        "    if k == title_num:\n",
        "      index = dic_train['org_id'].index(k)\n",
        "      # hairstyle label 만들기  \n",
        "      hairstyle= dic_train['hairstyle'][index]\n",
        "      if(hairstyle =='곱슬머리'): train_hairstyle_label.append(0)\n",
        "      elif(hairstyle =='스포츠형'):  train_hairstyle_label.append(1)\n",
        "      elif(hairstyle =='웨이브형'):  train_hairstyle_label.append(2)\n",
        "      elif(hairstyle =='직모(생머리)'):  train_hairstyle_label.append(3)\n",
        "      elif(hairstyle =='탈모형'):  train_hairstyle_label.append(4)"
      ],
      "metadata": {
        "id": "keYPGbaP3o80"
      },
      "execution_count": null,
      "outputs": []
    },
    {
      "cell_type": "code",
      "source": [
        "print(len(train_img_list),len(train_hairstyle_label),len(val_img_list),len(val_hairstyle_label))"
      ],
      "metadata": {
        "colab": {
          "base_uri": "https://localhost:8080/"
        },
        "id": "SpVRkBW4ujza",
        "outputId": "2f7498c1-de99-4996-ee7e-e8c949022be4"
      },
      "execution_count": null,
      "outputs": [
        {
          "output_type": "stream",
          "name": "stdout",
          "text": [
            "21757 21757 1000 1000\n"
          ]
        }
      ]
    },
    {
      "cell_type": "code",
      "source": [
        "type(train_hairstyle_label)"
      ],
      "metadata": {
        "colab": {
          "base_uri": "https://localhost:8080/"
        },
        "id": "JZNQPZLiZxIv",
        "outputId": "ee71e253-ac33-477b-a030-cfd33858b0ce"
      },
      "execution_count": null,
      "outputs": [
        {
          "output_type": "execute_result",
          "data": {
            "text/plain": [
              "list"
            ]
          },
          "metadata": {},
          "execution_count": 76
        }
      ]
    },
    {
      "cell_type": "code",
      "source": [
        "import collections, numpy\n",
        "\n",
        "aUnique = train_hairstyle_label\n",
        "\n",
        "unique, counts = numpy.unique(aUnique, return_counts=True)\n",
        "\n",
        "print(dict(zip(unique, counts)));  \n",
        "\n"
      ],
      "metadata": {
        "colab": {
          "base_uri": "https://localhost:8080/"
        },
        "id": "3BCjECjOaTrH",
        "outputId": "26db8951-da00-4d10-9f43-117528e2ee83"
      },
      "execution_count": null,
      "outputs": [
        {
          "output_type": "stream",
          "name": "stdout",
          "text": [
            "{0: 4508, 1: 4128, 2: 4388, 3: 4467, 4: 4266}\n"
          ]
        }
      ]
    },
    {
      "cell_type": "code",
      "source": [
        "import collections, numpy\n",
        "\n",
        "aUnique = val_hairstyle_label\n",
        "\n",
        "unique, counts = numpy.unique(aUnique, return_counts=True)\n",
        "\n",
        "print(dict(zip(unique, counts)));  \n",
        "\n"
      ],
      "metadata": {
        "colab": {
          "base_uri": "https://localhost:8080/"
        },
        "id": "74lHJ_sQkrST",
        "outputId": "3eee7229-d3f1-44e8-9c70-18b46b5b627d"
      },
      "execution_count": null,
      "outputs": [
        {
          "output_type": "stream",
          "name": "stdout",
          "text": [
            "{0: 276, 1: 28, 2: 123, 3: 568, 4: 5}\n"
          ]
        }
      ]
    },
    {
      "cell_type": "code",
      "source": [
        "import numpy as np\n",
        "train_img_ar = np.array(train_img_list)\n",
        "train_hairstyle_label = np.array(train_hairstyle_label)  \n",
        "val_img_ar = np.array(val_img_list)\n",
        "val_hairstyle_label = np.array(val_hairstyle_label)  \n"
      ],
      "metadata": {
        "id": "avd7VxqxnYJU"
      },
      "execution_count": null,
      "outputs": []
    },
    {
      "cell_type": "code",
      "source": [
        "print(len(train_img_ar),len(train_hairstyle_label),len(val_img_ar),len(val_hairstyle_label))"
      ],
      "metadata": {
        "colab": {
          "base_uri": "https://localhost:8080/"
        },
        "id": "YC1Nbnma3xZq",
        "outputId": "d6582ce2-b6b1-4eef-897a-d8fee81807eb"
      },
      "execution_count": null,
      "outputs": [
        {
          "output_type": "stream",
          "name": "stdout",
          "text": [
            "21757 21757 1000 1000\n"
          ]
        }
      ]
    },
    {
      "cell_type": "code",
      "source": [
        "dic_train_label={}\n",
        "dic_train_label['train_img_ar']= train_img_ar\n",
        "dic_train_label['train_hairstyle_label']= train_hairstyle_label\n",
        "dic_train_label['val_img_ar']= val_img_ar\n",
        "dic_train_label['val_hairstyle_label']= val_hairstyle_label\n",
        "\n",
        "len(dic_train_label),len(dic_train_label['train_img_ar']),len(dic_train_label['train_hairstyle_label']),len(dic_train_label['val_img_ar']),len(dic_train_label['val_hairstyle_label'])"
      ],
      "metadata": {
        "colab": {
          "base_uri": "https://localhost:8080/"
        },
        "id": "c0E6Q2ANtFKq",
        "outputId": "5f039bf7-b778-48ef-e8ea-7e1c583df00e"
      },
      "execution_count": null,
      "outputs": [
        {
          "output_type": "execute_result",
          "data": {
            "text/plain": [
              "(4, 21757, 21757, 1000, 1000)"
            ]
          },
          "metadata": {},
          "execution_count": 82
        }
      ]
    },
    {
      "cell_type": "code",
      "source": [
        "np.save(PATH_train+'np_train_img_type7',train_img_ar)"
      ],
      "metadata": {
        "id": "40gyY3ARj-E6"
      },
      "execution_count": null,
      "outputs": []
    },
    {
      "cell_type": "code",
      "source": [
        "np.save(PATH_train+'np_hairstyle_label_type7',train_hairstyle_label)"
      ],
      "metadata": {
        "id": "aDkyTOKek_pJ"
      },
      "execution_count": null,
      "outputs": []
    },
    {
      "cell_type": "code",
      "source": [
        "print(len(train_img_ar),len(train_hairstyle_label))"
      ],
      "metadata": {
        "id": "eDfVFShplAAU",
        "colab": {
          "base_uri": "https://localhost:8080/"
        },
        "outputId": "0c7a4940-0f4e-4799-c5b4-8303ec9afe85"
      },
      "execution_count": null,
      "outputs": [
        {
          "output_type": "stream",
          "name": "stdout",
          "text": [
            "12911 12911\n"
          ]
        }
      ]
    },
    {
      "cell_type": "code",
      "source": [
        "train_img_ar.shape"
      ],
      "metadata": {
        "colab": {
          "base_uri": "https://localhost:8080/"
        },
        "id": "yHYlaySAoxXg",
        "outputId": "7e9af06d-71d7-4a3d-d669-f0e165554407"
      },
      "execution_count": null,
      "outputs": [
        {
          "output_type": "execute_result",
          "data": {
            "text/plain": [
              "(12911, 224, 224, 3)"
            ]
          },
          "metadata": {},
          "execution_count": 90
        }
      ]
    },
    {
      "cell_type": "code",
      "source": [
        "train_hairstyle_label.shape"
      ],
      "metadata": {
        "colab": {
          "base_uri": "https://localhost:8080/"
        },
        "id": "qULU2HEwo1pD",
        "outputId": "55bfe9ad-fe85-41c3-d329-a239e6d868f1"
      },
      "execution_count": null,
      "outputs": [
        {
          "output_type": "execute_result",
          "data": {
            "text/plain": [
              "(12911,)"
            ]
          },
          "metadata": {},
          "execution_count": 91
        }
      ]
    },
    {
      "cell_type": "code",
      "source": [
        "import collections, numpy\n",
        "\n",
        "aUnique = train_hairstyle_label\n",
        "\n",
        "unique, counts = numpy.unique(aUnique, return_counts=True)\n",
        "\n",
        "print(dict(zip(unique, counts)));  \n",
        "\n"
      ],
      "metadata": {
        "colab": {
          "base_uri": "https://localhost:8080/"
        },
        "id": "MZ4NkB4Fo75B",
        "outputId": "febf4fd1-c919-4a24-9914-4d5cd8fc54a8"
      },
      "execution_count": null,
      "outputs": [
        {
          "output_type": "stream",
          "name": "stdout",
          "text": [
            "{0: 2392, 1: 2583, 2: 2928, 3: 2500, 4: 2508}\n"
          ]
        }
      ]
    },
    {
      "cell_type": "code",
      "source": [
        "from google.colab.patches import cv2_imshow\n",
        "\n",
        "cv2_imshow(dic_train_label['train_img_ar'][0])\n"
      ],
      "metadata": {
        "colab": {
          "base_uri": "https://localhost:8080/",
          "height": 241
        },
        "id": "UhtUPOrVuMy2",
        "outputId": "fe7cb660-0dcc-44bc-e7a4-b6502c05dd25"
      },
      "execution_count": null,
      "outputs": [
        {
          "output_type": "display_data",
          "data": {
            "text/plain": [
              "<PIL.Image.Image image mode=RGB size=224x224 at 0x7FD179D7E390>"
            ],
            "image/png": "[encoded data removed]"
          },
          "metadata": {}
        }
      ]
    },
    {
      "cell_type": "code",
      "source": [
        "print(dic_train_label['train_age_label'][0],dic_train_label['train_gender_label'][0],dic_train_label['train_face_label'][0],dic_train_label['train_hairstyle_label'][0])"
      ],
      "metadata": {
        "colab": {
          "base_uri": "https://localhost:8080/"
        },
        "id": "uXNAFCeQuQRr",
        "outputId": "218d8dcb-4c91-41db-8e6a-4264f3fb5a52"
      },
      "execution_count": null,
      "outputs": [
        {
          "output_type": "stream",
          "name": "stdout",
          "text": [
            "2 1 0 3\n"
          ]
        }
      ]
    },
    {
      "cell_type": "code",
      "source": [
        "# label g드라이브에 저장하기\n",
        "\n",
        "with gzip.open(PATH_train+'dic_train_label_type7.pickle','wb') as f:\n",
        "  pickle.dump(dic_train_label,f, protocol=4)\n"
      ],
      "metadata": {
        "id": "PaixbnG1s22H"
      },
      "execution_count": null,
      "outputs": []
    },
    {
      "cell_type": "code",
      "execution_count": null,
      "metadata": {
        "id": "el7sjTcj2r0f"
      },
      "outputs": [],
      "source": [
        "# 라벨 설정\n",
        "class_names_age = ['20~35','25~50','50']\n",
        "class_names_gender = ['M','F']\n",
        "class_names_face = ['계란형','긴형','둥근형','마름모형','사각형','역삼각형']\n",
        "class_names_hairstyle = ['곱슬머리','직모(생머리)','나머지']\n",
        "class_names_eyebrows =['각진형','둥근형','물결형','직선형','분류없음']"
      ]
    },
    {
      "cell_type": "markdown",
      "source": [],
      "metadata": {
        "id": "9vLHEgfGvcH0"
      }
    },
    {
      "cell_type": "markdown",
      "metadata": {
        "id": "18SZsfRUvcaC"
      },
      "source": [
        "# **test Lable 만들기***"
      ]
    },
    {
      "cell_type": "code",
      "source": [
        "## dic 사진 불러오기!\n",
        "with gzip.open(PATH_test+'dic_test_img_re.pickle','rb') as f:\n",
        "  dic_test_img_re = pickle.load(f)\n",
        "\n",
        "print(len(dic_test_img_re),dic_test_img_re['3301.png'].shape)"
      ],
      "metadata": {
        "colab": {
          "base_uri": "https://localhost:8080/"
        },
        "outputId": "3c595a31-dfef-4128-ccb3-2f2735c7bbd0",
        "id": "AgsPQPH9vcaD"
      },
      "execution_count": null,
      "outputs": [
        {
          "output_type": "stream",
          "name": "stdout",
          "text": [
            "1010 (224, 224, 3)\n"
          ]
        }
      ]
    },
    {
      "cell_type": "code",
      "source": [
        "## dic json 불러오기!\n",
        "with gzip.open(PATH_test+'dic_test_json.pickle','rb') as f:\n",
        "  dic_test = pickle.load(f)\n",
        "\n",
        "print(len(dic_test),len(dic_test['org_id']))"
      ],
      "metadata": {
        "colab": {
          "base_uri": "https://localhost:8080/"
        },
        "id": "xHnfXnA4wMcV",
        "outputId": "76570431-a3e0-4bd3-9c71-8bcc5950e315"
      },
      "execution_count": null,
      "outputs": [
        {
          "output_type": "stream",
          "name": "stdout",
          "text": [
            "6 1010\n"
          ]
        }
      ]
    },
    {
      "cell_type": "code",
      "source": [
        "import pickle\n",
        "import gzip\n",
        "\n",
        "\n",
        "with gzip.open(PATH_test+'dic_test_json.pickle','rb') as f:\n",
        "  dic_test=pickle.load(f)\n",
        "\n",
        "len(dic_test)"
      ],
      "metadata": {
        "colab": {
          "base_uri": "https://localhost:8080/"
        },
        "id": "Sy9mBgw6l5nz",
        "outputId": "41d4e187-938c-4746-c7f8-2959edaaf7e0"
      },
      "execution_count": null,
      "outputs": [
        {
          "output_type": "execute_result",
          "data": {
            "text/plain": [
              "6"
            ]
          },
          "metadata": {},
          "execution_count": 23
        }
      ]
    },
    {
      "cell_type": "code",
      "execution_count": null,
      "metadata": {
        "id": "Nzpc4N2SvcaD"
      },
      "outputs": [],
      "source": [
        "test_img_list=[]\n",
        "test_age_label=[]\n",
        "test_gender_label=[]\n",
        "test_face_label=[]\n",
        "test_hairstyle_label=[]\n",
        "test_eyebrows_label=[]\n",
        "\n",
        "\n",
        "for i,title in enumerate(dic_test_img_re.keys()):\n",
        "  # img list 만들기\n",
        "  test_img_list.append(dic_test_img_re[title])\n",
        "  # 이미지 title,org_id = v -> title_num\n",
        " # print(v)\n",
        "  title_num = title.split('.')[0]\n",
        "  # org_id 둘러보고 dic_train 값 제공\n",
        "  for j,k in enumerate(dic_test['org_id']):\n",
        "    if k == title_num:\n",
        "#      print(j,k)\n",
        "      # age label 만들기\n",
        "      age= float(dic_test['age'][j])\n",
        "      if 20 <= age <35 :  test_age_label.append(0)\n",
        "      elif 35 <= i < 50 :  test_age_label.append(1)\n",
        "      else: test_age_label.append(2)\n",
        "      # gender label 만들기\n",
        "      gender=dic_test['gender'][j]\n",
        "      if(gender =='M'): test_gender_label.append(0)\n",
        "      else: test_gender_label.append(1)\n",
        "      # face label 만들기\n",
        "      face = dic_test['face'][j]\n",
        "      if(face =='계란형'):  test_face_label.append(0)\n",
        "      elif(face =='긴형'):  test_face_label.append(1)\n",
        "      elif(face =='둥근형'):  test_face_label.append(2)\n",
        "      else:  test_face_label.append(3)\n",
        "      # hairstyle label 만들기  \n",
        "      hairstyle= dic_test['hairstyle'][j]\n",
        "      if(hairstyle =='곱슬머리'):  test_hairstyle_label.append(0)\n",
        "      elif(hairstyle =='직모(생머리)'):  test_hairstyle_label.append(1)\n",
        "      else:  test_hairstyle_label.append(2)\n",
        "      # eyebrows label 만들기  \n",
        "      eyebrows= dic_test['eyebrows'][j]\n",
        "      if(eyebrows =='각진형'):  test_eyebrows_label.append(0)\n",
        "      elif(eyebrows =='둥근형'):  test_eyebrows_label.append(1)\n",
        "      elif(eyebrows =='물결형'):  test_eyebrows_label.append(2)\n",
        "      elif(eyebrows =='직선형'):  test_eyebrows_label.append(3)\n",
        "      else:  test_eyebrows_label.append(4)"
      ]
    },
    {
      "cell_type": "code",
      "execution_count": null,
      "metadata": {
        "colab": {
          "base_uri": "https://localhost:8080/"
        },
        "outputId": "0b237fb8-2ae3-4a32-c909-8ba80a77c3de",
        "id": "GP4wUQGCvcaE"
      },
      "outputs": [
        {
          "output_type": "stream",
          "name": "stdout",
          "text": [
            "1010 1010 1010 1010 1010 1010\n"
          ]
        }
      ],
      "source": [
        "print(len(test_img_list),len(test_age_label),len(test_gender_label),len(test_face_label),len(test_hairstyle_label),len(test_eyebrows_label))"
      ]
    },
    {
      "cell_type": "code",
      "source": [
        "import numpy as np\n",
        "test_img_ar = np.array(test_img_list)\n",
        "test_age_label = np.array(test_age_label)\n",
        "test_gender_label = np.array(test_gender_label)\n",
        "test_face_label = np.array(test_face_label)\n",
        "test_hairstyle_label = np.array(test_hairstyle_label)  \n",
        "test_eyebrows_label= np.array(test_eyebrows_label)  "
      ],
      "metadata": {
        "id": "SP5L2OYWx_Vi"
      },
      "execution_count": null,
      "outputs": []
    },
    {
      "cell_type": "code",
      "source": [
        "print(len(test_img_ar),len(test_age_label),len(test_gender_label),len(test_face_label),len(test_hairstyle_label),len(test_eyebrows_label))"
      ],
      "metadata": {
        "colab": {
          "base_uri": "https://localhost:8080/"
        },
        "id": "g_atFJFeyIaF",
        "outputId": "edc2048b-10d1-4704-cae3-2bd805bac8e9"
      },
      "execution_count": null,
      "outputs": [
        {
          "output_type": "stream",
          "name": "stdout",
          "text": [
            "1010 1010 1010 1010 1010 1010\n"
          ]
        }
      ]
    },
    {
      "cell_type": "code",
      "source": [
        "dic_test_label={}\n",
        "dic_test_label['test_img_ar']= test_img_ar\n",
        "dic_test_label['test_hairstyle_label']= test_hairstyle_label\n",
        "len(dic_test_label),len(dic_test_label['test_img_ar'])"
      ],
      "metadata": {
        "colab": {
          "base_uri": "https://localhost:8080/"
        },
        "outputId": "3a70e535-d8d4-478c-8ac5-595aecd24a12",
        "id": "Fn91YFApvcaE"
      },
      "execution_count": null,
      "outputs": [
        {
          "output_type": "execute_result",
          "data": {
            "text/plain": [
              "(2, 1010)"
            ]
          },
          "metadata": {},
          "execution_count": 29
        }
      ]
    },
    {
      "cell_type": "code",
      "source": [
        "from google.colab.patches import cv2_imshow\n",
        "\n",
        "cv2_imshow(dic_test_label['test_img_ar'][0])\n"
      ],
      "metadata": {
        "colab": {
          "base_uri": "https://localhost:8080/",
          "height": 241
        },
        "outputId": "d0ce129e-b74c-4cff-c6ff-ba2d3d303670",
        "id": "BKOE0MwpvcaE"
      },
      "execution_count": null,
      "outputs": [
        {
          "output_type": "display_data",
          "data": {
            "text/plain": [
              "<PIL.Image.Image image mode=RGB size=224x224 at 0x7F7FF654E9D0>"
            ],
            "image/png": "[encoded data removed]"
          },
          "metadata": {}
        }
      ]
    },
    {
      "cell_type": "code",
      "source": [
        "print(dic_test_label['test_age_label'][0],dic_test_label['test_gender_label'][0],dic_test_label['test_face_label'][0],dic_test_label['test_hairstyle_label'][0])"
      ],
      "metadata": {
        "colab": {
          "base_uri": "https://localhost:8080/"
        },
        "outputId": "52f92b7d-139d-46bc-def9-21dfc4b0d333",
        "id": "lXIgFIvAvcaF"
      },
      "execution_count": null,
      "outputs": [
        {
          "output_type": "stream",
          "name": "stdout",
          "text": [
            "2 0 0 1\n"
          ]
        }
      ]
    },
    {
      "cell_type": "code",
      "source": [
        "# label g드라이브에 저장하기\n",
        "\n",
        "with gzip.open(PATH_test+'dic_test_label_type7.pickle','wb') as f:\n",
        "  pickle.dump(dic_test_label,f, protocol=4)\n"
      ],
      "metadata": {
        "id": "ETI9UfWuvcaF"
      },
      "execution_count": null,
      "outputs": []
    },
    {
      "cell_type": "code",
      "execution_count": null,
      "metadata": {
        "id": "oa-UXPQrvcaF"
      },
      "outputs": [],
      "source": [
        "# 라벨 설정\n",
        "class_names_age = ['20~35','25~50','50']\n",
        "class_names_gender = ['M','F']\n",
        "class_names_face = ['계란형','긴형','둥근형','마름모형','사각형','역삼각형']\n",
        "class_names_hairstyle = ['곱슬머리','직모(생머리)','나머지']\n",
        "class_names_eyebrows =['각진형','둥근형','물결형','직선형','분류없음']"
      ]
    },
    {
      "cell_type": "code",
      "source": [],
      "metadata": {
        "id": "gK_8TvkymKzw"
      },
      "execution_count": null,
      "outputs": []
    },
    {
      "cell_type": "markdown",
      "source": [
        "# ** 전처리 데이터 살펴보기**"
      ],
      "metadata": {
        "id": "LLqT4WvpgMrT"
      }
    },
    {
      "cell_type": "code",
      "source": [
        "## dic json 불러오기!\n",
        "import gzip\n",
        "\n",
        "with gzip.open(PATH_train+'dic_train_label_type6.pickle','rb') as f:\n",
        "  dic_train_label = pickle.load(f)\n",
        "\n",
        "len(dic_train_label)"
      ],
      "metadata": {
        "colab": {
          "base_uri": "https://localhost:8080/"
        },
        "id": "8zGjmiFNWGq-",
        "outputId": "fadc8e7b-85d9-43cf-9fc7-c5742eb25a95"
      },
      "execution_count": null,
      "outputs": [
        {
          "output_type": "execute_result",
          "data": {
            "text/plain": [
              "6"
            ]
          },
          "metadata": {},
          "execution_count": 21
        }
      ]
    },
    {
      "cell_type": "code",
      "source": [
        "dic_train_label.keys()"
      ],
      "metadata": {
        "colab": {
          "base_uri": "https://localhost:8080/"
        },
        "id": "6dk4caZ3gKbP",
        "outputId": "d8bfea86-cd19-4d52-f9be-9ba199a3f0e9"
      },
      "execution_count": null,
      "outputs": [
        {
          "output_type": "execute_result",
          "data": {
            "text/plain": [
              "dict_keys(['train_img_ar', 'train_age_label', 'train_gender_label', 'train_face_label', 'train_hairstyle_label', 'train_eyebrows_label'])"
            ]
          },
          "metadata": {},
          "execution_count": 22
        }
      ]
    },
    {
      "cell_type": "code",
      "source": [
        "len(dic_train_label['train_img_ar'])"
      ],
      "metadata": {
        "colab": {
          "base_uri": "https://localhost:8080/"
        },
        "id": "y9QFDhaggKrN",
        "outputId": "07d85e5b-57ee-4cd2-d116-642085d834c6"
      },
      "execution_count": null,
      "outputs": [
        {
          "output_type": "execute_result",
          "data": {
            "text/plain": [
              "23832"
            ]
          },
          "metadata": {},
          "execution_count": 23
        }
      ]
    },
    {
      "cell_type": "code",
      "source": [
        "import numpy \n",
        "\n",
        "unique, counts = numpy.unique(dic_train_label['train_hairstyle_label'], return_counts=True)\n",
        "dict(zip(unique, counts))"
      ],
      "metadata": {
        "colab": {
          "base_uri": "https://localhost:8080/"
        },
        "id": "8Tb0A8eZiskr",
        "outputId": "7dd45f87-7784-482d-96ec-59e94a7044b6"
      },
      "execution_count": null,
      "outputs": [
        {
          "output_type": "execute_result",
          "data": {
            "text/plain": [
              "{0: 4784, 1: 4773, 2: 4880, 3: 4467, 4: 4928}"
            ]
          },
          "metadata": {},
          "execution_count": 24
        }
      ]
    },
    {
      "cell_type": "code",
      "source": [
        "len(dic_train_label['train_hairstyle_label'])"
      ],
      "metadata": {
        "colab": {
          "base_uri": "https://localhost:8080/"
        },
        "id": "Dd0hei3lf5Kn",
        "outputId": "ca9b4bec-29a9-44dc-89d0-7af590bb8843"
      },
      "execution_count": null,
      "outputs": [
        {
          "output_type": "execute_result",
          "data": {
            "text/plain": [
              "23832"
            ]
          },
          "metadata": {},
          "execution_count": 20
        }
      ]
    },
    {
      "cell_type": "code",
      "source": [
        "np.save(PATH_train+'np_train_img_type6',dic_train_label['train_img_ar'])"
      ],
      "metadata": {
        "id": "X35Amft9iz_N"
      },
      "execution_count": null,
      "outputs": []
    },
    {
      "cell_type": "code",
      "source": [
        "np.save(PATH_train+'np_train_label_type6',dic_train_label['train_hairstyle_label'])"
      ],
      "metadata": {
        "id": "_YX1cVKjya1_"
      },
      "execution_count": null,
      "outputs": []
    },
    {
      "cell_type": "code",
      "source": [
        "## dic json 불러오기!\n",
        "import gzip\n",
        "\n",
        "with gzip.open(PATH_train+'dic_train_label_type1.pickle','rb') as f:\n",
        "  dic_train_label = pickle.load(f)\n",
        "\n",
        "len(dic_train_label)"
      ],
      "metadata": {
        "id": "P29tMuHGf1Hh",
        "colab": {
          "base_uri": "https://localhost:8080/"
        },
        "outputId": "415e4b3c-1325-46fc-83bc-f2913479dd08"
      },
      "execution_count": null,
      "outputs": [
        {
          "output_type": "execute_result",
          "data": {
            "text/plain": [
              "6"
            ]
          },
          "metadata": {},
          "execution_count": 11
        }
      ]
    },
    {
      "cell_type": "code",
      "source": [],
      "metadata": {
        "id": "9M0I_Orhy6_E"
      },
      "execution_count": null,
      "outputs": []
    },
    {
      "cell_type": "code",
      "source": [
        "dic_train_label.keys()"
      ],
      "metadata": {
        "colab": {
          "base_uri": "https://localhost:8080/"
        },
        "id": "rtQZFPOixDuv",
        "outputId": "d0f6cfd6-ee48-44b3-84e1-6b36bb751391"
      },
      "execution_count": null,
      "outputs": [
        {
          "output_type": "execute_result",
          "data": {
            "text/plain": [
              "dict_keys(['train_img_ar', 'train_age_label', 'train_gender_label', 'train_face_label', 'train_hairstyle_label', 'train_eyebrows_label'])"
            ]
          },
          "metadata": {},
          "execution_count": 12
        }
      ]
    },
    {
      "cell_type": "code",
      "source": [
        "len(dic_train_label['train_img_ar'])\n"
      ],
      "metadata": {
        "colab": {
          "base_uri": "https://localhost:8080/"
        },
        "id": "dS4OyLRaxSyQ",
        "outputId": "88490015-7b5d-4506-93f4-d13853e31e97"
      },
      "execution_count": null,
      "outputs": [
        {
          "output_type": "execute_result",
          "data": {
            "text/plain": [
              "24070"
            ]
          },
          "metadata": {},
          "execution_count": 13
        }
      ]
    },
    {
      "cell_type": "code",
      "source": [
        "import numpy \n",
        "\n",
        "unique, counts = numpy.unique(dic_train_label['train_hairstyle_label'], return_counts=True)\n",
        "dict(zip(unique, counts))"
      ],
      "metadata": {
        "colab": {
          "base_uri": "https://localhost:8080/"
        },
        "id": "ywAjocqwxUJP",
        "outputId": "686aa68f-79b8-479a-8a18-1b3e359f67f5"
      },
      "execution_count": null,
      "outputs": [
        {
          "output_type": "execute_result",
          "data": {
            "text/plain": [
              "{0: 4784, 1: 4972, 2: 4880, 3: 4467, 4: 4967}"
            ]
          },
          "metadata": {},
          "execution_count": 14
        }
      ]
    },
    {
      "cell_type": "code",
      "source": [
        "len(dic_train_label['train_hairstyle_label'])"
      ],
      "metadata": {
        "colab": {
          "base_uri": "https://localhost:8080/"
        },
        "id": "81IgrxKCxVyC",
        "outputId": "d9a3be3c-d062-4c5a-b816-bfb286b4049a"
      },
      "execution_count": null,
      "outputs": [
        {
          "output_type": "execute_result",
          "data": {
            "text/plain": [
              "24070"
            ]
          },
          "metadata": {},
          "execution_count": 15
        }
      ]
    },
    {
      "cell_type": "code",
      "source": [],
      "metadata": {
        "id": "V6iLESa8xXYn"
      },
      "execution_count": null,
      "outputs": []
    }
  ],
  "metadata": {
    "colab": {
      "collapsed_sections": [
        "oiTEPJUnty6T",
        "FFwP4wHruLak"
      ],
      "machine_shape": "hm",
      "provenance": []
    },
    "gpuClass": "standard",
    "kernelspec": {
      "display_name": "Python 3.10.5 64-bit",
      "language": "python",
      "name": "python3"
    },
    "language_info": {
      "name": "python",
      "version": "3.10.5"
    },
    "vscode": {
      "interpreter": {
        "hash": "aee8b7b246df8f9039afb4144a1f6fd8d2ca17a180786b69acc140d282b71a49"
      }
    },
    "widgets": {
      "application/vnd.jupyter.widget-state+json": {
        "7f8831871f49422b9cd49696676b29da": {
          "model_module": "@jupyter-widgets/controls",
          "model_name": "HBoxModel",
          "model_module_version": "1.5.0",
          "state": {
            "_dom_classes": [],
            "_model_module": "@jupyter-widgets/controls",
            "_model_module_version": "1.5.0",
            "_model_name": "HBoxModel",
            "_view_count": null,
            "_view_module": "@jupyter-widgets/controls",
            "_view_module_version": "1.5.0",
            "_view_name": "HBoxView",
            "box_style": "",
            "children": [
              "IPY_MODEL_aebc0c0934424626b12bf6cd7813fe01",
              "IPY_MODEL_f7966dbf6e5a43fbb67e8af030d2c3f3",
              "IPY_MODEL_b422219ef6a543c4af13ae5c2f160c13"
            ],
            "layout": "IPY_MODEL_2b3c14a5faad47f789cd647dc47b890f"
          }
        },
        "aebc0c0934424626b12bf6cd7813fe01": {
          "model_module": "@jupyter-widgets/controls",
          "model_name": "HTMLModel",
          "model_module_version": "1.5.0",
          "state": {
            "_dom_classes": [],
            "_model_module": "@jupyter-widgets/controls",
            "_model_module_version": "1.5.0",
            "_model_name": "HTMLModel",
            "_view_count": null,
            "_view_module": "@jupyter-widgets/controls",
            "_view_module_version": "1.5.0",
            "_view_name": "HTMLView",
            "description": "",
            "description_tooltip": null,
            "layout": "IPY_MODEL_56da67a4871e41119bb3af29c427dcf2",
            "placeholder": "​",
            "style": "IPY_MODEL_f7ea62bd43954eeb96e5f82ec636d390",
            "value": ""
          }
        },
        "f7966dbf6e5a43fbb67e8af030d2c3f3": {
          "model_module": "@jupyter-widgets/controls",
          "model_name": "FloatProgressModel",
          "model_module_version": "1.5.0",
          "state": {
            "_dom_classes": [],
            "_model_module": "@jupyter-widgets/controls",
            "_model_module_version": "1.5.0",
            "_model_name": "FloatProgressModel",
            "_view_count": null,
            "_view_module": "@jupyter-widgets/controls",
            "_view_module_version": "1.5.0",
            "_view_name": "ProgressView",
            "bar_style": "danger",
            "description": "",
            "description_tooltip": null,
            "layout": "IPY_MODEL_efdff128a10340b7b7304835c45dd5c5",
            "max": 1,
            "min": 0,
            "orientation": "horizontal",
            "style": "IPY_MODEL_a03c8d4e756242b6a3dd4d19ee2fabf4",
            "value": 1
          }
        },
        "b422219ef6a543c4af13ae5c2f160c13": {
          "model_module": "@jupyter-widgets/controls",
          "model_name": "HTMLModel",
          "model_module_version": "1.5.0",
          "state": {
            "_dom_classes": [],
            "_model_module": "@jupyter-widgets/controls",
            "_model_module_version": "1.5.0",
            "_model_name": "HTMLModel",
            "_view_count": null,
            "_view_module": "@jupyter-widgets/controls",
            "_view_module_version": "1.5.0",
            "_view_name": "HTMLView",
            "description": "",
            "description_tooltip": null,
            "layout": "IPY_MODEL_a6b69c69708949f1abe5e1d0237ff620",
            "placeholder": "​",
            "style": "IPY_MODEL_05ab5a760aa84be98d4cf5165c943968",
            "value": " 10/? [00:00&lt;00:00, 41.99it/s]"
          }
        },
        "2b3c14a5faad47f789cd647dc47b890f": {
          "model_module": "@jupyter-widgets/base",
          "model_name": "LayoutModel",
          "model_module_version": "1.2.0",
          "state": {
            "_model_module": "@jupyter-widgets/base",
            "_model_module_version": "1.2.0",
            "_model_name": "LayoutModel",
            "_view_count": null,
            "_view_module": "@jupyter-widgets/base",
            "_view_module_version": "1.2.0",
            "_view_name": "LayoutView",
            "align_content": null,
            "align_items": null,
            "align_self": null,
            "border": null,
            "bottom": null,
            "display": null,
            "flex": null,
            "flex_flow": null,
            "grid_area": null,
            "grid_auto_columns": null,
            "grid_auto_flow": null,
            "grid_auto_rows": null,
            "grid_column": null,
            "grid_gap": null,
            "grid_row": null,
            "grid_template_areas": null,
            "grid_template_columns": null,
            "grid_template_rows": null,
            "height": null,
            "justify_content": null,
            "justify_items": null,
            "left": null,
            "margin": null,
            "max_height": null,
            "max_width": null,
            "min_height": null,
            "min_width": null,
            "object_fit": null,
            "object_position": null,
            "order": null,
            "overflow": null,
            "overflow_x": null,
            "overflow_y": null,
            "padding": null,
            "right": null,
            "top": null,
            "visibility": null,
            "width": null
          }
        },
        "56da67a4871e41119bb3af29c427dcf2": {
          "model_module": "@jupyter-widgets/base",
          "model_name": "LayoutModel",
          "model_module_version": "1.2.0",
          "state": {
            "_model_module": "@jupyter-widgets/base",
            "_model_module_version": "1.2.0",
            "_model_name": "LayoutModel",
            "_view_count": null,
            "_view_module": "@jupyter-widgets/base",
            "_view_module_version": "1.2.0",
            "_view_name": "LayoutView",
            "align_content": null,
            "align_items": null,
            "align_self": null,
            "border": null,
            "bottom": null,
            "display": null,
            "flex": null,
            "flex_flow": null,
            "grid_area": null,
            "grid_auto_columns": null,
            "grid_auto_flow": null,
            "grid_auto_rows": null,
            "grid_column": null,
            "grid_gap": null,
            "grid_row": null,
            "grid_template_areas": null,
            "grid_template_columns": null,
            "grid_template_rows": null,
            "height": null,
            "justify_content": null,
            "justify_items": null,
            "left": null,
            "margin": null,
            "max_height": null,
            "max_width": null,
            "min_height": null,
            "min_width": null,
            "object_fit": null,
            "object_position": null,
            "order": null,
            "overflow": null,
            "overflow_x": null,
            "overflow_y": null,
            "padding": null,
            "right": null,
            "top": null,
            "visibility": null,
            "width": null
          }
        },
        "f7ea62bd43954eeb96e5f82ec636d390": {
          "model_module": "@jupyter-widgets/controls",
          "model_name": "DescriptionStyleModel",
          "model_module_version": "1.5.0",
          "state": {
            "_model_module": "@jupyter-widgets/controls",
            "_model_module_version": "1.5.0",
            "_model_name": "DescriptionStyleModel",
            "_view_count": null,
            "_view_module": "@jupyter-widgets/base",
            "_view_module_version": "1.2.0",
            "_view_name": "StyleView",
            "description_width": ""
          }
        },
        "efdff128a10340b7b7304835c45dd5c5": {
          "model_module": "@jupyter-widgets/base",
          "model_name": "LayoutModel",
          "model_module_version": "1.2.0",
          "state": {
            "_model_module": "@jupyter-widgets/base",
            "_model_module_version": "1.2.0",
            "_model_name": "LayoutModel",
            "_view_count": null,
            "_view_module": "@jupyter-widgets/base",
            "_view_module_version": "1.2.0",
            "_view_name": "LayoutView",
            "align_content": null,
            "align_items": null,
            "align_self": null,
            "border": null,
            "bottom": null,
            "display": null,
            "flex": null,
            "flex_flow": null,
            "grid_area": null,
            "grid_auto_columns": null,
            "grid_auto_flow": null,
            "grid_auto_rows": null,
            "grid_column": null,
            "grid_gap": null,
            "grid_row": null,
            "grid_template_areas": null,
            "grid_template_columns": null,
            "grid_template_rows": null,
            "height": null,
            "justify_content": null,
            "justify_items": null,
            "left": null,
            "margin": null,
            "max_height": null,
            "max_width": null,
            "min_height": null,
            "min_width": null,
            "object_fit": null,
            "object_position": null,
            "order": null,
            "overflow": null,
            "overflow_x": null,
            "overflow_y": null,
            "padding": null,
            "right": null,
            "top": null,
            "visibility": null,
            "width": "20px"
          }
        },
        "a03c8d4e756242b6a3dd4d19ee2fabf4": {
          "model_module": "@jupyter-widgets/controls",
          "model_name": "ProgressStyleModel",
          "model_module_version": "1.5.0",
          "state": {
            "_model_module": "@jupyter-widgets/controls",
            "_model_module_version": "1.5.0",
            "_model_name": "ProgressStyleModel",
            "_view_count": null,
            "_view_module": "@jupyter-widgets/base",
            "_view_module_version": "1.2.0",
            "_view_name": "StyleView",
            "bar_color": null,
            "description_width": ""
          }
        },
        "a6b69c69708949f1abe5e1d0237ff620": {
          "model_module": "@jupyter-widgets/base",
          "model_name": "LayoutModel",
          "model_module_version": "1.2.0",
          "state": {
            "_model_module": "@jupyter-widgets/base",
            "_model_module_version": "1.2.0",
            "_model_name": "LayoutModel",
            "_view_count": null,
            "_view_module": "@jupyter-widgets/base",
            "_view_module_version": "1.2.0",
            "_view_name": "LayoutView",
            "align_content": null,
            "align_items": null,
            "align_self": null,
            "border": null,
            "bottom": null,
            "display": null,
            "flex": null,
            "flex_flow": null,
            "grid_area": null,
            "grid_auto_columns": null,
            "grid_auto_flow": null,
            "grid_auto_rows": null,
            "grid_column": null,
            "grid_gap": null,
            "grid_row": null,
            "grid_template_areas": null,
            "grid_template_columns": null,
            "grid_template_rows": null,
            "height": null,
            "justify_content": null,
            "justify_items": null,
            "left": null,
            "margin": null,
            "max_height": null,
            "max_width": null,
            "min_height": null,
            "min_width": null,
            "object_fit": null,
            "object_position": null,
            "order": null,
            "overflow": null,
            "overflow_x": null,
            "overflow_y": null,
            "padding": null,
            "right": null,
            "top": null,
            "visibility": null,
            "width": null
          }
        },
        "05ab5a760aa84be98d4cf5165c943968": {
          "model_module": "@jupyter-widgets/controls",
          "model_name": "DescriptionStyleModel",
          "model_module_version": "1.5.0",
          "state": {
            "_model_module": "@jupyter-widgets/controls",
            "_model_module_version": "1.5.0",
            "_model_name": "DescriptionStyleModel",
            "_view_count": null,
            "_view_module": "@jupyter-widgets/base",
            "_view_module_version": "1.2.0",
            "_view_name": "StyleView",
            "description_width": ""
          }
        },
        "92f85d4913134550b09c21cca6367224": {
          "model_module": "@jupyter-widgets/controls",
          "model_name": "HBoxModel",
          "model_module_version": "1.5.0",
          "state": {
            "_dom_classes": [],
            "_model_module": "@jupyter-widgets/controls",
            "_model_module_version": "1.5.0",
            "_model_name": "HBoxModel",
            "_view_count": null,
            "_view_module": "@jupyter-widgets/controls",
            "_view_module_version": "1.5.0",
            "_view_name": "HBoxView",
            "box_style": "",
            "children": [
              "IPY_MODEL_4b314991a16544e68a7e040b98428fa3",
              "IPY_MODEL_f9dba8d993f84122b9bfac2b3953ba79",
              "IPY_MODEL_41d9c52ba73a4e0ba387e5f2e12d0a64"
            ],
            "layout": "IPY_MODEL_9d537aea6f124eb9b6c2d458e8a8f8cb"
          }
        },
        "4b314991a16544e68a7e040b98428fa3": {
          "model_module": "@jupyter-widgets/controls",
          "model_name": "HTMLModel",
          "model_module_version": "1.5.0",
          "state": {
            "_dom_classes": [],
            "_model_module": "@jupyter-widgets/controls",
            "_model_module_version": "1.5.0",
            "_model_name": "HTMLModel",
            "_view_count": null,
            "_view_module": "@jupyter-widgets/controls",
            "_view_module_version": "1.5.0",
            "_view_name": "HTMLView",
            "description": "",
            "description_tooltip": null,
            "layout": "IPY_MODEL_8505013840094772931c9815301d8fd8",
            "placeholder": "​",
            "style": "IPY_MODEL_a1c7de2109074fcfa586adc0d794924f",
            "value": ""
          }
        },
        "f9dba8d993f84122b9bfac2b3953ba79": {
          "model_module": "@jupyter-widgets/controls",
          "model_name": "FloatProgressModel",
          "model_module_version": "1.5.0",
          "state": {
            "_dom_classes": [],
            "_model_module": "@jupyter-widgets/controls",
            "_model_module_version": "1.5.0",
            "_model_name": "FloatProgressModel",
            "_view_count": null,
            "_view_module": "@jupyter-widgets/controls",
            "_view_module_version": "1.5.0",
            "_view_name": "ProgressView",
            "bar_style": "success",
            "description": "",
            "description_tooltip": null,
            "layout": "IPY_MODEL_71a54ce0f8b14c9395ccf949b41dd261",
            "max": 1,
            "min": 0,
            "orientation": "horizontal",
            "style": "IPY_MODEL_95780ac23c054a3d8932b5148c0efd8e",
            "value": 1
          }
        },
        "41d9c52ba73a4e0ba387e5f2e12d0a64": {
          "model_module": "@jupyter-widgets/controls",
          "model_name": "HTMLModel",
          "model_module_version": "1.5.0",
          "state": {
            "_dom_classes": [],
            "_model_module": "@jupyter-widgets/controls",
            "_model_module_version": "1.5.0",
            "_model_name": "HTMLModel",
            "_view_count": null,
            "_view_module": "@jupyter-widgets/controls",
            "_view_module_version": "1.5.0",
            "_view_name": "HTMLView",
            "description": "",
            "description_tooltip": null,
            "layout": "IPY_MODEL_2e5fad21d48143d0a26d5ddaff93f913",
            "placeholder": "​",
            "style": "IPY_MODEL_130707c72d6c43cb8a4a0e0b46d83324",
            "value": " 8071/? [03:32&lt;00:00, 106.76it/s]"
          }
        },
        "9d537aea6f124eb9b6c2d458e8a8f8cb": {
          "model_module": "@jupyter-widgets/base",
          "model_name": "LayoutModel",
          "model_module_version": "1.2.0",
          "state": {
            "_model_module": "@jupyter-widgets/base",
            "_model_module_version": "1.2.0",
            "_model_name": "LayoutModel",
            "_view_count": null,
            "_view_module": "@jupyter-widgets/base",
            "_view_module_version": "1.2.0",
            "_view_name": "LayoutView",
            "align_content": null,
            "align_items": null,
            "align_self": null,
            "border": null,
            "bottom": null,
            "display": null,
            "flex": null,
            "flex_flow": null,
            "grid_area": null,
            "grid_auto_columns": null,
            "grid_auto_flow": null,
            "grid_auto_rows": null,
            "grid_column": null,
            "grid_gap": null,
            "grid_row": null,
            "grid_template_areas": null,
            "grid_template_columns": null,
            "grid_template_rows": null,
            "height": null,
            "justify_content": null,
            "justify_items": null,
            "left": null,
            "margin": null,
            "max_height": null,
            "max_width": null,
            "min_height": null,
            "min_width": null,
            "object_fit": null,
            "object_position": null,
            "order": null,
            "overflow": null,
            "overflow_x": null,
            "overflow_y": null,
            "padding": null,
            "right": null,
            "top": null,
            "visibility": null,
            "width": null
          }
        },
        "8505013840094772931c9815301d8fd8": {
          "model_module": "@jupyter-widgets/base",
          "model_name": "LayoutModel",
          "model_module_version": "1.2.0",
          "state": {
            "_model_module": "@jupyter-widgets/base",
            "_model_module_version": "1.2.0",
            "_model_name": "LayoutModel",
            "_view_count": null,
            "_view_module": "@jupyter-widgets/base",
            "_view_module_version": "1.2.0",
            "_view_name": "LayoutView",
            "align_content": null,
            "align_items": null,
            "align_self": null,
            "border": null,
            "bottom": null,
            "display": null,
            "flex": null,
            "flex_flow": null,
            "grid_area": null,
            "grid_auto_columns": null,
            "grid_auto_flow": null,
            "grid_auto_rows": null,
            "grid_column": null,
            "grid_gap": null,
            "grid_row": null,
            "grid_template_areas": null,
            "grid_template_columns": null,
            "grid_template_rows": null,
            "height": null,
            "justify_content": null,
            "justify_items": null,
            "left": null,
            "margin": null,
            "max_height": null,
            "max_width": null,
            "min_height": null,
            "min_width": null,
            "object_fit": null,
            "object_position": null,
            "order": null,
            "overflow": null,
            "overflow_x": null,
            "overflow_y": null,
            "padding": null,
            "right": null,
            "top": null,
            "visibility": null,
            "width": null
          }
        },
        "a1c7de2109074fcfa586adc0d794924f": {
          "model_module": "@jupyter-widgets/controls",
          "model_name": "DescriptionStyleModel",
          "model_module_version": "1.5.0",
          "state": {
            "_model_module": "@jupyter-widgets/controls",
            "_model_module_version": "1.5.0",
            "_model_name": "DescriptionStyleModel",
            "_view_count": null,
            "_view_module": "@jupyter-widgets/base",
            "_view_module_version": "1.2.0",
            "_view_name": "StyleView",
            "description_width": ""
          }
        },
        "71a54ce0f8b14c9395ccf949b41dd261": {
          "model_module": "@jupyter-widgets/base",
          "model_name": "LayoutModel",
          "model_module_version": "1.2.0",
          "state": {
            "_model_module": "@jupyter-widgets/base",
            "_model_module_version": "1.2.0",
            "_model_name": "LayoutModel",
            "_view_count": null,
            "_view_module": "@jupyter-widgets/base",
            "_view_module_version": "1.2.0",
            "_view_name": "LayoutView",
            "align_content": null,
            "align_items": null,
            "align_self": null,
            "border": null,
            "bottom": null,
            "display": null,
            "flex": null,
            "flex_flow": null,
            "grid_area": null,
            "grid_auto_columns": null,
            "grid_auto_flow": null,
            "grid_auto_rows": null,
            "grid_column": null,
            "grid_gap": null,
            "grid_row": null,
            "grid_template_areas": null,
            "grid_template_columns": null,
            "grid_template_rows": null,
            "height": null,
            "justify_content": null,
            "justify_items": null,
            "left": null,
            "margin": null,
            "max_height": null,
            "max_width": null,
            "min_height": null,
            "min_width": null,
            "object_fit": null,
            "object_position": null,
            "order": null,
            "overflow": null,
            "overflow_x": null,
            "overflow_y": null,
            "padding": null,
            "right": null,
            "top": null,
            "visibility": null,
            "width": "20px"
          }
        },
        "95780ac23c054a3d8932b5148c0efd8e": {
          "model_module": "@jupyter-widgets/controls",
          "model_name": "ProgressStyleModel",
          "model_module_version": "1.5.0",
          "state": {
            "_model_module": "@jupyter-widgets/controls",
            "_model_module_version": "1.5.0",
            "_model_name": "ProgressStyleModel",
            "_view_count": null,
            "_view_module": "@jupyter-widgets/base",
            "_view_module_version": "1.2.0",
            "_view_name": "StyleView",
            "bar_color": null,
            "description_width": ""
          }
        },
        "2e5fad21d48143d0a26d5ddaff93f913": {
          "model_module": "@jupyter-widgets/base",
          "model_name": "LayoutModel",
          "model_module_version": "1.2.0",
          "state": {
            "_model_module": "@jupyter-widgets/base",
            "_model_module_version": "1.2.0",
            "_model_name": "LayoutModel",
            "_view_count": null,
            "_view_module": "@jupyter-widgets/base",
            "_view_module_version": "1.2.0",
            "_view_name": "LayoutView",
            "align_content": null,
            "align_items": null,
            "align_self": null,
            "border": null,
            "bottom": null,
            "display": null,
            "flex": null,
            "flex_flow": null,
            "grid_area": null,
            "grid_auto_columns": null,
            "grid_auto_flow": null,
            "grid_auto_rows": null,
            "grid_column": null,
            "grid_gap": null,
            "grid_row": null,
            "grid_template_areas": null,
            "grid_template_columns": null,
            "grid_template_rows": null,
            "height": null,
            "justify_content": null,
            "justify_items": null,
            "left": null,
            "margin": null,
            "max_height": null,
            "max_width": null,
            "min_height": null,
            "min_width": null,
            "object_fit": null,
            "object_position": null,
            "order": null,
            "overflow": null,
            "overflow_x": null,
            "overflow_y": null,
            "padding": null,
            "right": null,
            "top": null,
            "visibility": null,
            "width": null
          }
        },
        "130707c72d6c43cb8a4a0e0b46d83324": {
          "model_module": "@jupyter-widgets/controls",
          "model_name": "DescriptionStyleModel",
          "model_module_version": "1.5.0",
          "state": {
            "_model_module": "@jupyter-widgets/controls",
            "_model_module_version": "1.5.0",
            "_model_name": "DescriptionStyleModel",
            "_view_count": null,
            "_view_module": "@jupyter-widgets/base",
            "_view_module_version": "1.2.0",
            "_view_name": "StyleView",
            "description_width": ""
          }
        },
        "f736f6c35f0f469fbd9fa533dc7071ca": {
          "model_module": "@jupyter-widgets/controls",
          "model_name": "HBoxModel",
          "model_module_version": "1.5.0",
          "state": {
            "_dom_classes": [],
            "_model_module": "@jupyter-widgets/controls",
            "_model_module_version": "1.5.0",
            "_model_name": "HBoxModel",
            "_view_count": null,
            "_view_module": "@jupyter-widgets/controls",
            "_view_module_version": "1.5.0",
            "_view_name": "HBoxView",
            "box_style": "",
            "children": [
              "IPY_MODEL_f4ca814ee46a420f917c0841de39b6de",
              "IPY_MODEL_78f997ec2c094e2ca1c7f19b47b2799f",
              "IPY_MODEL_b44c1ddd32024d4aa89a581054d5a753"
            ],
            "layout": "IPY_MODEL_8845f25041124e169a24295a68716e50"
          }
        },
        "f4ca814ee46a420f917c0841de39b6de": {
          "model_module": "@jupyter-widgets/controls",
          "model_name": "HTMLModel",
          "model_module_version": "1.5.0",
          "state": {
            "_dom_classes": [],
            "_model_module": "@jupyter-widgets/controls",
            "_model_module_version": "1.5.0",
            "_model_name": "HTMLModel",
            "_view_count": null,
            "_view_module": "@jupyter-widgets/controls",
            "_view_module_version": "1.5.0",
            "_view_name": "HTMLView",
            "description": "",
            "description_tooltip": null,
            "layout": "IPY_MODEL_1b351f15bb834e3da14c806e6bad9ed4",
            "placeholder": "​",
            "style": "IPY_MODEL_dd8b9f06801b4938a7afa369f71e3bd6",
            "value": ""
          }
        },
        "78f997ec2c094e2ca1c7f19b47b2799f": {
          "model_module": "@jupyter-widgets/controls",
          "model_name": "FloatProgressModel",
          "model_module_version": "1.5.0",
          "state": {
            "_dom_classes": [],
            "_model_module": "@jupyter-widgets/controls",
            "_model_module_version": "1.5.0",
            "_model_name": "FloatProgressModel",
            "_view_count": null,
            "_view_module": "@jupyter-widgets/controls",
            "_view_module_version": "1.5.0",
            "_view_name": "ProgressView",
            "bar_style": "success",
            "description": "",
            "description_tooltip": null,
            "layout": "IPY_MODEL_e8bde71a86c548939495de1b94f95dd3",
            "max": 1,
            "min": 0,
            "orientation": "horizontal",
            "style": "IPY_MODEL_f98b0da5ff75470ba36c5e1a672ef54f",
            "value": 1
          }
        },
        "b44c1ddd32024d4aa89a581054d5a753": {
          "model_module": "@jupyter-widgets/controls",
          "model_name": "HTMLModel",
          "model_module_version": "1.5.0",
          "state": {
            "_dom_classes": [],
            "_model_module": "@jupyter-widgets/controls",
            "_model_module_version": "1.5.0",
            "_model_name": "HTMLModel",
            "_view_count": null,
            "_view_module": "@jupyter-widgets/controls",
            "_view_module_version": "1.5.0",
            "_view_name": "HTMLView",
            "description": "",
            "description_tooltip": null,
            "layout": "IPY_MODEL_b22a402e1d4c4d73860f261c0174cce4",
            "placeholder": "​",
            "style": "IPY_MODEL_dd5378f8a6a2423083211c3835dc0709",
            "value": " 8071/? [07:28&lt;00:00, 41.49it/s]"
          }
        },
        "8845f25041124e169a24295a68716e50": {
          "model_module": "@jupyter-widgets/base",
          "model_name": "LayoutModel",
          "model_module_version": "1.2.0",
          "state": {
            "_model_module": "@jupyter-widgets/base",
            "_model_module_version": "1.2.0",
            "_model_name": "LayoutModel",
            "_view_count": null,
            "_view_module": "@jupyter-widgets/base",
            "_view_module_version": "1.2.0",
            "_view_name": "LayoutView",
            "align_content": null,
            "align_items": null,
            "align_self": null,
            "border": null,
            "bottom": null,
            "display": null,
            "flex": null,
            "flex_flow": null,
            "grid_area": null,
            "grid_auto_columns": null,
            "grid_auto_flow": null,
            "grid_auto_rows": null,
            "grid_column": null,
            "grid_gap": null,
            "grid_row": null,
            "grid_template_areas": null,
            "grid_template_columns": null,
            "grid_template_rows": null,
            "height": null,
            "justify_content": null,
            "justify_items": null,
            "left": null,
            "margin": null,
            "max_height": null,
            "max_width": null,
            "min_height": null,
            "min_width": null,
            "object_fit": null,
            "object_position": null,
            "order": null,
            "overflow": null,
            "overflow_x": null,
            "overflow_y": null,
            "padding": null,
            "right": null,
            "top": null,
            "visibility": null,
            "width": null
          }
        },
        "1b351f15bb834e3da14c806e6bad9ed4": {
          "model_module": "@jupyter-widgets/base",
          "model_name": "LayoutModel",
          "model_module_version": "1.2.0",
          "state": {
            "_model_module": "@jupyter-widgets/base",
            "_model_module_version": "1.2.0",
            "_model_name": "LayoutModel",
            "_view_count": null,
            "_view_module": "@jupyter-widgets/base",
            "_view_module_version": "1.2.0",
            "_view_name": "LayoutView",
            "align_content": null,
            "align_items": null,
            "align_self": null,
            "border": null,
            "bottom": null,
            "display": null,
            "flex": null,
            "flex_flow": null,
            "grid_area": null,
            "grid_auto_columns": null,
            "grid_auto_flow": null,
            "grid_auto_rows": null,
            "grid_column": null,
            "grid_gap": null,
            "grid_row": null,
            "grid_template_areas": null,
            "grid_template_columns": null,
            "grid_template_rows": null,
            "height": null,
            "justify_content": null,
            "justify_items": null,
            "left": null,
            "margin": null,
            "max_height": null,
            "max_width": null,
            "min_height": null,
            "min_width": null,
            "object_fit": null,
            "object_position": null,
            "order": null,
            "overflow": null,
            "overflow_x": null,
            "overflow_y": null,
            "padding": null,
            "right": null,
            "top": null,
            "visibility": null,
            "width": null
          }
        },
        "dd8b9f06801b4938a7afa369f71e3bd6": {
          "model_module": "@jupyter-widgets/controls",
          "model_name": "DescriptionStyleModel",
          "model_module_version": "1.5.0",
          "state": {
            "_model_module": "@jupyter-widgets/controls",
            "_model_module_version": "1.5.0",
            "_model_name": "DescriptionStyleModel",
            "_view_count": null,
            "_view_module": "@jupyter-widgets/base",
            "_view_module_version": "1.2.0",
            "_view_name": "StyleView",
            "description_width": ""
          }
        },
        "e8bde71a86c548939495de1b94f95dd3": {
          "model_module": "@jupyter-widgets/base",
          "model_name": "LayoutModel",
          "model_module_version": "1.2.0",
          "state": {
            "_model_module": "@jupyter-widgets/base",
            "_model_module_version": "1.2.0",
            "_model_name": "LayoutModel",
            "_view_count": null,
            "_view_module": "@jupyter-widgets/base",
            "_view_module_version": "1.2.0",
            "_view_name": "LayoutView",
            "align_content": null,
            "align_items": null,
            "align_self": null,
            "border": null,
            "bottom": null,
            "display": null,
            "flex": null,
            "flex_flow": null,
            "grid_area": null,
            "grid_auto_columns": null,
            "grid_auto_flow": null,
            "grid_auto_rows": null,
            "grid_column": null,
            "grid_gap": null,
            "grid_row": null,
            "grid_template_areas": null,
            "grid_template_columns": null,
            "grid_template_rows": null,
            "height": null,
            "justify_content": null,
            "justify_items": null,
            "left": null,
            "margin": null,
            "max_height": null,
            "max_width": null,
            "min_height": null,
            "min_width": null,
            "object_fit": null,
            "object_position": null,
            "order": null,
            "overflow": null,
            "overflow_x": null,
            "overflow_y": null,
            "padding": null,
            "right": null,
            "top": null,
            "visibility": null,
            "width": "20px"
          }
        },
        "f98b0da5ff75470ba36c5e1a672ef54f": {
          "model_module": "@jupyter-widgets/controls",
          "model_name": "ProgressStyleModel",
          "model_module_version": "1.5.0",
          "state": {
            "_model_module": "@jupyter-widgets/controls",
            "_model_module_version": "1.5.0",
            "_model_name": "ProgressStyleModel",
            "_view_count": null,
            "_view_module": "@jupyter-widgets/base",
            "_view_module_version": "1.2.0",
            "_view_name": "StyleView",
            "bar_color": null,
            "description_width": ""
          }
        },
        "b22a402e1d4c4d73860f261c0174cce4": {
          "model_module": "@jupyter-widgets/base",
          "model_name": "LayoutModel",
          "model_module_version": "1.2.0",
          "state": {
            "_model_module": "@jupyter-widgets/base",
            "_model_module_version": "1.2.0",
            "_model_name": "LayoutModel",
            "_view_count": null,
            "_view_module": "@jupyter-widgets/base",
            "_view_module_version": "1.2.0",
            "_view_name": "LayoutView",
            "align_content": null,
            "align_items": null,
            "align_self": null,
            "border": null,
            "bottom": null,
            "display": null,
            "flex": null,
            "flex_flow": null,
            "grid_area": null,
            "grid_auto_columns": null,
            "grid_auto_flow": null,
            "grid_auto_rows": null,
            "grid_column": null,
            "grid_gap": null,
            "grid_row": null,
            "grid_template_areas": null,
            "grid_template_columns": null,
            "grid_template_rows": null,
            "height": null,
            "justify_content": null,
            "justify_items": null,
            "left": null,
            "margin": null,
            "max_height": null,
            "max_width": null,
            "min_height": null,
            "min_width": null,
            "object_fit": null,
            "object_position": null,
            "order": null,
            "overflow": null,
            "overflow_x": null,
            "overflow_y": null,
            "padding": null,
            "right": null,
            "top": null,
            "visibility": null,
            "width": null
          }
        },
        "dd5378f8a6a2423083211c3835dc0709": {
          "model_module": "@jupyter-widgets/controls",
          "model_name": "DescriptionStyleModel",
          "model_module_version": "1.5.0",
          "state": {
            "_model_module": "@jupyter-widgets/controls",
            "_model_module_version": "1.5.0",
            "_model_name": "DescriptionStyleModel",
            "_view_count": null,
            "_view_module": "@jupyter-widgets/base",
            "_view_module_version": "1.2.0",
            "_view_name": "StyleView",
            "description_width": ""
          }
        },
        "6caa53eaf458439598afbe884628effa": {
          "model_module": "@jupyter-widgets/controls",
          "model_name": "HBoxModel",
          "model_module_version": "1.5.0",
          "state": {
            "_dom_classes": [],
            "_model_module": "@jupyter-widgets/controls",
            "_model_module_version": "1.5.0",
            "_model_name": "HBoxModel",
            "_view_count": null,
            "_view_module": "@jupyter-widgets/controls",
            "_view_module_version": "1.5.0",
            "_view_name": "HBoxView",
            "box_style": "",
            "children": [
              "IPY_MODEL_e30224f802074b829cde2b764a2b7486",
              "IPY_MODEL_3e06156e99b141df988243e43b5a4e00",
              "IPY_MODEL_40e869a7dbc04a73b2f70a17db882baf"
            ],
            "layout": "IPY_MODEL_98b95ae0241f432f8ab6775395678c5b"
          }
        },
        "e30224f802074b829cde2b764a2b7486": {
          "model_module": "@jupyter-widgets/controls",
          "model_name": "HTMLModel",
          "model_module_version": "1.5.0",
          "state": {
            "_dom_classes": [],
            "_model_module": "@jupyter-widgets/controls",
            "_model_module_version": "1.5.0",
            "_model_name": "HTMLModel",
            "_view_count": null,
            "_view_module": "@jupyter-widgets/controls",
            "_view_module_version": "1.5.0",
            "_view_name": "HTMLView",
            "description": "",
            "description_tooltip": null,
            "layout": "IPY_MODEL_775c17cec5cb49b08315f2164a49beb3",
            "placeholder": "​",
            "style": "IPY_MODEL_ccb3c1d439e6467faee51dc8f08ea4e1",
            "value": ""
          }
        },
        "3e06156e99b141df988243e43b5a4e00": {
          "model_module": "@jupyter-widgets/controls",
          "model_name": "FloatProgressModel",
          "model_module_version": "1.5.0",
          "state": {
            "_dom_classes": [],
            "_model_module": "@jupyter-widgets/controls",
            "_model_module_version": "1.5.0",
            "_model_name": "FloatProgressModel",
            "_view_count": null,
            "_view_module": "@jupyter-widgets/controls",
            "_view_module_version": "1.5.0",
            "_view_name": "ProgressView",
            "bar_style": "success",
            "description": "",
            "description_tooltip": null,
            "layout": "IPY_MODEL_9ca8d458017540a090bfe0129ef271cd",
            "max": 1,
            "min": 0,
            "orientation": "horizontal",
            "style": "IPY_MODEL_26252cdb88f14dc18e16cdbf0e99fb1e",
            "value": 1
          }
        },
        "40e869a7dbc04a73b2f70a17db882baf": {
          "model_module": "@jupyter-widgets/controls",
          "model_name": "HTMLModel",
          "model_module_version": "1.5.0",
          "state": {
            "_dom_classes": [],
            "_model_module": "@jupyter-widgets/controls",
            "_model_module_version": "1.5.0",
            "_model_name": "HTMLModel",
            "_view_count": null,
            "_view_module": "@jupyter-widgets/controls",
            "_view_module_version": "1.5.0",
            "_view_name": "HTMLView",
            "description": "",
            "description_tooltip": null,
            "layout": "IPY_MODEL_9d9548e00d224e89830fd7fb27679752",
            "placeholder": "​",
            "style": "IPY_MODEL_6ddaf71d8e8b4a93acfcd41d274789bb",
            "value": " 8071/? [06:41&lt;00:00, 38.47it/s]"
          }
        },
        "98b95ae0241f432f8ab6775395678c5b": {
          "model_module": "@jupyter-widgets/base",
          "model_name": "LayoutModel",
          "model_module_version": "1.2.0",
          "state": {
            "_model_module": "@jupyter-widgets/base",
            "_model_module_version": "1.2.0",
            "_model_name": "LayoutModel",
            "_view_count": null,
            "_view_module": "@jupyter-widgets/base",
            "_view_module_version": "1.2.0",
            "_view_name": "LayoutView",
            "align_content": null,
            "align_items": null,
            "align_self": null,
            "border": null,
            "bottom": null,
            "display": null,
            "flex": null,
            "flex_flow": null,
            "grid_area": null,
            "grid_auto_columns": null,
            "grid_auto_flow": null,
            "grid_auto_rows": null,
            "grid_column": null,
            "grid_gap": null,
            "grid_row": null,
            "grid_template_areas": null,
            "grid_template_columns": null,
            "grid_template_rows": null,
            "height": null,
            "justify_content": null,
            "justify_items": null,
            "left": null,
            "margin": null,
            "max_height": null,
            "max_width": null,
            "min_height": null,
            "min_width": null,
            "object_fit": null,
            "object_position": null,
            "order": null,
            "overflow": null,
            "overflow_x": null,
            "overflow_y": null,
            "padding": null,
            "right": null,
            "top": null,
            "visibility": null,
            "width": null
          }
        },
        "775c17cec5cb49b08315f2164a49beb3": {
          "model_module": "@jupyter-widgets/base",
          "model_name": "LayoutModel",
          "model_module_version": "1.2.0",
          "state": {
            "_model_module": "@jupyter-widgets/base",
            "_model_module_version": "1.2.0",
            "_model_name": "LayoutModel",
            "_view_count": null,
            "_view_module": "@jupyter-widgets/base",
            "_view_module_version": "1.2.0",
            "_view_name": "LayoutView",
            "align_content": null,
            "align_items": null,
            "align_self": null,
            "border": null,
            "bottom": null,
            "display": null,
            "flex": null,
            "flex_flow": null,
            "grid_area": null,
            "grid_auto_columns": null,
            "grid_auto_flow": null,
            "grid_auto_rows": null,
            "grid_column": null,
            "grid_gap": null,
            "grid_row": null,
            "grid_template_areas": null,
            "grid_template_columns": null,
            "grid_template_rows": null,
            "height": null,
            "justify_content": null,
            "justify_items": null,
            "left": null,
            "margin": null,
            "max_height": null,
            "max_width": null,
            "min_height": null,
            "min_width": null,
            "object_fit": null,
            "object_position": null,
            "order": null,
            "overflow": null,
            "overflow_x": null,
            "overflow_y": null,
            "padding": null,
            "right": null,
            "top": null,
            "visibility": null,
            "width": null
          }
        },
        "ccb3c1d439e6467faee51dc8f08ea4e1": {
          "model_module": "@jupyter-widgets/controls",
          "model_name": "DescriptionStyleModel",
          "model_module_version": "1.5.0",
          "state": {
            "_model_module": "@jupyter-widgets/controls",
            "_model_module_version": "1.5.0",
            "_model_name": "DescriptionStyleModel",
            "_view_count": null,
            "_view_module": "@jupyter-widgets/base",
            "_view_module_version": "1.2.0",
            "_view_name": "StyleView",
            "description_width": ""
          }
        },
        "9ca8d458017540a090bfe0129ef271cd": {
          "model_module": "@jupyter-widgets/base",
          "model_name": "LayoutModel",
          "model_module_version": "1.2.0",
          "state": {
            "_model_module": "@jupyter-widgets/base",
            "_model_module_version": "1.2.0",
            "_model_name": "LayoutModel",
            "_view_count": null,
            "_view_module": "@jupyter-widgets/base",
            "_view_module_version": "1.2.0",
            "_view_name": "LayoutView",
            "align_content": null,
            "align_items": null,
            "align_self": null,
            "border": null,
            "bottom": null,
            "display": null,
            "flex": null,
            "flex_flow": null,
            "grid_area": null,
            "grid_auto_columns": null,
            "grid_auto_flow": null,
            "grid_auto_rows": null,
            "grid_column": null,
            "grid_gap": null,
            "grid_row": null,
            "grid_template_areas": null,
            "grid_template_columns": null,
            "grid_template_rows": null,
            "height": null,
            "justify_content": null,
            "justify_items": null,
            "left": null,
            "margin": null,
            "max_height": null,
            "max_width": null,
            "min_height": null,
            "min_width": null,
            "object_fit": null,
            "object_position": null,
            "order": null,
            "overflow": null,
            "overflow_x": null,
            "overflow_y": null,
            "padding": null,
            "right": null,
            "top": null,
            "visibility": null,
            "width": "20px"
          }
        },
        "26252cdb88f14dc18e16cdbf0e99fb1e": {
          "model_module": "@jupyter-widgets/controls",
          "model_name": "ProgressStyleModel",
          "model_module_version": "1.5.0",
          "state": {
            "_model_module": "@jupyter-widgets/controls",
            "_model_module_version": "1.5.0",
            "_model_name": "ProgressStyleModel",
            "_view_count": null,
            "_view_module": "@jupyter-widgets/base",
            "_view_module_version": "1.2.0",
            "_view_name": "StyleView",
            "bar_color": null,
            "description_width": ""
          }
        },
        "9d9548e00d224e89830fd7fb27679752": {
          "model_module": "@jupyter-widgets/base",
          "model_name": "LayoutModel",
          "model_module_version": "1.2.0",
          "state": {
            "_model_module": "@jupyter-widgets/base",
            "_model_module_version": "1.2.0",
            "_model_name": "LayoutModel",
            "_view_count": null,
            "_view_module": "@jupyter-widgets/base",
            "_view_module_version": "1.2.0",
            "_view_name": "LayoutView",
            "align_content": null,
            "align_items": null,
            "align_self": null,
            "border": null,
            "bottom": null,
            "display": null,
            "flex": null,
            "flex_flow": null,
            "grid_area": null,
            "grid_auto_columns": null,
            "grid_auto_flow": null,
            "grid_auto_rows": null,
            "grid_column": null,
            "grid_gap": null,
            "grid_row": null,
            "grid_template_areas": null,
            "grid_template_columns": null,
            "grid_template_rows": null,
            "height": null,
            "justify_content": null,
            "justify_items": null,
            "left": null,
            "margin": null,
            "max_height": null,
            "max_width": null,
            "min_height": null,
            "min_width": null,
            "object_fit": null,
            "object_position": null,
            "order": null,
            "overflow": null,
            "overflow_x": null,
            "overflow_y": null,
            "padding": null,
            "right": null,
            "top": null,
            "visibility": null,
            "width": null
          }
        },
        "6ddaf71d8e8b4a93acfcd41d274789bb": {
          "model_module": "@jupyter-widgets/controls",
          "model_name": "DescriptionStyleModel",
          "model_module_version": "1.5.0",
          "state": {
            "_model_module": "@jupyter-widgets/controls",
            "_model_module_version": "1.5.0",
            "_model_name": "DescriptionStyleModel",
            "_view_count": null,
            "_view_module": "@jupyter-widgets/base",
            "_view_module_version": "1.2.0",
            "_view_name": "StyleView",
            "description_width": ""
          }
        }
      }
    }
  },
  "nbformat": 4,
  "nbformat_minor": 0
}