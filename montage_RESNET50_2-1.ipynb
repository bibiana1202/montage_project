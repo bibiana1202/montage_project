{
  "cells": [
    {
      "cell_type": "code",
      "execution_count": null,
      "metadata": {
        "id": "2hVjETSnsIX8"
      },
      "outputs": [],
      "source": [
        "import pickle\n",
        "from google.colab import drive\n",
        "\n",
        "import pandas as pd\n",
        "import numpy as np\n",
        "\n",
        "import requests\n",
        "from bs4 import BeautifulSoup\n",
        "import os"
      ]
    },
    {
      "cell_type": "code",
      "execution_count": null,
      "metadata": {
        "colab": {
          "base_uri": "https://localhost:8080/"
        },
        "id": "VvEgEp6VdFOk",
        "outputId": "928132fc-c770-49c9-d7b4-35ab1930a953"
      },
      "outputs": [
        {
          "output_type": "stream",
          "name": "stdout",
          "text": [
            "Mounted at /content/drive\n"
          ]
        }
      ],
      "source": [
        "# Google dirve에 연결\n",
        "\n",
        "drive.mount('/content/drive')"
      ]
    },
    {
      "cell_type": "code",
      "execution_count": null,
      "metadata": {
        "id": "aa3oglfZuQua"
      },
      "outputs": [],
      "source": [
        "# PATH\n",
        "PATH_train='/content/drive/MyDrive/montage_project/train/'\n",
        "PATH_train_montage = '/content/drive/MyDrive/montage_project/train/montage/'\n",
        "PATH_train_json = '/content/drive/MyDrive/montage_project/train/H/'\n",
        "\n",
        "PATH_train_resized='/content/drive/MyDrive/montage_project/train/resized/'"
      ]
    },
    {
      "cell_type": "code",
      "execution_count": null,
      "metadata": {
        "id": "5VGqYcn66grs"
      },
      "outputs": [],
      "source": [
        "PATH_test='/content/drive/MyDrive/montage_project/test/'\n",
        "PATH_test_montage = '/content/drive/MyDrive/montage_project/test/montage/'\n",
        "PATH_test_json = '/content/drive/MyDrive/montage_project/test/H/'\n"
      ]
    },
    {
      "cell_type": "code",
      "execution_count": null,
      "metadata": {
        "id": "KB0gEtQ69ri4"
      },
      "outputs": [],
      "source": [
        "# 라벨 설정\n",
        "class_names_age = ['20~35','25~50','50']\n",
        "class_names_gender = ['M','F']\n",
        "class_names_face = ['계란형','긴형','둥근형','마름모형','사각형','역삼각형']\n",
        "class_names_hairstyle = ['곱슬머리','직모(생머리)','나머지']\n",
        "class_names_eyebrows =['각진형','둥근형','물결형','직선형','분류없음']"
      ]
    },
    {
      "cell_type": "markdown",
      "metadata": {
        "id": "jGUIO0HXDCUt"
      },
      "source": [
        "---------------------------------------------------------------------------------------------------------------------------------------------------------------------------------------------------------------------------------------"
      ]
    },
    {
      "cell_type": "markdown",
      "metadata": {
        "id": "bMqXj4uszFBs"
      },
      "source": [
        "# 불러오기"
      ]
    },
    {
      "cell_type": "code",
      "execution_count": null,
      "metadata": {
        "colab": {
          "base_uri": "https://localhost:8080/"
        },
        "id": "qkC0yUlhzGra",
        "outputId": "8f72ca15-7319-45f4-8965-9aaf68fdd038"
      },
      "outputs": [
        {
          "output_type": "stream",
          "name": "stdout",
          "text": [
            "6 dict_keys(['train_img_ar', 'train_age_label', 'train_gender_label', 'train_face_label', 'train_hairstyle_label', 'train_eyebrows_label'])\n"
          ]
        }
      ],
      "source": [
        "import gzip\n",
        "# 2. 전처리 + 헤어스타일 라벨 3개 + 증강\n",
        "\n",
        "## train 불러오기!\n",
        "with gzip.open(PATH_train+'dic_train_label2.pickle','rb') as f:\n",
        "  dic_train_label = pickle.load(f)\n",
        "\n",
        "print(len(dic_train_label),dic_train_label.keys())"
      ]
    },
    {
      "cell_type": "code",
      "execution_count": null,
      "metadata": {
        "colab": {
          "base_uri": "https://localhost:8080/"
        },
        "id": "MrbystDmzuwJ",
        "outputId": "36fb5bc9-af4d-4cc6-dc5f-404edb8f5d84"
      },
      "outputs": [
        {
          "output_type": "execute_result",
          "data": {
            "text/plain": [
              "(224, 224, 3)"
            ]
          },
          "metadata": {},
          "execution_count": 7
        }
      ],
      "source": [
        "dic_train_label['train_img_ar'][0].shape"
      ]
    },
    {
      "cell_type": "code",
      "execution_count": null,
      "metadata": {
        "colab": {
          "base_uri": "https://localhost:8080/"
        },
        "id": "igdZx9mkz-ds",
        "outputId": "bae39714-4604-48f8-b59b-4e5248395f16"
      },
      "outputs": [
        {
          "output_type": "execute_result",
          "data": {
            "text/plain": [
              "(32089, 32089, 32089, 32089)"
            ]
          },
          "metadata": {},
          "execution_count": 8
        }
      ],
      "source": [
        "len(dic_train_label['train_img_ar']),len(dic_train_label['train_age_label']),len(dic_train_label['train_gender_label']),len(dic_train_label['train_hairstyle_label'])"
      ]
    },
    {
      "cell_type": "code",
      "execution_count": null,
      "metadata": {
        "colab": {
          "base_uri": "https://localhost:8080/"
        },
        "id": "rmxaGjdpzlvB",
        "outputId": "d5bdae93-2ca8-464d-db55-7d456c6d7936"
      },
      "outputs": [
        {
          "output_type": "stream",
          "name": "stdout",
          "text": [
            "6 dict_keys(['test_img_ar', 'test_age_label', 'test_gender_label', 'test_face_label', 'test_hairstyle_label', 'test_eyebrows_label'])\n"
          ]
        }
      ],
      "source": [
        "import gzip\n",
        "# 2. 전처리 + 헤어스타일 라벨 3개 + 증강\n",
        "\n",
        "## test 불러오기!\n",
        "with gzip.open(PATH_test+'dic_test_label2.pickle','rb') as f:\n",
        "  dic_test_label = pickle.load(f)\n",
        "\n",
        "print(len(dic_test_label),dic_test_label.keys())"
      ]
    },
    {
      "cell_type": "code",
      "execution_count": null,
      "metadata": {
        "colab": {
          "base_uri": "https://localhost:8080/"
        },
        "id": "nP-Fla3l0aiJ",
        "outputId": "b05431fc-a1b3-4626-88f6-c60571cf155b"
      },
      "outputs": [
        {
          "output_type": "execute_result",
          "data": {
            "text/plain": [
              "(224, 224, 3)"
            ]
          },
          "metadata": {},
          "execution_count": 10
        }
      ],
      "source": [
        "dic_test_label['test_img_ar'][0].shape"
      ]
    },
    {
      "cell_type": "code",
      "execution_count": null,
      "metadata": {
        "colab": {
          "base_uri": "https://localhost:8080/"
        },
        "id": "AyaBRNUS0eAB",
        "outputId": "d7103dd3-d9b8-4430-e403-67ca8e2c6fa2"
      },
      "outputs": [
        {
          "output_type": "execute_result",
          "data": {
            "text/plain": [
              "(1010, 1010, 1010, 1010)"
            ]
          },
          "metadata": {},
          "execution_count": 11
        }
      ],
      "source": [
        "len(dic_test_label['test_img_ar']),len(dic_test_label['test_age_label']),len(dic_test_label['test_gender_label']),len(dic_test_label['test_hairstyle_label'])"
      ]
    },
    {
      "cell_type": "markdown",
      "metadata": {
        "id": "-8PiRlbo1ZG9"
      },
      "source": [
        "# RESNET50 - hairstyle\n"
      ]
    },
    {
      "cell_type": "code",
      "execution_count": null,
      "metadata": {
        "id": "7o1EMOAC1ZG9"
      },
      "outputs": [],
      "source": [
        "import os\n",
        "import numpy as np\n",
        "import tensorflow as tf\n",
        "from tensorflow.keras import datasets, layers, models #Tensorflow에 있는 Keras 함수들 호출하기"
      ]
    },
    {
      "cell_type": "code",
      "execution_count": null,
      "metadata": {
        "id": "5H5ZIQGQ1ZG-"
      },
      "outputs": [],
      "source": [
        "from tensorflow.keras.applications.resnet50 import ResNet50\n",
        "from tensorflow.keras import datasets, layers, models\n",
        "\n",
        "from tensorflow.keras.layers import Dense, Flatten, MaxPooling2D\n",
        "from tensorflow.keras import Input\n",
        "from tensorflow.keras.layers import Dropout, BatchNormalization\n",
        "\n",
        "import matplotlib.pyplot as plt\n",
        "\n",
        "from sklearn.model_selection import train_test_split"
      ]
    },
    {
      "cell_type": "code",
      "execution_count": null,
      "metadata": {
        "colab": {
          "base_uri": "https://localhost:8080/"
        },
        "id": "4s3T0pR21ZG-",
        "outputId": "2f9be48d-9aa4-41e2-a5bd-00ab4955569a"
      },
      "outputs": [
        {
          "output_type": "execute_result",
          "data": {
            "text/plain": [
              "(numpy.ndarray, numpy.ndarray)"
            ]
          },
          "metadata": {},
          "execution_count": 14
        }
      ],
      "source": [
        "type(dic_train_label['train_img_ar']),type(dic_test_label['test_img_ar'])"
      ]
    },
    {
      "cell_type": "code",
      "execution_count": null,
      "metadata": {
        "colab": {
          "base_uri": "https://localhost:8080/"
        },
        "id": "BaCMXre51ZG-",
        "outputId": "8059454d-73e2-494f-a5a0-a8a8d619bb15"
      },
      "outputs": [
        {
          "output_type": "execute_result",
          "data": {
            "text/plain": [
              "(32089, 1010)"
            ]
          },
          "metadata": {},
          "execution_count": 15
        }
      ],
      "source": [
        "len(dic_train_label['train_img_ar']),len(dic_test_label['test_img_ar'])"
      ]
    },
    {
      "cell_type": "code",
      "execution_count": null,
      "metadata": {
        "colab": {
          "base_uri": "https://localhost:8080/"
        },
        "id": "nq2QjXxo1ZG_",
        "outputId": "91f4bfbf-04b1-4b96-a7b2-a7a67a0c4125"
      },
      "outputs": [
        {
          "output_type": "execute_result",
          "data": {
            "text/plain": [
              "((224, 224, 3), (224, 224, 3))"
            ]
          },
          "metadata": {},
          "execution_count": 16
        }
      ],
      "source": [
        "dic_train_label['train_img_ar'][0].shape,dic_test_label['test_img_ar'][0].shape"
      ]
    },
    {
      "cell_type": "code",
      "execution_count": null,
      "metadata": {
        "colab": {
          "base_uri": "https://localhost:8080/"
        },
        "id": "oDD-DFqZ1ZG_",
        "outputId": "21d858e2-3a1d-4fd9-d99a-14f0e52b1666"
      },
      "outputs": [
        {
          "output_type": "execute_result",
          "data": {
            "text/plain": [
              "(numpy.ndarray, numpy.ndarray)"
            ]
          },
          "metadata": {},
          "execution_count": 17
        }
      ],
      "source": [
        "type(dic_train_label['train_hairstyle_label']),type(dic_test_label['test_hairstyle_label'])"
      ]
    },
    {
      "cell_type": "code",
      "execution_count": null,
      "metadata": {
        "colab": {
          "base_uri": "https://localhost:8080/"
        },
        "id": "Y1gw2mZy1ZG_",
        "outputId": "5c051baf-32fc-4a12-8d82-986198c5541b"
      },
      "outputs": [
        {
          "output_type": "execute_result",
          "data": {
            "text/plain": [
              "(32089, 1010)"
            ]
          },
          "metadata": {},
          "execution_count": 18
        }
      ],
      "source": [
        "len(dic_train_label['train_hairstyle_label']),len(dic_test_label['test_hairstyle_label'])"
      ]
    },
    {
      "cell_type": "code",
      "execution_count": null,
      "metadata": {
        "colab": {
          "base_uri": "https://localhost:8080/"
        },
        "id": "-06aFaWn1ZG_",
        "outputId": "1b2c84de-6a69-4828-c10d-6e623cb1a3e7"
      },
      "outputs": [
        {
          "output_type": "execute_result",
          "data": {
            "text/plain": [
              "(0, 1)"
            ]
          },
          "metadata": {},
          "execution_count": 19
        }
      ],
      "source": [
        "dic_train_label['train_hairstyle_label'][10000],dic_test_label['test_hairstyle_label'][1000]"
      ]
    },
    {
      "cell_type": "code",
      "execution_count": null,
      "metadata": {
        "colab": {
          "base_uri": "https://localhost:8080/"
        },
        "id": "N-2EgUfA15hl",
        "outputId": "266f53ea-ffef-490e-e6a0-7b172866f03f"
      },
      "outputs": [
        {
          "output_type": "execute_result",
          "data": {
            "text/plain": [
              "{0, 1, 2}"
            ]
          },
          "metadata": {},
          "execution_count": 20
        }
      ],
      "source": [
        "set(dic_train_label['train_hairstyle_label'])"
      ]
    },
    {
      "cell_type": "code",
      "execution_count": null,
      "metadata": {
        "id": "PgTFCBiC1ZG_"
      },
      "outputs": [],
      "source": [
        "train_input = dic_train_label['train_img_ar']\n",
        "test_input = dic_test_label['test_img_ar']\n",
        "\n",
        "train_target = dic_train_label['train_hairstyle_label']\n",
        "test_target =dic_test_label['test_hairstyle_label']\n",
        "\n",
        "\n",
        "from sklearn.model_selection import train_test_split\n",
        "train_input, val_input, train_target, val_target = train_test_split(train_input,\n",
        "                                                                      train_target,\n",
        "                                                                      shuffle=True, \n",
        "                                                                      stratify=train_target, \n",
        "                                                                      random_state=34)"
      ]
    },
    {
      "cell_type": "code",
      "execution_count": null,
      "metadata": {
        "id": "u9jxWFco1ZG_"
      },
      "outputs": [],
      "source": [
        "train_input = train_input.astype('float32')\n",
        "val_input=val_input.astype('float32')\n",
        "test_input=test_input.astype('float32')"
      ]
    },
    {
      "cell_type": "code",
      "execution_count": null,
      "metadata": {
        "id": "0Jvq0LaL1ZG_"
      },
      "outputs": [],
      "source": [
        "def zero_mean(image):\n",
        "    # zero-centering\n",
        "    return np.mean(image, axis=0)"
      ]
    },
    {
      "cell_type": "code",
      "execution_count": null,
      "metadata": {
        "colab": {
          "base_uri": "https://localhost:8080/"
        },
        "id": "eZ9TXmgg1ZG_",
        "outputId": "27b302cc-9284-49f0-c71c-4ea9d2073e84"
      },
      "outputs": [
        {
          "data": {
            "text/plain": [
              "(224, 224, 3)"
            ]
          },
          "execution_count": 28,
          "metadata": {},
          "output_type": "execute_result"
        }
      ],
      "source": [
        "zero_mean_img = zero_mean(train_input)\n",
        "zero_mean_img.shape"
      ]
    },
    {
      "cell_type": "code",
      "source": [
        "train_input -= zero_mean_img\n",
        "val_input -= zero_mean_img\n",
        "test_input -= zero_mean_img"
      ],
      "metadata": {
        "id": "QjRL7qrIpBop"
      },
      "execution_count": null,
      "outputs": []
    },
    {
      "cell_type": "code",
      "execution_count": null,
      "metadata": {
        "colab": {
          "base_uri": "https://localhost:8080/"
        },
        "id": "4Jh07Hw-1ZHA",
        "outputId": "ce23c894-4cef-4579-ffcd-096a32d60355"
      },
      "outputs": [
        {
          "output_type": "execute_result",
          "data": {
            "text/plain": [
              "((24066, 224, 224, 3), (24066,), (8023, 224, 224, 3), (8023,))"
            ]
          },
          "metadata": {},
          "execution_count": 23
        }
      ],
      "source": [
        "train_input.shape,train_target.shape,val_input.shape,val_target.shape"
      ]
    },
    {
      "cell_type": "code",
      "execution_count": null,
      "metadata": {
        "colab": {
          "base_uri": "https://localhost:8080/"
        },
        "id": "P05dnQ1b1ZHA",
        "outputId": "90ae0aca-3081-4b14-fd1a-ccbc48dcd9bd"
      },
      "outputs": [
        {
          "output_type": "execute_result",
          "data": {
            "text/plain": [
              "((1010, 224, 224, 3), (1010,))"
            ]
          },
          "metadata": {},
          "execution_count": 24
        }
      ],
      "source": [
        "test_input.shape,test_target.shape"
      ]
    },
    {
      "cell_type": "code",
      "execution_count": null,
      "metadata": {
        "colab": {
          "base_uri": "https://localhost:8080/"
        },
        "id": "J5gGOjbh1ZHA",
        "outputId": "0f278397-0dc3-474e-e0a4-95765ad1cfb7"
      },
      "outputs": [
        {
          "output_type": "execute_result",
          "data": {
            "text/plain": [
              "{0, 1, 2}"
            ]
          },
          "metadata": {},
          "execution_count": 25
        }
      ],
      "source": [
        "set(train_target)"
      ]
    },
    {
      "cell_type": "code",
      "execution_count": null,
      "metadata": {
        "id": "0PcA3GwX1ZHA",
        "colab": {
          "base_uri": "https://localhost:8080/"
        },
        "outputId": "37523b53-3def-492e-89cf-00344e030fce"
      },
      "outputs": [
        {
          "output_type": "stream",
          "name": "stdout",
          "text": [
            "Downloading data from https://storage.googleapis.com/tensorflow/keras-applications/resnet/resnet50_weights_tf_dim_ordering_tf_kernels_notop.h5\n",
            "94773248/94765736 [==============================] - 1s 0us/step\n",
            "94781440/94765736 [==============================] - 1s 0us/step\n"
          ]
        }
      ],
      "source": [
        "## 일부 재학습 모델\n",
        "base_model = ResNet50(include_top=False, input_shape = (224, 224,3), weights = 'imagenet')\n",
        "\n",
        "for layer in base_model.layers[:-10]: \n",
        "    layer.trainable = False\t\t\t\n",
        "\n",
        "inputs = tf.keras.Input(shape=(224, 224, 3))\n",
        "\n",
        "x = base_model(inputs, training=False) # batchnorm 부분 update 방지\n",
        "\n",
        "x = tf.keras.layers.Flatten(input_shape=base_model.output_shape[1:])(x)\n",
        "x = tf.keras.layers.Dense(256, activation='relu')(x)\n",
        "x= tf.keras.layers.Dropout(0.5)(x)\n",
        "outputs = tf.keras.layers.Dense(3, activation='softmax')(x)\n",
        "\n",
        "model = tf.keras.Model(inputs, outputs)\n",
        "\n",
        "model.compile(optimizer = tf.keras.optimizers.Adam( learning_rate= 0.0001),\n",
        "                loss = 'sparse_categorical_crossentropy',\n",
        "                metrics=['accuracy'])"
      ]
    },
    {
      "cell_type": "code",
      "execution_count": null,
      "metadata": {
        "colab": {
          "base_uri": "https://localhost:8080/"
        },
        "id": "Gt6oCQMx1ZHA",
        "outputId": "dd797391-f53c-48c0-b456-6586816b18ab"
      },
      "outputs": [
        {
          "output_type": "stream",
          "name": "stdout",
          "text": [
            "Model: \"model\"\n",
            "_________________________________________________________________\n",
            " Layer (type)                Output Shape              Param #   \n",
            "=================================================================\n",
            " input_2 (InputLayer)        [(None, 224, 224, 3)]     0         \n",
            "                                                                 \n",
            " resnet50 (Functional)       (None, 7, 7, 2048)        23587712  \n",
            "                                                                 \n",
            " flatten (Flatten)           (None, 100352)            0         \n",
            "                                                                 \n",
            " dense (Dense)               (None, 256)               25690368  \n",
            "                                                                 \n",
            " dropout (Dropout)           (None, 256)               0         \n",
            "                                                                 \n",
            " dense_1 (Dense)             (None, 3)                 771       \n",
            "                                                                 \n",
            "=================================================================\n",
            "Total params: 49,278,851\n",
            "Trainable params: 30,156,803\n",
            "Non-trainable params: 19,122,048\n",
            "_________________________________________________________________\n"
          ]
        }
      ],
      "source": [
        "model.summary()"
      ]
    },
    {
      "cell_type": "code",
      "execution_count": null,
      "metadata": {
        "colab": {
          "base_uri": "https://localhost:8080/"
        },
        "id": "d22o8ikP1ZHA",
        "outputId": "e25db8c9-01bd-4c3d-e5ff-d084a5929520"
      },
      "outputs": [
        {
          "output_type": "stream",
          "name": "stdout",
          "text": [
            "Epoch 1/15\n",
            "193/193 [==============================] - 2805s 15s/step - loss: 1.0239 - accuracy: 0.5739 - val_loss: 0.7809 - val_accuracy: 0.6510 - lr: 1.0000e-04\n",
            "Epoch 2/15\n",
            "193/193 [==============================] - 2769s 14s/step - loss: 0.7659 - accuracy: 0.6582 - val_loss: 0.7508 - val_accuracy: 0.6677 - lr: 1.0000e-04\n",
            "Epoch 3/15\n",
            "193/193 [==============================] - 2793s 14s/step - loss: 0.6896 - accuracy: 0.6952 - val_loss: 0.7360 - val_accuracy: 0.6759 - lr: 1.0000e-05\n",
            "Epoch 4/15\n",
            "193/193 [==============================] - 2812s 15s/step - loss: 0.6638 - accuracy: 0.7073 - val_loss: 0.7343 - val_accuracy: 0.6785 - lr: 1.0000e-06\n",
            "Epoch 5/15\n",
            "193/193 [==============================] - 2825s 15s/step - loss: 0.6601 - accuracy: 0.7068 - val_loss: 0.7344 - val_accuracy: 0.6778 - lr: 1.0000e-07\n",
            "Epoch 6/15\n",
            "193/193 [==============================] - 2834s 15s/step - loss: 0.6596 - accuracy: 0.7087 - val_loss: 0.7344 - val_accuracy: 0.6777 - lr: 1.0000e-08\n",
            "Epoch 7/15\n",
            "193/193 [==============================] - 2798s 15s/step - loss: 0.6584 - accuracy: 0.7078 - val_loss: 0.7344 - val_accuracy: 0.6777 - lr: 1.0000e-09\n",
            "Epoch 8/15\n",
            "193/193 [==============================] - 2814s 15s/step - loss: 0.6593 - accuracy: 0.7073 - val_loss: 0.7344 - val_accuracy: 0.6777 - lr: 1.0000e-10\n",
            "Epoch 9/15\n",
            "193/193 [==============================] - 2799s 15s/step - loss: 0.6605 - accuracy: 0.7079 - val_loss: 0.7344 - val_accuracy: 0.6777 - lr: 1.0000e-11\n",
            "Epoch 10/15\n",
            "193/193 [==============================] - 2817s 15s/step - loss: 0.6590 - accuracy: 0.7071 - val_loss: 0.7344 - val_accuracy: 0.6777 - lr: 1.0000e-12\n",
            "Epoch 11/15\n",
            "193/193 [==============================] - 2802s 15s/step - loss: 0.6620 - accuracy: 0.7075 - val_loss: 0.7344 - val_accuracy: 0.6777 - lr: 1.0000e-13\n",
            "Epoch 12/15\n",
            "193/193 [==============================] - 2822s 15s/step - loss: 0.6623 - accuracy: 0.7076 - val_loss: 0.7344 - val_accuracy: 0.6777 - lr: 1.0000e-14\n",
            "Epoch 13/15\n",
            "193/193 [==============================] - 2792s 14s/step - loss: 0.6616 - accuracy: 0.7095 - val_loss: 0.7344 - val_accuracy: 0.6777 - lr: 1.0000e-15\n",
            "Epoch 14/15\n",
            "193/193 [==============================] - 2788s 14s/step - loss: 0.6583 - accuracy: 0.7091 - val_loss: 0.7344 - val_accuracy: 0.6777 - lr: 1.0000e-16\n",
            "Epoch 15/15\n",
            "193/193 [==============================] - 2777s 14s/step - loss: 0.6595 - accuracy: 0.7091 - val_loss: 0.7344 - val_accuracy: 0.6777 - lr: 1.0000e-17\n"
          ]
        },
        {
          "output_type": "execute_result",
          "data": {
            "text/plain": [
              "<keras.callbacks.History at 0x7f8ae0ae6090>"
            ]
          },
          "metadata": {},
          "execution_count": 28
        }
      ],
      "source": [
        "# 학습\n",
        "# 2. 전처리 + 헤어스타일 라벨 3개 + 증강(train = 32089개) + zeromean 불가능\n",
        "\n",
        "model.fit(train_input, train_target, epochs = 15, batch_size= 125, validation_data=(val_input, val_target))"
      ]
    },
    {
      "cell_type": "code",
      "execution_count": null,
      "metadata": {
        "id": "KetXsmph1ZHB",
        "colab": {
          "base_uri": "https://localhost:8080/"
        },
        "outputId": "776a9674-54ab-4b5e-9e52-addc09efd518"
      },
      "outputs": [
        {
          "output_type": "stream",
          "name": "stdout",
          "text": [
            "Epoch 1/15\n",
            "193/193 [==============================] - 8203s 42s/step - loss: 1.0393 - accuracy: 0.5492 - val_loss: 0.9514 - val_accuracy: 0.5529\n",
            "Epoch 2/15\n",
            "193/193 [==============================] - 8236s 43s/step - loss: 0.8995 - accuracy: 0.5887 - val_loss: 0.8289 - val_accuracy: 0.6373\n",
            "Epoch 3/15\n",
            "193/193 [==============================] - 8200s 42s/step - loss: 0.7788 - accuracy: 0.6563 - val_loss: 0.7830 - val_accuracy: 0.6658\n",
            "Epoch 4/15\n",
            " 89/193 [============>.................] - ETA: 1:06:44 - loss: 0.7319 - accuracy: 0.6840"
          ]
        }
      ],
      "source": [
        "## fine-tune\n",
        "base_model.trainable = True\n",
        "\n",
        "model.compile(optimizer = tf.keras.optimizers.Adam( learning_rate= 0.0001),\n",
        "                loss = 'sparse_categorical_crossentropy',\n",
        "                metrics=['accuracy'])\n",
        "\n",
        "model.fit(train_input, train_target, epochs = 15, validation_data=(val_input, val_target), \n",
        "                   batch_size= 125)"
      ]
    },
    {
      "cell_type": "code",
      "execution_count": null,
      "metadata": {
        "id": "rlT5i1m81ZHB"
      },
      "outputs": [],
      "source": [
        "# 시험\n",
        "model.evaluate(test_input, test_target)"
      ]
    },
    {
      "cell_type": "code",
      "execution_count": null,
      "metadata": {
        "id": "Tq2g6ZJ920h_"
      },
      "outputs": [],
      "source": []
    }
  ],
  "metadata": {
    "colab": {
      "collapsed_sections": [],
      "machine_shape": "hm",
      "provenance": []
    },
    "gpuClass": "standard",
    "kernelspec": {
      "display_name": "Python 3.10.5 64-bit",
      "language": "python",
      "name": "python3"
    },
    "language_info": {
      "name": "python",
      "version": "3.10.5"
    },
    "vscode": {
      "interpreter": {
        "hash": "aee8b7b246df8f9039afb4144a1f6fd8d2ca17a180786b69acc140d282b71a49"
      }
    }
  },
  "nbformat": 4,
  "nbformat_minor": 0
}