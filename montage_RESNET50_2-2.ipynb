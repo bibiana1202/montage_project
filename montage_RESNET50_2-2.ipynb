{
  "cells": [
    {
      "cell_type": "code",
      "execution_count": null,
      "metadata": {
        "id": "2hVjETSnsIX8"
      },
      "outputs": [],
      "source": [
        "import pickle\n",
        "from google.colab import drive\n",
        "\n",
        "import pandas as pd\n",
        "import numpy as np\n",
        "\n",
        "import requests\n",
        "from bs4 import BeautifulSoup\n",
        "import os"
      ]
    },
    {
      "cell_type": "code",
      "execution_count": null,
      "metadata": {
        "colab": {
          "base_uri": "https://localhost:8080/"
        },
        "id": "VvEgEp6VdFOk",
        "outputId": "8ed9b307-aa65-4c1e-ed51-6fde19ff401c"
      },
      "outputs": [
        {
          "output_type": "stream",
          "name": "stdout",
          "text": [
            "Mounted at /content/drive\n"
          ]
        }
      ],
      "source": [
        "# Google dirve에 연결\n",
        "\n",
        "drive.mount('/content/drive')"
      ]
    },
    {
      "cell_type": "code",
      "execution_count": null,
      "metadata": {
        "id": "aa3oglfZuQua"
      },
      "outputs": [],
      "source": [
        "# PATH\n",
        "PATH_train='/content/drive/MyDrive/montage_project/train/'\n",
        "PATH_train_montage = '/content/drive/MyDrive/montage_project/train/montage/'\n",
        "PATH_train_json = '/content/drive/MyDrive/montage_project/train/H/'\n",
        "\n",
        "PATH_train_resized='/content/drive/MyDrive/montage_project/train/resized/'"
      ]
    },
    {
      "cell_type": "code",
      "execution_count": null,
      "metadata": {
        "id": "5VGqYcn66grs"
      },
      "outputs": [],
      "source": [
        "PATH_test='/content/drive/MyDrive/montage_project/test/'\n",
        "PATH_test_montage = '/content/drive/MyDrive/montage_project/test/montage/'\n",
        "PATH_test_json = '/content/drive/MyDrive/montage_project/test/H/'\n"
      ]
    },
    {
      "cell_type": "code",
      "execution_count": null,
      "metadata": {
        "id": "KB0gEtQ69ri4"
      },
      "outputs": [],
      "source": [
        "# 라벨 설정\n",
        "class_names_age = ['20~35','25~50','50']\n",
        "class_names_gender = ['M','F']\n",
        "class_names_face = ['계란형','긴형','둥근형','마름모형','사각형','역삼각형']\n",
        "class_names_hairstyle = ['곱슬머리','직모(생머리)','나머지']\n",
        "class_names_eyebrows =['각진형','둥근형','물결형','직선형','분류없음']"
      ]
    },
    {
      "cell_type": "markdown",
      "metadata": {
        "id": "jGUIO0HXDCUt"
      },
      "source": [
        "---------------------------------------------------------------------------------------------------------------------------------------------------------------------------------------------------------------------------------------"
      ]
    },
    {
      "cell_type": "markdown",
      "metadata": {
        "id": "bMqXj4uszFBs"
      },
      "source": [
        "# 불러오기"
      ]
    },
    {
      "cell_type": "code",
      "execution_count": null,
      "metadata": {
        "colab": {
          "base_uri": "https://localhost:8080/"
        },
        "id": "qkC0yUlhzGra",
        "outputId": "be845078-df57-4efb-f25c-4be8cb3a7e87"
      },
      "outputs": [
        {
          "output_type": "stream",
          "name": "stdout",
          "text": [
            "6 dict_keys(['train_img_ar', 'train_age_label', 'train_gender_label', 'train_face_label', 'train_hairstyle_label', 'train_eyebrows_label'])\n"
          ]
        }
      ],
      "source": [
        "import gzip\n",
        "# 2. 전처리 + 헤어스타일 라벨 3개 + 증강\n",
        "\n",
        "## train 불러오기!\n",
        "with gzip.open(PATH_train+'dic_train_label2.pickle','rb') as f:\n",
        "  dic_train_label = pickle.load(f)\n",
        "\n",
        "print(len(dic_train_label),dic_train_label.keys())"
      ]
    },
    {
      "cell_type": "code",
      "execution_count": null,
      "metadata": {
        "colab": {
          "base_uri": "https://localhost:8080/"
        },
        "id": "MrbystDmzuwJ",
        "outputId": "86c1bf23-c200-4bf9-ce7c-4677d36cd055"
      },
      "outputs": [
        {
          "output_type": "execute_result",
          "data": {
            "text/plain": [
              "(224, 224, 3)"
            ]
          },
          "metadata": {},
          "execution_count": 7
        }
      ],
      "source": [
        "dic_train_label['train_img_ar'][0].shape"
      ]
    },
    {
      "cell_type": "code",
      "execution_count": null,
      "metadata": {
        "colab": {
          "base_uri": "https://localhost:8080/"
        },
        "id": "igdZx9mkz-ds",
        "outputId": "eaae7de0-9a43-4135-93c2-8b690137d827"
      },
      "outputs": [
        {
          "output_type": "execute_result",
          "data": {
            "text/plain": [
              "(32089, 32089, 32089, 32089)"
            ]
          },
          "metadata": {},
          "execution_count": 8
        }
      ],
      "source": [
        "len(dic_train_label['train_img_ar']),len(dic_train_label['train_age_label']),len(dic_train_label['train_gender_label']),len(dic_train_label['train_hairstyle_label'])"
      ]
    },
    {
      "cell_type": "code",
      "execution_count": null,
      "metadata": {
        "colab": {
          "base_uri": "https://localhost:8080/"
        },
        "id": "rmxaGjdpzlvB",
        "outputId": "b685bf07-abec-4292-f8ae-f51ece3f4ff4"
      },
      "outputs": [
        {
          "output_type": "stream",
          "name": "stdout",
          "text": [
            "6 dict_keys(['test_img_ar', 'test_age_label', 'test_gender_label', 'test_face_label', 'test_hairstyle_label', 'test_eyebrows_label'])\n"
          ]
        }
      ],
      "source": [
        "import gzip\n",
        "# 2. 전처리 + 헤어스타일 라벨 3개 + 증강\n",
        "\n",
        "## test 불러오기!\n",
        "with gzip.open(PATH_test+'dic_test_label2.pickle','rb') as f:\n",
        "  dic_test_label = pickle.load(f)\n",
        "\n",
        "print(len(dic_test_label),dic_test_label.keys())"
      ]
    },
    {
      "cell_type": "code",
      "execution_count": null,
      "metadata": {
        "colab": {
          "base_uri": "https://localhost:8080/"
        },
        "id": "nP-Fla3l0aiJ",
        "outputId": "ea638694-7ee2-429f-cf99-79da4d3112b6"
      },
      "outputs": [
        {
          "output_type": "execute_result",
          "data": {
            "text/plain": [
              "(224, 224, 3)"
            ]
          },
          "metadata": {},
          "execution_count": 10
        }
      ],
      "source": [
        "dic_test_label['test_img_ar'][0].shape"
      ]
    },
    {
      "cell_type": "code",
      "execution_count": null,
      "metadata": {
        "colab": {
          "base_uri": "https://localhost:8080/"
        },
        "id": "AyaBRNUS0eAB",
        "outputId": "0b130a4e-c290-47d0-8cc8-70156e372640"
      },
      "outputs": [
        {
          "output_type": "execute_result",
          "data": {
            "text/plain": [
              "(1010, 1010, 1010, 1010)"
            ]
          },
          "metadata": {},
          "execution_count": 11
        }
      ],
      "source": [
        "len(dic_test_label['test_img_ar']),len(dic_test_label['test_age_label']),len(dic_test_label['test_gender_label']),len(dic_test_label['test_hairstyle_label'])"
      ]
    },
    {
      "cell_type": "markdown",
      "metadata": {
        "id": "h2n_V4vyXyx4"
      },
      "source": [
        "## Tensorflow"
      ]
    },
    {
      "cell_type": "code",
      "execution_count": null,
      "metadata": {
        "colab": {
          "base_uri": "https://localhost:8080/",
          "height": 36
        },
        "id": "TDAZOypCxV5o",
        "outputId": "718a1bc3-9832-462b-fe40-debf0af9706c"
      },
      "outputs": [
        {
          "data": {
            "application/vnd.google.colaboratory.intrinsic+json": {
              "type": "string"
            },
            "text/plain": [
              "'2.8.2'"
            ]
          },
          "execution_count": 12,
          "metadata": {},
          "output_type": "execute_result"
        }
      ],
      "source": [
        "import tensorflow as tf\n",
        "\n",
        "tf.__version__"
      ]
    },
    {
      "cell_type": "markdown",
      "metadata": {
        "id": "8QZl2dGOQTJh"
      },
      "source": [
        "텐서플로우 2.0 버전에서는 Keras가 기본 탑재가 되었고   \n",
        "공식사이트에서도 Keras를 사용하기 때문에 저희도 Keras 위주로 진행을 하겠습니다.  \n",
        "(keras 로 코딩을 하는게 훨씬 쉽습니다.)"
      ]
    },
    {
      "cell_type": "code",
      "execution_count": null,
      "metadata": {
        "id": "g6r6yyY4TJJb"
      },
      "outputs": [],
      "source": [
        "from tensorflow.keras import datasets, layers, models #Tensorflow에 있는 Keras 함수들 호출하기"
      ]
    },
    {
      "cell_type": "markdown",
      "metadata": {
        "id": "rd7lk_r1zDbF"
      },
      "source": []
    },
    {
      "cell_type": "markdown",
      "metadata": {
        "id": "8k7KdEnY278p"
      },
      "source": [
        "# CNN - Age\n",
        "\n",
        "\n"
      ]
    },
    {
      "cell_type": "code",
      "execution_count": null,
      "metadata": {
        "id": "9hqVqUMQ3VoH"
      },
      "outputs": [],
      "source": [
        "import os\n",
        "import numpy as np\n",
        "import tensorflow as tf\n",
        "from tensorflow.keras import datasets, layers, models #Tensorflow에 있는 Keras 함수들 호출하기"
      ]
    },
    {
      "cell_type": "code",
      "execution_count": null,
      "metadata": {
        "id": "cEcJqH_j00LK"
      },
      "outputs": [],
      "source": [
        "train_input = train_img_ar\n",
        "test_input = test_img_ar\n",
        "\n",
        "train_target = train_age_label\n",
        "test_target =test_age_label\n",
        "\n",
        "# 정규화\n",
        "train_input, test_input = train_input / 255.0, test_input / 255.0"
      ]
    },
    {
      "cell_type": "code",
      "execution_count": null,
      "metadata": {
        "colab": {
          "base_uri": "https://localhost:8080/"
        },
        "id": "1AMMfU-U0zZr",
        "outputId": "7ffbbbda-3c9c-42b0-dbb3-638c81d3fbe6"
      },
      "outputs": [
        {
          "data": {
            "text/plain": [
              "((8071, 224, 224, 3), (8071,), (1010, 224, 224, 3), (1010,))"
            ]
          },
          "execution_count": 116,
          "metadata": {},
          "output_type": "execute_result"
        }
      ],
      "source": [
        "train_input.shape,train_target.shape,test_input.shape,test_target.shape"
      ]
    },
    {
      "cell_type": "code",
      "execution_count": null,
      "metadata": {
        "colab": {
          "base_uri": "https://localhost:8080/"
        },
        "id": "H_9-ezoypSIL",
        "outputId": "24f6d993-7580-4b77-f548-f2051a481d27"
      },
      "outputs": [
        {
          "data": {
            "text/plain": [
              "{0, 1, 2}"
            ]
          },
          "execution_count": 117,
          "metadata": {},
          "output_type": "execute_result"
        }
      ],
      "source": [
        "set(train_age_label)"
      ]
    },
    {
      "cell_type": "code",
      "execution_count": null,
      "metadata": {
        "id": "Dl5J74Dw6_wn"
      },
      "outputs": [],
      "source": [
        "#모델 구축\n",
        "model = models.Sequential()\n",
        "## filtering layer\n",
        "# input = 180*135\n",
        "model.add(layers.Conv2D(64, (3, 3), activation='relu', input_shape=(224,224,3)))   #64=필터의 개수, 3,3은 필터의 크기\n",
        "model.add(layers.MaxPooling2D((2, 2)))  #필터의 개수 채널 입력할 필요없다!! 앞의 이미지 따라가니까, activation 없다->비선형 통과한게 아니니까\n",
        "model.add(layers.Conv2D(128, (3, 3), activation='relu'))\n",
        "model.add(layers.MaxPooling2D((2, 2)))   #11*11 을 2*2패딩 적용하면 ? 5*5\n",
        "model.add(layers.Conv2D(256, (3, 3), activation='relu'))\n",
        "\n",
        "## classification layer\n",
        "model.add(layers.Flatten())\n",
        "model.add(layers.Dense(32, activation='relu'))\n",
        "# output = 3개!\n",
        "model.add(layers.Dense(3, activation='softmax'))\n",
        "\n",
        "#모델 컴파일\n",
        "model.compile(optimizer='adam',\n",
        "              loss='sparse_categorical_crossentropy',\n",
        "              metrics=['accuracy'])\n"
      ]
    },
    {
      "cell_type": "code",
      "execution_count": null,
      "metadata": {
        "colab": {
          "base_uri": "https://localhost:8080/"
        },
        "id": "qpFdilMkPe--",
        "outputId": "e8282b29-360b-4739-9c95-ce8e9056e528"
      },
      "outputs": [
        {
          "name": "stdout",
          "output_type": "stream",
          "text": [
            "Model: \"sequential\"\n",
            "_________________________________________________________________\n",
            " Layer (type)                Output Shape              Param #   \n",
            "=================================================================\n",
            " conv2d (Conv2D)             (None, 222, 222, 64)      1792      \n",
            "                                                                 \n",
            " max_pooling2d (MaxPooling2D  (None, 111, 111, 64)     0         \n",
            " )                                                               \n",
            "                                                                 \n",
            " conv2d_1 (Conv2D)           (None, 109, 109, 128)     73856     \n",
            "                                                                 \n",
            " max_pooling2d_1 (MaxPooling  (None, 54, 54, 128)      0         \n",
            " 2D)                                                             \n",
            "                                                                 \n",
            " conv2d_2 (Conv2D)           (None, 52, 52, 256)       295168    \n",
            "                                                                 \n",
            " flatten (Flatten)           (None, 692224)            0         \n",
            "                                                                 \n",
            " dense (Dense)               (None, 32)                22151200  \n",
            "                                                                 \n",
            " dense_1 (Dense)             (None, 3)                 99        \n",
            "                                                                 \n",
            "=================================================================\n",
            "Total params: 22,522,115\n",
            "Trainable params: 22,522,115\n",
            "Non-trainable params: 0\n",
            "_________________________________________________________________\n"
          ]
        }
      ],
      "source": [
        "model.summary()"
      ]
    },
    {
      "cell_type": "code",
      "execution_count": null,
      "metadata": {
        "colab": {
          "base_uri": "https://localhost:8080/"
        },
        "id": "IVVDLi6QPq0E",
        "outputId": "40975ac3-61f2-4023-f8ab-faf9f3f21935"
      },
      "outputs": [
        {
          "name": "stdout",
          "output_type": "stream",
          "text": [
            "Epoch 1/5\n",
            "202/202 [==============================] - 900s 4s/step - loss: 0.5954 - accuracy: 0.7988 - val_loss: 0.8264 - val_accuracy: 0.6217\n",
            "Epoch 2/5\n",
            "202/202 [==============================] - 897s 4s/step - loss: 0.2456 - accuracy: 0.8937 - val_loss: 0.5195 - val_accuracy: 0.7771\n",
            "Epoch 3/5\n",
            "202/202 [==============================] - 897s 4s/step - loss: 0.1913 - accuracy: 0.9167 - val_loss: 0.6000 - val_accuracy: 0.7009\n",
            "Epoch 4/5\n",
            "202/202 [==============================] - 895s 4s/step - loss: 0.1787 - accuracy: 0.9266 - val_loss: 0.4548 - val_accuracy: 0.8272\n",
            "Epoch 5/5\n",
            "202/202 [==============================] - 873s 4s/step - loss: 0.1516 - accuracy: 0.9370 - val_loss: 0.4433 - val_accuracy: 0.8248\n"
          ]
        },
        {
          "data": {
            "text/plain": [
              "<keras.callbacks.History at 0x7fc5ec4d68d0>"
            ]
          },
          "execution_count": 120,
          "metadata": {},
          "output_type": "execute_result"
        }
      ],
      "source": [
        "# 학습\n",
        "model.fit(train_input, train_target, epochs=5,validation_split=0.2,verbose=1)"
      ]
    },
    {
      "cell_type": "code",
      "execution_count": null,
      "metadata": {
        "colab": {
          "base_uri": "https://localhost:8080/"
        },
        "id": "fUXTTX2OQ-nh",
        "outputId": "ac8d4289-c92f-4a1a-b87d-22bcf55f1a12"
      },
      "outputs": [
        {
          "name": "stdout",
          "output_type": "stream",
          "text": [
            "32/32 - 35s - loss: 0.2939 - accuracy: 0.9178 - 35s/epoch - 1s/step\n",
            "0.9178217649459839\n"
          ]
        }
      ],
      "source": [
        "# 시험\n",
        "test_loss, test_acc = model.evaluate(test_input, test_target, verbose=2)\n",
        "print(test_acc)"
      ]
    },
    {
      "cell_type": "code",
      "execution_count": null,
      "metadata": {
        "id": "MVdaJ4Y_XGnC"
      },
      "outputs": [],
      "source": []
    },
    {
      "cell_type": "markdown",
      "metadata": {
        "id": "wbazrLkEbd48"
      },
      "source": [
        "# CNN-gender"
      ]
    },
    {
      "cell_type": "code",
      "execution_count": null,
      "metadata": {
        "id": "FfmqIBkBbgn_"
      },
      "outputs": [],
      "source": [
        "import os\n",
        "import numpy as np\n",
        "from PIL import Image\n",
        "import tensorflow as tf\n",
        "from tensorflow.keras import datasets, layers, models #Tensorflow에 있는 Keras 함수들 호출하기"
      ]
    },
    {
      "cell_type": "code",
      "execution_count": null,
      "metadata": {
        "id": "yYX8HFtBbsTI"
      },
      "outputs": [],
      "source": [
        "from sklearn.model_selection import train_test_split\n",
        "train_input, test_input, train_target, test_target = train_test_split(train_img_ar,\n",
        "                                                                      train_gender_label,\n",
        "                                                                      shuffle=True, \n",
        "                                                                      stratify=train_age_label, \n",
        "                                                                      random_state=34)\n",
        "\n",
        "# 정규화\n",
        "train_input, test_input = train_input / 255.0, test_input / 255.0"
      ]
    },
    {
      "cell_type": "code",
      "execution_count": null,
      "metadata": {
        "colab": {
          "base_uri": "https://localhost:8080/"
        },
        "id": "tU0RrBC0buWB",
        "outputId": "b994c1d8-b3b9-4187-9289-d58f0b7f3e58"
      },
      "outputs": [
        {
          "data": {
            "text/plain": [
              "((6053, 180, 135, 3), (6053,), (2018, 180, 135, 3), (2018,))"
            ]
          },
          "execution_count": 39,
          "metadata": {},
          "output_type": "execute_result"
        }
      ],
      "source": [
        "train_input.shape,train_target.shape,test_input.shape,test_target.shape"
      ]
    },
    {
      "cell_type": "code",
      "execution_count": null,
      "metadata": {
        "colab": {
          "base_uri": "https://localhost:8080/"
        },
        "id": "qGpj0kycpLFd",
        "outputId": "097c282f-1e01-4252-a83b-30476dbde812"
      },
      "outputs": [
        {
          "data": {
            "text/plain": [
              "{'F', 'M'}"
            ]
          },
          "execution_count": 43,
          "metadata": {},
          "output_type": "execute_result"
        }
      ],
      "source": [
        "set(train_Data['gender'])"
      ]
    },
    {
      "cell_type": "code",
      "execution_count": null,
      "metadata": {
        "colab": {
          "base_uri": "https://localhost:8080/"
        },
        "id": "J-JI9Ow1pPn_",
        "outputId": "b471f96d-dcbf-48cf-f262-b62d1f072fee"
      },
      "outputs": [
        {
          "data": {
            "text/plain": [
              "{0, 1}"
            ]
          },
          "execution_count": 45,
          "metadata": {},
          "output_type": "execute_result"
        }
      ],
      "source": [
        "set(train_gender_label)"
      ]
    },
    {
      "cell_type": "code",
      "execution_count": null,
      "metadata": {
        "id": "DIfSGKqIbwzg"
      },
      "outputs": [],
      "source": [
        "#모델 구축\n",
        "model = models.Sequential()\n",
        "## filtering layer\n",
        "# input = 180*135\n",
        "model.add(layers.Conv2D(64, (3, 3), activation='relu', input_shape=(180,135,3)))   #64=필터의 개수, 3,3은 필터의 크기\n",
        "model.add(layers.MaxPooling2D((2, 2)))  #필터의 개수 채널 입력할 필요없다!! 앞의 이미지 따라가니까, activation 없다->비선형 통과한게 아니니까\n",
        "model.add(layers.Conv2D(128, (3, 3), activation='relu'))\n",
        "model.add(layers.MaxPooling2D((2, 2)))   #11*11 을 2*2패딩 적용하면 ? 5*5\n",
        "model.add(layers.Conv2D(256, (3, 3), activation='relu'))\n",
        "\n",
        "## classification layer\n",
        "model.add(layers.Flatten())\n",
        "model.add(layers.Dense(32, activation='relu'))\n",
        "# output = 2개!\n",
        "model.add(layers.Dense(2, activation='softmax'))\n",
        "\n",
        "#모델 컴파일\n",
        "model.compile(optimizer='adam',\n",
        "              loss='sparse_categorical_crossentropy',\n",
        "              metrics=['accuracy'])\n",
        "\n"
      ]
    },
    {
      "cell_type": "code",
      "execution_count": null,
      "metadata": {
        "colab": {
          "base_uri": "https://localhost:8080/"
        },
        "id": "iolrJdyDbyQ8",
        "outputId": "c68af9fb-4efc-4af3-d862-3af2e9364cee"
      },
      "outputs": [
        {
          "name": "stdout",
          "output_type": "stream",
          "text": [
            "Model: \"sequential_3\"\n",
            "_________________________________________________________________\n",
            " Layer (type)                Output Shape              Param #   \n",
            "=================================================================\n",
            " conv2d_9 (Conv2D)           (None, 178, 133, 64)      1792      \n",
            "                                                                 \n",
            " max_pooling2d_6 (MaxPooling  (None, 89, 66, 64)       0         \n",
            " 2D)                                                             \n",
            "                                                                 \n",
            " conv2d_10 (Conv2D)          (None, 87, 64, 128)       73856     \n",
            "                                                                 \n",
            " max_pooling2d_7 (MaxPooling  (None, 43, 32, 128)      0         \n",
            " 2D)                                                             \n",
            "                                                                 \n",
            " conv2d_11 (Conv2D)          (None, 41, 30, 256)       295168    \n",
            "                                                                 \n",
            " flatten_3 (Flatten)         (None, 314880)            0         \n",
            "                                                                 \n",
            " dense_6 (Dense)             (None, 32)                10076192  \n",
            "                                                                 \n",
            " dense_7 (Dense)             (None, 2)                 66        \n",
            "                                                                 \n",
            "=================================================================\n",
            "Total params: 10,447,074\n",
            "Trainable params: 10,447,074\n",
            "Non-trainable params: 0\n",
            "_________________________________________________________________\n"
          ]
        }
      ],
      "source": [
        "model.summary()"
      ]
    },
    {
      "cell_type": "code",
      "execution_count": null,
      "metadata": {
        "colab": {
          "base_uri": "https://localhost:8080/"
        },
        "id": "Bn_UFNqOb0OL",
        "outputId": "1d5d5580-bb51-48da-8640-9fe082d28517"
      },
      "outputs": [
        {
          "name": "stdout",
          "output_type": "stream",
          "text": [
            "Epoch 1/5\n",
            "152/152 [==============================] - 244s 2s/step - loss: 0.3116 - accuracy: 0.9025 - val_loss: 0.1489 - val_accuracy: 0.9463\n",
            "Epoch 2/5\n",
            "152/152 [==============================] - 244s 2s/step - loss: 0.1188 - accuracy: 0.9566 - val_loss: 0.0987 - val_accuracy: 0.9661\n",
            "Epoch 3/5\n",
            "152/152 [==============================] - 245s 2s/step - loss: 0.0912 - accuracy: 0.9667 - val_loss: 0.0732 - val_accuracy: 0.9777\n",
            "Epoch 4/5\n",
            "152/152 [==============================] - 248s 2s/step - loss: 0.0676 - accuracy: 0.9715 - val_loss: 0.1079 - val_accuracy: 0.9744\n",
            "Epoch 5/5\n",
            "152/152 [==============================] - 249s 2s/step - loss: 0.0649 - accuracy: 0.9738 - val_loss: 0.0764 - val_accuracy: 0.9761\n"
          ]
        },
        {
          "data": {
            "text/plain": [
              "<keras.callbacks.History at 0x7fe05ceb0ed0>"
            ]
          },
          "execution_count": 42,
          "metadata": {},
          "output_type": "execute_result"
        }
      ],
      "source": [
        "# 학습\n",
        "model.fit(train_input, train_target, epochs=5,validation_split=0.2,verbose=1)"
      ]
    },
    {
      "cell_type": "code",
      "execution_count": null,
      "metadata": {
        "colab": {
          "base_uri": "https://localhost:8080/"
        },
        "id": "VX9A2-1Lb1q7",
        "outputId": "d09a5a07-7338-40af-e2fc-55c313bd7fd4"
      },
      "outputs": [
        {
          "name": "stdout",
          "output_type": "stream",
          "text": [
            "64/64 - 27s - loss: 0.0619 - accuracy: 0.9797 - 27s/epoch - 416ms/step\n",
            "0.9796828627586365\n"
          ]
        }
      ],
      "source": [
        "# 시험\n",
        "test_loss, test_acc = model.evaluate(test_input, test_target, verbose=2)\n",
        "print(test_acc)"
      ]
    },
    {
      "cell_type": "code",
      "execution_count": null,
      "metadata": {
        "id": "0sKyZeywt3vj"
      },
      "outputs": [],
      "source": []
    },
    {
      "cell_type": "markdown",
      "metadata": {
        "id": "M19EnAV9uoYD"
      },
      "source": [
        "# CNN-face"
      ]
    },
    {
      "cell_type": "code",
      "execution_count": null,
      "metadata": {
        "id": "QeyBPTpvuoYE"
      },
      "outputs": [],
      "source": [
        "import os\n",
        "import numpy as np\n",
        "from PIL import Image\n",
        "import tensorflow as tf\n",
        "from tensorflow.keras import datasets, layers, models #Tensorflow에 있는 Keras 함수들 호출하기"
      ]
    },
    {
      "cell_type": "code",
      "execution_count": null,
      "metadata": {
        "id": "WnQL8Xh1uoYE"
      },
      "outputs": [],
      "source": [
        "from sklearn.model_selection import train_test_split\n",
        "train_input, test_input, train_target, test_target = train_test_split(train_img_ar,\n",
        "                                                                      train_face_label,\n",
        "                                                                      shuffle=True, \n",
        "                                                                      stratify=train_face_label, \n",
        "                                                                      random_state=34)\n",
        "\n",
        "# 정규화\n",
        "train_input, test_input = train_input / 255.0, test_input / 255.0"
      ]
    },
    {
      "cell_type": "code",
      "execution_count": null,
      "metadata": {
        "colab": {
          "base_uri": "https://localhost:8080/"
        },
        "id": "yF1_0aysuoYE",
        "outputId": "e1bcf4f6-b281-461f-cb12-7e11e84bccd8"
      },
      "outputs": [
        {
          "data": {
            "text/plain": [
              "((6053, 180, 135, 3), (6053,), (2018, 180, 135, 3), (2018,))"
            ]
          },
          "execution_count": 48,
          "metadata": {},
          "output_type": "execute_result"
        }
      ],
      "source": [
        "train_input.shape,train_target.shape,test_input.shape,test_target.shape"
      ]
    },
    {
      "cell_type": "code",
      "execution_count": null,
      "metadata": {
        "colab": {
          "base_uri": "https://localhost:8080/"
        },
        "id": "--kVFngiuoYF",
        "outputId": "c7670193-c61c-4977-9e75-b545c479c164"
      },
      "outputs": [
        {
          "data": {
            "text/plain": [
              "{'계란형', '긴형', '둥근형', '마름모형', '사각형', '역삼각형'}"
            ]
          },
          "execution_count": 49,
          "metadata": {},
          "output_type": "execute_result"
        }
      ],
      "source": [
        "set(dic_Data['face'])"
      ]
    },
    {
      "cell_type": "code",
      "execution_count": null,
      "metadata": {
        "colab": {
          "base_uri": "https://localhost:8080/"
        },
        "id": "wD1Gyi_4uoYF",
        "outputId": "43dadbc1-2443-47a8-aa54-6c112444ee14"
      },
      "outputs": [
        {
          "data": {
            "text/plain": [
              "{0, 1, 2, 3, 4, 5}"
            ]
          },
          "execution_count": 50,
          "metadata": {},
          "output_type": "execute_result"
        }
      ],
      "source": [
        "set(Data_face_label)"
      ]
    },
    {
      "cell_type": "code",
      "execution_count": null,
      "metadata": {
        "id": "RS87ZdtXuoYF"
      },
      "outputs": [],
      "source": [
        "#모델 구축\n",
        "model = models.Sequential()\n",
        "## filtering layer\n",
        "# input = 180*135\n",
        "model.add(layers.Conv2D(64, (3, 3), activation='relu', input_shape=(180,135,3)))   #64=필터의 개수, 3,3은 필터의 크기\n",
        "model.add(layers.MaxPooling2D((2, 2)))  #필터의 개수 채널 입력할 필요없다!! 앞의 이미지 따라가니까, activation 없다->비선형 통과한게 아니니까\n",
        "model.add(layers.Conv2D(128, (3, 3), activation='relu'))\n",
        "model.add(layers.MaxPooling2D((2, 2)))   #11*11 을 2*2패딩 적용하면 ? 5*5\n",
        "model.add(layers.Conv2D(256, (3, 3), activation='relu'))\n",
        "\n",
        "## classification layer\n",
        "model.add(layers.Flatten())\n",
        "model.add(layers.Dense(32, activation='relu'))\n",
        "# output\n",
        "model.add(layers.Dense(6, activation='softmax'))\n",
        "\n",
        "#모델 컴파일\n",
        "model.compile(optimizer='adam',\n",
        "              loss='sparse_categorical_crossentropy',\n",
        "              metrics=['accuracy'])\n",
        "\n"
      ]
    },
    {
      "cell_type": "code",
      "execution_count": null,
      "metadata": {
        "colab": {
          "base_uri": "https://localhost:8080/"
        },
        "id": "62LNlIHMuoYF",
        "outputId": "786ae884-594f-486d-b3a0-361880fe9957"
      },
      "outputs": [
        {
          "name": "stdout",
          "output_type": "stream",
          "text": [
            "Model: \"sequential_4\"\n",
            "_________________________________________________________________\n",
            " Layer (type)                Output Shape              Param #   \n",
            "=================================================================\n",
            " conv2d_12 (Conv2D)          (None, 178, 133, 64)      1792      \n",
            "                                                                 \n",
            " max_pooling2d_8 (MaxPooling  (None, 89, 66, 64)       0         \n",
            " 2D)                                                             \n",
            "                                                                 \n",
            " conv2d_13 (Conv2D)          (None, 87, 64, 128)       73856     \n",
            "                                                                 \n",
            " max_pooling2d_9 (MaxPooling  (None, 43, 32, 128)      0         \n",
            " 2D)                                                             \n",
            "                                                                 \n",
            " conv2d_14 (Conv2D)          (None, 41, 30, 256)       295168    \n",
            "                                                                 \n",
            " flatten_4 (Flatten)         (None, 314880)            0         \n",
            "                                                                 \n",
            " dense_8 (Dense)             (None, 32)                10076192  \n",
            "                                                                 \n",
            " dense_9 (Dense)             (None, 6)                 198       \n",
            "                                                                 \n",
            "=================================================================\n",
            "Total params: 10,447,206\n",
            "Trainable params: 10,447,206\n",
            "Non-trainable params: 0\n",
            "_________________________________________________________________\n"
          ]
        }
      ],
      "source": [
        "model.summary()"
      ]
    },
    {
      "cell_type": "code",
      "execution_count": null,
      "metadata": {
        "colab": {
          "base_uri": "https://localhost:8080/"
        },
        "id": "X7sTJk2-uoYG",
        "outputId": "6ab5e593-b602-432b-f580-77cc8ec011f7"
      },
      "outputs": [
        {
          "name": "stdout",
          "output_type": "stream",
          "text": [
            "Epoch 1/5\n",
            "152/152 [==============================] - 248s 2s/step - loss: 1.4973 - accuracy: 0.3567 - val_loss: 1.3522 - val_accuracy: 0.4005\n",
            "Epoch 2/5\n",
            "152/152 [==============================] - 248s 2s/step - loss: 1.3270 - accuracy: 0.4329 - val_loss: 1.2764 - val_accuracy: 0.4814\n",
            "Epoch 3/5\n",
            "152/152 [==============================] - 252s 2s/step - loss: 1.2435 - accuracy: 0.4806 - val_loss: 1.2576 - val_accuracy: 0.4690\n",
            "Epoch 4/5\n",
            "152/152 [==============================] - 346s 2s/step - loss: 1.1892 - accuracy: 0.5103 - val_loss: 1.2311 - val_accuracy: 0.4889\n",
            "Epoch 5/5\n",
            "152/152 [==============================] - 242s 2s/step - loss: 1.1428 - accuracy: 0.5310 - val_loss: 1.2506 - val_accuracy: 0.4814\n"
          ]
        },
        {
          "data": {
            "text/plain": [
              "<keras.callbacks.History at 0x7fe05c4c6410>"
            ]
          },
          "execution_count": 53,
          "metadata": {},
          "output_type": "execute_result"
        }
      ],
      "source": [
        "# 학습\n",
        "model.fit(train_input, train_target, epochs=5,validation_split=0.2,verbose=1)"
      ]
    },
    {
      "cell_type": "code",
      "execution_count": null,
      "metadata": {
        "colab": {
          "base_uri": "https://localhost:8080/"
        },
        "id": "VOvzjFyfuoYG",
        "outputId": "518e1c6c-ca84-4f79-f3d4-9a02c2a164ea"
      },
      "outputs": [
        {
          "name": "stdout",
          "output_type": "stream",
          "text": [
            "64/64 - 24s - loss: 1.2350 - accuracy: 0.4911 - 24s/epoch - 375ms/step\n",
            "0.49108028411865234\n"
          ]
        }
      ],
      "source": [
        "# 시험\n",
        "test_loss, test_acc = model.evaluate(test_input, test_target, verbose=2)\n",
        "print(test_acc)"
      ]
    },
    {
      "cell_type": "code",
      "execution_count": null,
      "metadata": {
        "id": "Fselt1E6uoYG"
      },
      "outputs": [],
      "source": []
    },
    {
      "cell_type": "markdown",
      "metadata": {
        "id": "Q7PyNKSP0_fH"
      },
      "source": [
        "# CNN-hairstyle"
      ]
    },
    {
      "cell_type": "code",
      "execution_count": null,
      "metadata": {
        "id": "juzr2PR50_fV"
      },
      "outputs": [],
      "source": [
        "import os\n",
        "import numpy as np\n",
        "from PIL import Image\n",
        "import tensorflow as tf\n",
        "from tensorflow.keras import datasets, layers, models #Tensorflow에 있는 Keras 함수들 호출하기"
      ]
    },
    {
      "cell_type": "code",
      "execution_count": null,
      "metadata": {
        "id": "Zj5JKcHz0_fW"
      },
      "outputs": [],
      "source": [
        "from sklearn.model_selection import train_test_split\n",
        "train_input, test_input, train_target, test_target = train_test_split(train_img_ar,\n",
        "                                                                      train_hairstyle_label,\n",
        "                                                                      shuffle=True, \n",
        "                                                                      stratify=train_hairstyle_label, \n",
        "                                                                      random_state=34)\n",
        "\n",
        "# 정규화\n",
        "train_input, test_input = train_input / 255.0, test_input / 255.0"
      ]
    },
    {
      "cell_type": "code",
      "execution_count": null,
      "metadata": {
        "colab": {
          "base_uri": "https://localhost:8080/"
        },
        "id": "68zOgURR0_fW",
        "outputId": "315b857d-9ada-4279-9c86-6ba1b78f5290"
      },
      "outputs": [
        {
          "data": {
            "text/plain": [
              "((6053, 180, 135, 3), (6053,), (2018, 180, 135, 3), (2018,))"
            ]
          },
          "execution_count": 57,
          "metadata": {},
          "output_type": "execute_result"
        }
      ],
      "source": [
        "train_input.shape,train_target.shape,test_input.shape,test_target.shape"
      ]
    },
    {
      "cell_type": "code",
      "execution_count": null,
      "metadata": {
        "colab": {
          "base_uri": "https://localhost:8080/"
        },
        "id": "pYETeCxD0_fW",
        "outputId": "41b340a8-0896-4132-95b8-63bcd17fbedd"
      },
      "outputs": [
        {
          "data": {
            "text/plain": [
              "{'곱슬머리', '스포츠형', '웨이브형', '직모(생머리)', '탈모형'}"
            ]
          },
          "execution_count": 59,
          "metadata": {},
          "output_type": "execute_result"
        }
      ],
      "source": [
        "set(dic_Data['hairstyle'])"
      ]
    },
    {
      "cell_type": "code",
      "execution_count": null,
      "metadata": {
        "colab": {
          "base_uri": "https://localhost:8080/"
        },
        "id": "2-YVE9uv0_fZ",
        "outputId": "0259471a-c624-4580-89a1-3f36227e0520"
      },
      "outputs": [
        {
          "data": {
            "text/plain": [
              "{0, 1, 2, 3, 4}"
            ]
          },
          "execution_count": 61,
          "metadata": {},
          "output_type": "execute_result"
        }
      ],
      "source": [
        "set(Data_hairstyle_label)"
      ]
    },
    {
      "cell_type": "code",
      "execution_count": null,
      "metadata": {
        "id": "Bv7oXyJs0_fZ"
      },
      "outputs": [],
      "source": [
        "#모델 구축\n",
        "model = models.Sequential()\n",
        "## filtering layer\n",
        "# input = 180*135\n",
        "model.add(layers.Conv2D(64, (3, 3), activation='relu', input_shape=(180,135,3)))   #64=필터의 개수, 3,3은 필터의 크기\n",
        "model.add(layers.MaxPooling2D((2, 2)))  #필터의 개수 채널 입력할 필요없다!! 앞의 이미지 따라가니까, activation 없다->비선형 통과한게 아니니까\n",
        "model.add(layers.Conv2D(128, (3, 3), activation='relu'))\n",
        "model.add(layers.MaxPooling2D((2, 2)))   #11*11 을 2*2패딩 적용하면 ? 5*5\n",
        "model.add(layers.Conv2D(256, (3, 3), activation='relu'))\n",
        "\n",
        "## classification layer\n",
        "model.add(layers.Flatten())\n",
        "model.add(layers.Dense(32, activation='relu'))\n",
        "# output\n",
        "model.add(layers.Dense(5, activation='softmax'))\n",
        "\n",
        "#모델 컴파일\n",
        "model.compile(optimizer='adam',\n",
        "              loss='sparse_categorical_crossentropy',\n",
        "              metrics=['accuracy'])\n",
        "\n"
      ]
    },
    {
      "cell_type": "code",
      "execution_count": null,
      "metadata": {
        "colab": {
          "base_uri": "https://localhost:8080/"
        },
        "id": "m8MMA6PY0_fZ",
        "outputId": "6db0a105-1f5a-407b-cb2c-33f888ad3c98"
      },
      "outputs": [
        {
          "name": "stdout",
          "output_type": "stream",
          "text": [
            "Model: \"sequential_5\"\n",
            "_________________________________________________________________\n",
            " Layer (type)                Output Shape              Param #   \n",
            "=================================================================\n",
            " conv2d_15 (Conv2D)          (None, 178, 133, 64)      1792      \n",
            "                                                                 \n",
            " max_pooling2d_10 (MaxPoolin  (None, 89, 66, 64)       0         \n",
            " g2D)                                                            \n",
            "                                                                 \n",
            " conv2d_16 (Conv2D)          (None, 87, 64, 128)       73856     \n",
            "                                                                 \n",
            " max_pooling2d_11 (MaxPoolin  (None, 43, 32, 128)      0         \n",
            " g2D)                                                            \n",
            "                                                                 \n",
            " conv2d_17 (Conv2D)          (None, 41, 30, 256)       295168    \n",
            "                                                                 \n",
            " flatten_5 (Flatten)         (None, 314880)            0         \n",
            "                                                                 \n",
            " dense_10 (Dense)            (None, 32)                10076192  \n",
            "                                                                 \n",
            " dense_11 (Dense)            (None, 5)                 165       \n",
            "                                                                 \n",
            "=================================================================\n",
            "Total params: 10,447,173\n",
            "Trainable params: 10,447,173\n",
            "Non-trainable params: 0\n",
            "_________________________________________________________________\n"
          ]
        }
      ],
      "source": [
        "model.summary()"
      ]
    },
    {
      "cell_type": "code",
      "execution_count": null,
      "metadata": {
        "colab": {
          "base_uri": "https://localhost:8080/"
        },
        "id": "ov2iS9sG0_fa",
        "outputId": "678f7928-8eb6-456b-d3e8-214beadf2c59"
      },
      "outputs": [
        {
          "name": "stdout",
          "output_type": "stream",
          "text": [
            "Epoch 1/5\n",
            "152/152 [==============================] - 236s 2s/step - loss: 1.0869 - accuracy: 0.5549 - val_loss: 0.9256 - val_accuracy: 0.5714\n",
            "Epoch 2/5\n",
            "152/152 [==============================] - 236s 2s/step - loss: 0.8783 - accuracy: 0.6010 - val_loss: 0.8647 - val_accuracy: 0.6350\n",
            "Epoch 3/5\n",
            "152/152 [==============================] - 249s 2s/step - loss: 0.8283 - accuracy: 0.6262 - val_loss: 0.8400 - val_accuracy: 0.6309\n",
            "Epoch 4/5\n",
            "152/152 [==============================] - 237s 2s/step - loss: 0.7921 - accuracy: 0.6499 - val_loss: 0.8358 - val_accuracy: 0.6416\n",
            "Epoch 5/5\n",
            "152/152 [==============================] - 235s 2s/step - loss: 0.7551 - accuracy: 0.6656 - val_loss: 0.7965 - val_accuracy: 0.6466\n"
          ]
        },
        {
          "data": {
            "text/plain": [
              "<keras.callbacks.History at 0x7fe05e8214d0>"
            ]
          },
          "execution_count": 64,
          "metadata": {},
          "output_type": "execute_result"
        }
      ],
      "source": [
        "# 학습\n",
        "model.fit(train_input, train_target, epochs=5,validation_split=0.2,verbose=1)"
      ]
    },
    {
      "cell_type": "code",
      "execution_count": null,
      "metadata": {
        "colab": {
          "base_uri": "https://localhost:8080/"
        },
        "id": "pG6howZM0_fa",
        "outputId": "518e1c6c-ca84-4f79-f3d4-9a02c2a164ea"
      },
      "outputs": [
        {
          "name": "stdout",
          "output_type": "stream",
          "text": [
            "64/64 - 24s - loss: 1.2350 - accuracy: 0.4911 - 24s/epoch - 375ms/step\n",
            "0.49108028411865234\n"
          ]
        }
      ],
      "source": [
        "# 시험\n",
        "test_loss, test_acc = model.evaluate(test_input, test_target, verbose=2)\n",
        "print(test_acc)"
      ]
    },
    {
      "cell_type": "code",
      "execution_count": null,
      "metadata": {
        "id": "pgXHFWjQ0_fa"
      },
      "outputs": [],
      "source": []
    },
    {
      "cell_type": "code",
      "execution_count": null,
      "metadata": {
        "id": "rU5X4KBsQN6H"
      },
      "outputs": [],
      "source": []
    },
    {
      "cell_type": "markdown",
      "metadata": {
        "id": "5f7e_zveQOO-"
      },
      "source": [
        "# RESNET50 -Age\n"
      ]
    },
    {
      "cell_type": "code",
      "execution_count": null,
      "metadata": {
        "id": "154WC_7yQOO_"
      },
      "outputs": [],
      "source": [
        "import os\n",
        "import numpy as np\n",
        "import tensorflow as tf\n",
        "from tensorflow.keras import datasets, layers, models #Tensorflow에 있는 Keras 함수들 호출하기"
      ]
    },
    {
      "cell_type": "code",
      "execution_count": null,
      "metadata": {
        "id": "y7sCDNQVRCHX"
      },
      "outputs": [],
      "source": [
        "from tensorflow.keras.applications.resnet50 import ResNet50\n",
        "from tensorflow.keras import datasets, layers, models\n",
        "\n",
        "from tensorflow.keras.layers import Dense, Flatten, MaxPooling2D\n",
        "from tensorflow.keras import Input\n",
        "from tensorflow.keras.layers import Dropout, BatchNormalization\n",
        "\n",
        "import matplotlib.pyplot as plt\n",
        "\n",
        "from sklearn.model_selection import train_test_split"
      ]
    },
    {
      "cell_type": "code",
      "execution_count": null,
      "metadata": {
        "id": "yyfV9elpQOO_"
      },
      "outputs": [],
      "source": [
        "train_input = train_img_ar\n",
        "test_input = test_img_ar\n",
        "\n",
        "train_target = train_age_label\n",
        "test_target =test_age_label\n",
        "\n",
        "\n",
        "from sklearn.model_selection import train_test_split\n",
        "train_input, val_input, train_target, val_target = train_test_split(train_input,\n",
        "                                                                      train_target,\n",
        "                                                                      shuffle=True, \n",
        "                                                                      stratify=train_target, \n",
        "                                                                      random_state=34)\n",
        "\n",
        "\n"
      ]
    },
    {
      "cell_type": "code",
      "execution_count": null,
      "metadata": {
        "id": "DYNmlIssRnsc"
      },
      "outputs": [],
      "source": [
        "train_input = train_input.astype('float32')\n",
        "val_input=val_input.astype('float32')\n",
        "test_input=test_input.astype('float32')"
      ]
    },
    {
      "cell_type": "code",
      "execution_count": null,
      "metadata": {
        "id": "SOJju8krSRLK"
      },
      "outputs": [],
      "source": [
        "def zero_mean(image):\n",
        "    # zero-centering\n",
        "    return np.mean(image, axis=0)"
      ]
    },
    {
      "cell_type": "code",
      "execution_count": null,
      "metadata": {
        "id": "5Qqo8x5BSSm9"
      },
      "outputs": [],
      "source": [
        "zero_mean_img = zero_mean(train_input)"
      ]
    },
    {
      "cell_type": "code",
      "execution_count": null,
      "metadata": {
        "id": "kSZdXy6LShwN"
      },
      "outputs": [],
      "source": [
        "train_input -= zero_mean_img\n",
        "val_input -= zero_mean_img\n",
        "test_input -= zero_mean_img"
      ]
    },
    {
      "cell_type": "code",
      "execution_count": null,
      "metadata": {
        "colab": {
          "base_uri": "https://localhost:8080/"
        },
        "id": "M8llIBW_QOO_",
        "outputId": "48579a3e-7876-46b1-823f-83cc5a7d913e"
      },
      "outputs": [
        {
          "data": {
            "text/plain": [
              "((6053, 224, 224, 3), (6053,), (2018, 224, 224, 3), (2018,))"
            ]
          },
          "execution_count": 53,
          "metadata": {},
          "output_type": "execute_result"
        }
      ],
      "source": [
        "train_input.shape,train_target.shape,val_input.shape,val_target.shape"
      ]
    },
    {
      "cell_type": "code",
      "execution_count": null,
      "metadata": {
        "colab": {
          "base_uri": "https://localhost:8080/"
        },
        "id": "4u7kno_5UFfl",
        "outputId": "fee3053c-e087-4a5f-94fd-425459183b2c"
      },
      "outputs": [
        {
          "data": {
            "text/plain": [
              "((1010, 224, 224, 3), (1010,))"
            ]
          },
          "execution_count": 54,
          "metadata": {},
          "output_type": "execute_result"
        }
      ],
      "source": [
        "test_input.shape,test_target.shape"
      ]
    },
    {
      "cell_type": "code",
      "execution_count": null,
      "metadata": {
        "colab": {
          "base_uri": "https://localhost:8080/"
        },
        "id": "m58XiwUeQOO_",
        "outputId": "6a6f3c8f-b2a7-4bee-c536-48e8aca3a3af"
      },
      "outputs": [
        {
          "data": {
            "text/plain": [
              "{0, 1, 2}"
            ]
          },
          "execution_count": 55,
          "metadata": {},
          "output_type": "execute_result"
        }
      ],
      "source": [
        "set(train_age_label)"
      ]
    },
    {
      "cell_type": "code",
      "execution_count": null,
      "metadata": {
        "colab": {
          "base_uri": "https://localhost:8080/"
        },
        "id": "IWUwdUFRQOO_",
        "outputId": "462b29a3-d7d1-4c41-e67f-cecc23aa1ab3"
      },
      "outputs": [
        {
          "name": "stdout",
          "output_type": "stream",
          "text": [
            "Downloading data from https://storage.googleapis.com/tensorflow/keras-applications/resnet/resnet50_weights_tf_dim_ordering_tf_kernels_notop.h5\n",
            "94773248/94765736 [==============================] - 1s 0us/step\n",
            "94781440/94765736 [==============================] - 1s 0us/step\n"
          ]
        }
      ],
      "source": [
        "## 일부 재학습 모델\n",
        "base_model = ResNet50(include_top=False, input_shape = (224, 224,3), weights = 'imagenet')\n",
        "\n",
        "for layer in base_model.layers[:-10]: \n",
        "    layer.trainable = False\t\t\t\n",
        "\n",
        "inputs = tf.keras.Input(shape=(224, 224, 3))\n",
        "\n",
        "x = base_model(inputs, training=False) # batchnorm 부분 update 방지\n",
        "\n",
        "x = tf.keras.layers.Flatten(input_shape=base_model.output_shape[1:])(x)\n",
        "x = tf.keras.layers.Dense(256, activation='relu')(x)\n",
        "x= tf.keras.layers.Dropout(0.5)(x)\n",
        "outputs = tf.keras.layers.Dense(3, activation='softmax')(x)\n",
        "\n",
        "model = tf.keras.Model(inputs, outputs)\n",
        "\n",
        "model.compile(optimizer = tf.keras.optimizers.Adam( learning_rate= 0.0001),\n",
        "                loss = 'sparse_categorical_crossentropy',\n",
        "                metrics=['accuracy'])"
      ]
    },
    {
      "cell_type": "code",
      "execution_count": null,
      "metadata": {
        "colab": {
          "base_uri": "https://localhost:8080/"
        },
        "id": "fD2MRn3bQOPA",
        "outputId": "c7cdfd4d-e734-48b9-8db6-eec1f151a603"
      },
      "outputs": [
        {
          "name": "stdout",
          "output_type": "stream",
          "text": [
            "Model: \"model\"\n",
            "_________________________________________________________________\n",
            " Layer (type)                Output Shape              Param #   \n",
            "=================================================================\n",
            " input_2 (InputLayer)        [(None, 224, 224, 3)]     0         \n",
            "                                                                 \n",
            " resnet50 (Functional)       (None, 7, 7, 2048)        23587712  \n",
            "                                                                 \n",
            " flatten (Flatten)           (None, 100352)            0         \n",
            "                                                                 \n",
            " dense (Dense)               (None, 256)               25690368  \n",
            "                                                                 \n",
            " dropout (Dropout)           (None, 256)               0         \n",
            "                                                                 \n",
            " dense_1 (Dense)             (None, 3)                 771       \n",
            "                                                                 \n",
            "=================================================================\n",
            "Total params: 49,278,851\n",
            "Trainable params: 30,156,803\n",
            "Non-trainable params: 19,122,048\n",
            "_________________________________________________________________\n"
          ]
        }
      ],
      "source": [
        "model.summary()"
      ]
    },
    {
      "cell_type": "code",
      "execution_count": null,
      "metadata": {
        "colab": {
          "base_uri": "https://localhost:8080/"
        },
        "id": "ocIJsNZOQOPA",
        "outputId": "d80faa52-be1a-43fd-c4a4-70f0cffb46e6"
      },
      "outputs": [
        {
          "name": "stdout",
          "output_type": "stream",
          "text": [
            "Epoch 1/5\n",
            "49/49 [==============================] - 742s 15s/step - loss: 1.0215 - accuracy: 0.7780 - val_loss: 0.2923 - val_accuracy: 0.8860\n",
            "Epoch 2/5\n",
            "49/49 [==============================] - 754s 15s/step - loss: 0.2488 - accuracy: 0.9000 - val_loss: 0.2434 - val_accuracy: 0.8944\n",
            "Epoch 3/5\n",
            "49/49 [==============================] - 810s 17s/step - loss: 0.1956 - accuracy: 0.9197 - val_loss: 0.2307 - val_accuracy: 0.9024\n",
            "Epoch 4/5\n",
            "49/49 [==============================] - 780s 16s/step - loss: 0.1613 - accuracy: 0.9338 - val_loss: 0.2540 - val_accuracy: 0.8940\n",
            "Epoch 5/5\n",
            "49/49 [==============================] - 794s 16s/step - loss: 0.1298 - accuracy: 0.9456 - val_loss: 0.2379 - val_accuracy: 0.8999\n"
          ]
        },
        {
          "data": {
            "text/plain": [
              "<keras.callbacks.History at 0x7fa736584590>"
            ]
          },
          "execution_count": 58,
          "metadata": {},
          "output_type": "execute_result"
        }
      ],
      "source": [
        "# 학습\n",
        "model.fit(train_input, train_target, epochs = 5, batch_size= 125, validation_data=(val_input, val_target))"
      ]
    },
    {
      "cell_type": "code",
      "execution_count": null,
      "metadata": {
        "colab": {
          "base_uri": "https://localhost:8080/"
        },
        "id": "1UaxKz1-QOPA",
        "outputId": "9b6643f3-f1d2-454d-aace-493b44370876"
      },
      "outputs": [
        {
          "name": "stdout",
          "output_type": "stream",
          "text": [
            "32/32 [==============================] - 89s 3s/step - loss: 0.4365 - accuracy: 0.9069\n"
          ]
        },
        {
          "data": {
            "text/plain": [
              "[0.43645957112312317, 0.906930685043335]"
            ]
          },
          "execution_count": 59,
          "metadata": {},
          "output_type": "execute_result"
        }
      ],
      "source": [
        "# 시험\n",
        "model.evaluate(test_input, test_target)"
      ]
    },
    {
      "cell_type": "code",
      "execution_count": null,
      "metadata": {
        "id": "Nei6ysA5QOPA"
      },
      "outputs": [],
      "source": []
    },
    {
      "cell_type": "markdown",
      "metadata": {
        "id": "Qjiwui4L0shB"
      },
      "source": [
        "# RESNET50 - gender\n"
      ]
    },
    {
      "cell_type": "code",
      "execution_count": null,
      "metadata": {
        "id": "t0gkS4cv0shB"
      },
      "outputs": [],
      "source": [
        "import os\n",
        "import numpy as np\n",
        "import tensorflow as tf\n",
        "from tensorflow.keras import datasets, layers, models #Tensorflow에 있는 Keras 함수들 호출하기"
      ]
    },
    {
      "cell_type": "code",
      "execution_count": null,
      "metadata": {
        "id": "VNgO1gT-0shB"
      },
      "outputs": [],
      "source": [
        "from tensorflow.keras.applications.resnet50 import ResNet50\n",
        "from tensorflow.keras import datasets, layers, models\n",
        "\n",
        "from tensorflow.keras.layers import Dense, Flatten, MaxPooling2D\n",
        "from tensorflow.keras import Input\n",
        "from tensorflow.keras.layers import Dropout, BatchNormalization\n",
        "\n",
        "import matplotlib.pyplot as plt\n",
        "\n",
        "from sklearn.model_selection import train_test_split"
      ]
    },
    {
      "cell_type": "code",
      "execution_count": null,
      "metadata": {
        "colab": {
          "base_uri": "https://localhost:8080/"
        },
        "id": "M5l-q7_k1KAr",
        "outputId": "694d8710-3551-4b1c-e844-9b7de7ea18fa"
      },
      "outputs": [
        {
          "data": {
            "text/plain": [
              "(numpy.ndarray, numpy.ndarray)"
            ]
          },
          "execution_count": 17,
          "metadata": {},
          "output_type": "execute_result"
        }
      ],
      "source": [
        "type(dic_train_label['train_img_ar']),type(dic_test_label['test_img_ar'])"
      ]
    },
    {
      "cell_type": "code",
      "execution_count": null,
      "metadata": {
        "colab": {
          "base_uri": "https://localhost:8080/"
        },
        "id": "xtKPDBVR1Npr",
        "outputId": "f530a9c8-a0c7-4e02-d7d9-95a1aa141027"
      },
      "outputs": [
        {
          "data": {
            "text/plain": [
              "(32089, 1010)"
            ]
          },
          "execution_count": 18,
          "metadata": {},
          "output_type": "execute_result"
        }
      ],
      "source": [
        "len(dic_train_label['train_img_ar']),len(dic_test_label['test_img_ar'])"
      ]
    },
    {
      "cell_type": "code",
      "execution_count": null,
      "metadata": {
        "colab": {
          "base_uri": "https://localhost:8080/"
        },
        "id": "1Jx92aTu1Ql6",
        "outputId": "d7f81d82-6244-42cc-bd02-ed05b7e8e436"
      },
      "outputs": [
        {
          "data": {
            "text/plain": [
              "((224, 224, 3), (224, 224, 3))"
            ]
          },
          "execution_count": 19,
          "metadata": {},
          "output_type": "execute_result"
        }
      ],
      "source": [
        "dic_train_label['train_img_ar'][0].shape,dic_test_label['test_img_ar'][0].shape"
      ]
    },
    {
      "cell_type": "code",
      "execution_count": null,
      "metadata": {
        "colab": {
          "base_uri": "https://localhost:8080/"
        },
        "id": "KRafvbLw1lF0",
        "outputId": "aedd0cd2-f24e-4252-9988-16bc96fe2f25"
      },
      "outputs": [
        {
          "data": {
            "text/plain": [
              "(numpy.ndarray, numpy.ndarray)"
            ]
          },
          "execution_count": 20,
          "metadata": {},
          "output_type": "execute_result"
        }
      ],
      "source": [
        "type(dic_train_label['train_age_label']),type(dic_test_label['test_age_label'])"
      ]
    },
    {
      "cell_type": "code",
      "execution_count": null,
      "metadata": {
        "colab": {
          "base_uri": "https://localhost:8080/"
        },
        "id": "wJkIdC6d1ouR",
        "outputId": "e3e5f9c8-ab26-49d7-96c7-dd89695388d6"
      },
      "outputs": [
        {
          "data": {
            "text/plain": [
              "(32089, 1010)"
            ]
          },
          "execution_count": 21,
          "metadata": {},
          "output_type": "execute_result"
        }
      ],
      "source": [
        "len(dic_train_label['train_age_label']),len(dic_test_label['test_age_label'])"
      ]
    },
    {
      "cell_type": "code",
      "execution_count": null,
      "metadata": {
        "colab": {
          "base_uri": "https://localhost:8080/"
        },
        "id": "oxfC4y421skN",
        "outputId": "4a16d935-bd5c-439a-a480-dfc55da5c566"
      },
      "outputs": [
        {
          "data": {
            "text/plain": [
              "(0, 2)"
            ]
          },
          "execution_count": 22,
          "metadata": {},
          "output_type": "execute_result"
        }
      ],
      "source": [
        "dic_train_label['train_age_label'][10000],dic_test_label['test_age_label'][1000]"
      ]
    },
    {
      "cell_type": "code",
      "execution_count": null,
      "metadata": {
        "id": "hrOW7mP-0shC"
      },
      "outputs": [],
      "source": [
        "train_input = dic_train_label['train_img_ar']\n",
        "test_input = dic_test_label['test_img_ar']\n",
        "\n",
        "train_target = dic_train_label['train_gender_label']\n",
        "test_target =dic_test_label['test_gender_label']\n",
        "\n",
        "\n",
        "from sklearn.model_selection import train_test_split\n",
        "train_input, val_input, train_target, val_target = train_test_split(train_input,\n",
        "                                                                      train_target,\n",
        "                                                                      shuffle=True, \n",
        "                                                                      stratify=train_target, \n",
        "                                                                      random_state=34)"
      ]
    },
    {
      "cell_type": "code",
      "execution_count": null,
      "metadata": {
        "id": "6CHkpmah0shC"
      },
      "outputs": [],
      "source": [
        "train_input = train_input.astype('float32')\n",
        "val_input=val_input.astype('float32')\n",
        "test_input=test_input.astype('float32')"
      ]
    },
    {
      "cell_type": "code",
      "execution_count": null,
      "metadata": {
        "id": "nSVrehWL0shC"
      },
      "outputs": [],
      "source": [
        "def zero_mean(image):\n",
        "    # zero-centering\n",
        "    return np.mean(image, axis=0)"
      ]
    },
    {
      "cell_type": "code",
      "execution_count": null,
      "metadata": {
        "colab": {
          "base_uri": "https://localhost:8080/"
        },
        "id": "a3jZqL-w-qkR",
        "outputId": "27b302cc-9284-49f0-c71c-4ea9d2073e84"
      },
      "outputs": [
        {
          "data": {
            "text/plain": [
              "(224, 224, 3)"
            ]
          },
          "execution_count": 28,
          "metadata": {},
          "output_type": "execute_result"
        }
      ],
      "source": [
        "zero_mean_img = zero_mean(train_input)\n",
        "zero_mean_img.shape"
      ]
    },
    {
      "cell_type": "code",
      "execution_count": null,
      "metadata": {
        "colab": {
          "base_uri": "https://localhost:8080/",
          "height": 201
        },
        "id": "hpeT3lYS0shC",
        "outputId": "620f8f29-d47b-41aa-b683-ed14d4868539"
      },
      "outputs": [
        {
          "ename": "UFuncTypeError",
          "evalue": "ignored",
          "output_type": "error",
          "traceback": [
            "\u001b[0;31m---------------------------------------------------------------------------\u001b[0m",
            "\u001b[0;31mUFuncTypeError\u001b[0m                            Traceback (most recent call last)",
            "\u001b[0;32m<ipython-input-30-5b2ea27e336a>\u001b[0m in \u001b[0;36m<module>\u001b[0;34m()\u001b[0m\n\u001b[0;32m----> 1\u001b[0;31m \u001b[0mtrain_input\u001b[0m \u001b[0;34m-=\u001b[0m \u001b[0mzero_mean_img\u001b[0m\u001b[0;34m\u001b[0m\u001b[0;34m\u001b[0m\u001b[0m\n\u001b[0m\u001b[1;32m      2\u001b[0m \u001b[0mval_input\u001b[0m \u001b[0;34m-=\u001b[0m \u001b[0mzero_mean_img\u001b[0m\u001b[0;34m\u001b[0m\u001b[0;34m\u001b[0m\u001b[0m\n\u001b[1;32m      3\u001b[0m \u001b[0mtest_input\u001b[0m \u001b[0;34m-=\u001b[0m \u001b[0mzero_mean_img\u001b[0m\u001b[0;34m\u001b[0m\u001b[0;34m\u001b[0m\u001b[0m\n",
            "\u001b[0;31mUFuncTypeError\u001b[0m: Cannot cast ufunc 'subtract' output from dtype('float64') to dtype('uint8') with casting rule 'same_kind'"
          ]
        }
      ],
      "source": [
        "train_input -= zero_mean_img\n",
        "val_input -= zero_mean_img\n",
        "test_input -= zero_mean_img"
      ]
    },
    {
      "cell_type": "code",
      "execution_count": null,
      "metadata": {
        "colab": {
          "base_uri": "https://localhost:8080/"
        },
        "id": "DeXG2cdH0shC",
        "outputId": "cf5e9f3d-cb0d-4919-eda7-444fd4a55452"
      },
      "outputs": [
        {
          "data": {
            "text/plain": [
              "((24066, 224, 224, 3), (24066,), (8023, 224, 224, 3), (8023,))"
            ]
          },
          "execution_count": 24,
          "metadata": {},
          "output_type": "execute_result"
        }
      ],
      "source": [
        "train_input.shape,train_target.shape,val_input.shape,val_target.shape"
      ]
    },
    {
      "cell_type": "code",
      "execution_count": null,
      "metadata": {
        "colab": {
          "base_uri": "https://localhost:8080/"
        },
        "id": "kR0CZkhr0shC",
        "outputId": "2dcbdb5f-8ecb-4c20-c975-ac950e9d3f9a"
      },
      "outputs": [
        {
          "data": {
            "text/plain": [
              "((1010, 224, 224, 3), (1010,))"
            ]
          },
          "execution_count": 25,
          "metadata": {},
          "output_type": "execute_result"
        }
      ],
      "source": [
        "test_input.shape,test_target.shape"
      ]
    },
    {
      "cell_type": "code",
      "execution_count": null,
      "metadata": {
        "colab": {
          "base_uri": "https://localhost:8080/"
        },
        "id": "TSI1-u1k0shC",
        "outputId": "2f2df57d-7e5a-416b-f20b-9dbe812af5c3"
      },
      "outputs": [
        {
          "data": {
            "text/plain": [
              "{0, 1}"
            ]
          },
          "execution_count": 26,
          "metadata": {},
          "output_type": "execute_result"
        }
      ],
      "source": [
        "set(train_target)"
      ]
    },
    {
      "cell_type": "code",
      "execution_count": null,
      "metadata": {
        "colab": {
          "base_uri": "https://localhost:8080/"
        },
        "id": "aSKGwFni0shD",
        "outputId": "b1fff57d-e6ed-4b37-f023-8bc85f8998b7"
      },
      "outputs": [
        {
          "name": "stdout",
          "output_type": "stream",
          "text": [
            "Downloading data from https://storage.googleapis.com/tensorflow/keras-applications/resnet/resnet50_weights_tf_dim_ordering_tf_kernels_notop.h5\n",
            "94773248/94765736 [==============================] - 1s 0us/step\n",
            "94781440/94765736 [==============================] - 1s 0us/step\n"
          ]
        }
      ],
      "source": [
        "## 일부 재학습 모델\n",
        "base_model = ResNet50(include_top=False, input_shape = (224, 224,3), weights = 'imagenet')\n",
        "\n",
        "for layer in base_model.layers[:-10]: \n",
        "    layer.trainable = False\t\t\t\n",
        "\n",
        "inputs = tf.keras.Input(shape=(224, 224, 3))\n",
        "\n",
        "x = base_model(inputs, training=False) # batchnorm 부분 update 방지\n",
        "\n",
        "x = tf.keras.layers.Flatten(input_shape=base_model.output_shape[1:])(x)\n",
        "x = tf.keras.layers.Dense(256, activation='relu')(x)\n",
        "x= tf.keras.layers.Dropout(0.5)(x)\n",
        "outputs = tf.keras.layers.Dense(2, activation='softmax')(x)\n",
        "\n",
        "model = tf.keras.Model(inputs, outputs)\n",
        "\n",
        "model.compile(optimizer = tf.keras.optimizers.Adam( learning_rate= 0.0001),\n",
        "                loss = 'sparse_categorical_crossentropy',\n",
        "                metrics=['accuracy'])"
      ]
    },
    {
      "cell_type": "code",
      "execution_count": null,
      "metadata": {
        "colab": {
          "base_uri": "https://localhost:8080/"
        },
        "id": "FTz0cijr0shD",
        "outputId": "60f20ee8-e95e-4e7d-9ef8-104e3fbbfc1a"
      },
      "outputs": [
        {
          "name": "stdout",
          "output_type": "stream",
          "text": [
            "Model: \"model\"\n",
            "_________________________________________________________________\n",
            " Layer (type)                Output Shape              Param #   \n",
            "=================================================================\n",
            " input_2 (InputLayer)        [(None, 224, 224, 3)]     0         \n",
            "                                                                 \n",
            " resnet50 (Functional)       (None, 7, 7, 2048)        23587712  \n",
            "                                                                 \n",
            " flatten (Flatten)           (None, 100352)            0         \n",
            "                                                                 \n",
            " dense (Dense)               (None, 256)               25690368  \n",
            "                                                                 \n",
            " dropout (Dropout)           (None, 256)               0         \n",
            "                                                                 \n",
            " dense_1 (Dense)             (None, 2)                 514       \n",
            "                                                                 \n",
            "=================================================================\n",
            "Total params: 49,278,594\n",
            "Trainable params: 30,156,546\n",
            "Non-trainable params: 19,122,048\n",
            "_________________________________________________________________\n"
          ]
        }
      ],
      "source": [
        "model.summary()"
      ]
    },
    {
      "cell_type": "code",
      "execution_count": null,
      "metadata": {
        "colab": {
          "base_uri": "https://localhost:8080/"
        },
        "id": "vn11Phko0shD",
        "outputId": "79475361-efc5-4054-e4f7-08ef643b5861"
      },
      "outputs": [
        {
          "name": "stdout",
          "output_type": "stream",
          "text": [
            "Epoch 1/5\n",
            "193/193 [==============================] - 2834s 15s/step - loss: 0.4224 - accuracy: 0.8795 - val_loss: 0.1330 - val_accuracy: 0.9511\n",
            "Epoch 2/5\n",
            "193/193 [==============================] - 2839s 15s/step - loss: 0.1245 - accuracy: 0.9525 - val_loss: 0.1116 - val_accuracy: 0.9576\n",
            "Epoch 3/5\n",
            "193/193 [==============================] - 2838s 15s/step - loss: 0.0995 - accuracy: 0.9628 - val_loss: 0.1034 - val_accuracy: 0.9619\n",
            "Epoch 4/5\n",
            "193/193 [==============================] - 2850s 15s/step - loss: 0.0765 - accuracy: 0.9708 - val_loss: 0.1060 - val_accuracy: 0.9612\n",
            "Epoch 5/5\n",
            "181/193 [===========================>..] - ETA: 2:17 - loss: 0.0563 - accuracy: 0.9781"
          ]
        }
      ],
      "source": [
        "# 학습\n",
        "model.fit(train_input, train_target, epochs = 5, batch_size= 125, validation_data=(val_input, val_target))\n",
        "\n",
        "## fine-tune\n",
        "base_model.trainable = True\n",
        "\n",
        "model.compile(optimizer = tf.keras.optimizers.Adam( learning_rate= 0.0001),\n",
        "                loss = 'categorical_crossentropy',\n",
        "                metrics=['accuracy'])\n",
        "\n",
        "model.fit(train_input, train_target, epochs = 5, validation_data=(val_input, val_target), \n",
        "                   batch_size= 125)\n",
        "\n",
        "# 시험\n",
        "model.evaluate(test_input, test_target)"
      ]
    },
    {
      "cell_type": "code",
      "execution_count": null,
      "metadata": {
        "id": "XvGxjw0lFnhb"
      },
      "outputs": [],
      "source": [
        "## fine-tune\n",
        "base_model.trainable = True\n",
        "\n",
        "model.compile(optimizer = tf.keras.optimizers.Adam( learning_rate= 0.0001),\n",
        "                loss = 'categorical_crossentropy',\n",
        "                metrics=['accuracy'])\n",
        "\n",
        "model.fit(train_input, train_target, epochs = 5, validation_data=(val_input, val_target), \n",
        "                   batch_size= 125)"
      ]
    },
    {
      "cell_type": "code",
      "execution_count": null,
      "metadata": {
        "colab": {
          "base_uri": "https://localhost:8080/"
        },
        "id": "MkIyxkoS0shD",
        "outputId": "9b6643f3-f1d2-454d-aace-493b44370876"
      },
      "outputs": [
        {
          "name": "stdout",
          "output_type": "stream",
          "text": [
            "32/32 [==============================] - 89s 3s/step - loss: 0.4365 - accuracy: 0.9069\n"
          ]
        },
        {
          "data": {
            "text/plain": [
              "[0.43645957112312317, 0.906930685043335]"
            ]
          },
          "execution_count": 59,
          "metadata": {},
          "output_type": "execute_result"
        }
      ],
      "source": [
        "# 시험\n",
        "model.evaluate(test_input, test_target)"
      ]
    },
    {
      "cell_type": "code",
      "execution_count": null,
      "metadata": {
        "id": "Wo6S6m4B1Yvp"
      },
      "outputs": [],
      "source": []
    },
    {
      "cell_type": "markdown",
      "metadata": {
        "id": "-8PiRlbo1ZG9"
      },
      "source": [
        "# RESNET50 - hairstyle\n"
      ]
    },
    {
      "cell_type": "code",
      "execution_count": null,
      "metadata": {
        "id": "7o1EMOAC1ZG9"
      },
      "outputs": [],
      "source": [
        "import os\n",
        "import numpy as np\n",
        "import tensorflow as tf\n",
        "from tensorflow.keras import datasets, layers, models #Tensorflow에 있는 Keras 함수들 호출하기"
      ]
    },
    {
      "cell_type": "code",
      "execution_count": null,
      "metadata": {
        "id": "5H5ZIQGQ1ZG-"
      },
      "outputs": [],
      "source": [
        "from tensorflow.keras.applications.resnet50 import ResNet50\n",
        "from tensorflow.keras import datasets, layers, models\n",
        "\n",
        "from tensorflow.keras.layers import Dense, Flatten, MaxPooling2D\n",
        "from tensorflow.keras import Input\n",
        "from tensorflow.keras.layers import Dropout, BatchNormalization\n",
        "\n",
        "import matplotlib.pyplot as plt\n",
        "\n",
        "from sklearn.model_selection import train_test_split"
      ]
    },
    {
      "cell_type": "code",
      "execution_count": null,
      "metadata": {
        "colab": {
          "base_uri": "https://localhost:8080/"
        },
        "id": "4s3T0pR21ZG-",
        "outputId": "9823c7e9-9104-4ca4-9846-a031cac9810d"
      },
      "outputs": [
        {
          "output_type": "execute_result",
          "data": {
            "text/plain": [
              "(numpy.ndarray, numpy.ndarray)"
            ]
          },
          "metadata": {},
          "execution_count": 34
        }
      ],
      "source": [
        "type(dic_train_label['train_img_ar']),type(dic_test_label['test_img_ar'])"
      ]
    },
    {
      "cell_type": "code",
      "execution_count": null,
      "metadata": {
        "colab": {
          "base_uri": "https://localhost:8080/"
        },
        "id": "BaCMXre51ZG-",
        "outputId": "ba449482-4066-488d-f2af-02967eec8786"
      },
      "outputs": [
        {
          "output_type": "execute_result",
          "data": {
            "text/plain": [
              "(32089, 1010)"
            ]
          },
          "metadata": {},
          "execution_count": 35
        }
      ],
      "source": [
        "len(dic_train_label['train_img_ar']),len(dic_test_label['test_img_ar'])"
      ]
    },
    {
      "cell_type": "code",
      "execution_count": null,
      "metadata": {
        "colab": {
          "base_uri": "https://localhost:8080/"
        },
        "id": "nq2QjXxo1ZG_",
        "outputId": "350efe67-b9a0-4ecb-99f0-104cd9f6fd36"
      },
      "outputs": [
        {
          "output_type": "execute_result",
          "data": {
            "text/plain": [
              "((224, 224, 3), (224, 224, 3))"
            ]
          },
          "metadata": {},
          "execution_count": 36
        }
      ],
      "source": [
        "dic_train_label['train_img_ar'][0].shape,dic_test_label['test_img_ar'][0].shape"
      ]
    },
    {
      "cell_type": "code",
      "execution_count": null,
      "metadata": {
        "colab": {
          "base_uri": "https://localhost:8080/"
        },
        "id": "oDD-DFqZ1ZG_",
        "outputId": "3eb3d32a-7e87-482a-91cd-94e09e25de13"
      },
      "outputs": [
        {
          "output_type": "execute_result",
          "data": {
            "text/plain": [
              "(numpy.ndarray, numpy.ndarray)"
            ]
          },
          "metadata": {},
          "execution_count": 37
        }
      ],
      "source": [
        "type(dic_train_label['train_hairstyle_label']),type(dic_test_label['test_hairstyle_label'])"
      ]
    },
    {
      "cell_type": "code",
      "execution_count": null,
      "metadata": {
        "colab": {
          "base_uri": "https://localhost:8080/"
        },
        "id": "Y1gw2mZy1ZG_",
        "outputId": "c7005882-4edf-43c1-ef4f-ca30a5ad6311"
      },
      "outputs": [
        {
          "output_type": "execute_result",
          "data": {
            "text/plain": [
              "(32089, 1010)"
            ]
          },
          "metadata": {},
          "execution_count": 38
        }
      ],
      "source": [
        "len(dic_train_label['train_hairstyle_label']),len(dic_test_label['test_hairstyle_label'])"
      ]
    },
    {
      "cell_type": "code",
      "execution_count": null,
      "metadata": {
        "colab": {
          "base_uri": "https://localhost:8080/"
        },
        "id": "-06aFaWn1ZG_",
        "outputId": "2376a9da-4740-4788-cf7e-e88aeb61d1a6"
      },
      "outputs": [
        {
          "output_type": "execute_result",
          "data": {
            "text/plain": [
              "(0, 1)"
            ]
          },
          "metadata": {},
          "execution_count": 39
        }
      ],
      "source": [
        "dic_train_label['train_hairstyle_label'][10000],dic_test_label['test_hairstyle_label'][1000]"
      ]
    },
    {
      "cell_type": "code",
      "execution_count": null,
      "metadata": {
        "colab": {
          "base_uri": "https://localhost:8080/"
        },
        "id": "N-2EgUfA15hl",
        "outputId": "c827c724-19a1-4004-fa79-b065f684e302"
      },
      "outputs": [
        {
          "output_type": "execute_result",
          "data": {
            "text/plain": [
              "{0, 1, 2}"
            ]
          },
          "metadata": {},
          "execution_count": 40
        }
      ],
      "source": [
        "set(dic_train_label['train_hairstyle_label'])"
      ]
    },
    {
      "cell_type": "code",
      "source": [
        "train_input = dic_train_label['train_img_ar']\n",
        "test_input = dic_test_label['test_img_ar']\n",
        "\n",
        "train_target = dic_train_label['train_hairstyle_label']\n",
        "test_target =dic_test_label['test_hairstyle_label']"
      ],
      "metadata": {
        "id": "Lt53ARaulPcG"
      },
      "execution_count": null,
      "outputs": []
    },
    {
      "cell_type": "code",
      "source": [
        "# sparse categorical crossentropy VS \n",
        "# sparse categorical crossentropy 역시 멀티클래스 분류에 사용되는 손실함수입니다. 이름에 sparse 하나가 추가되었죠. 그러면 sparse categorical crossentropy가 사용되는 경우는 언제일까요? 바로 라벨이 0, 1, 2, 3, 4와 같이 정수의 형태로 제공될 때입니다. \n",
        "# categorical crossentropy는 분류해야할 클래스가 3개 이상인 경우, 즉 멀티클래스 분류에 사용됩니다. 라벨이 [0,0,1,0,0], [1,0,0,0,0], [0,0,0,1,0]과 같이 one-hot 형태로 제공될 때 사용됩니다.\n",
        "# categorical crossentropy + one_hot \n",
        "# 원핫 인코딩 (50000,1) -> (50000,10) => 카테고리컬\n",
        "train_target = tf.keras.utils.to_categorical(train_target, 3)\n",
        "test_target = tf.keras.utils.to_categorical(test_target, 3)\n",
        "train_target.shape, test_target.shape"
      ],
      "metadata": {
        "colab": {
          "base_uri": "https://localhost:8080/"
        },
        "id": "X3lu7993klBR",
        "outputId": "19ad1e64-335d-4f47-b824-365c2e514550"
      },
      "execution_count": null,
      "outputs": [
        {
          "output_type": "execute_result",
          "data": {
            "text/plain": [
              "((32089, 3), (1010, 3))"
            ]
          },
          "metadata": {},
          "execution_count": 42
        }
      ]
    },
    {
      "cell_type": "code",
      "source": [
        "train_target[0]"
      ],
      "metadata": {
        "colab": {
          "base_uri": "https://localhost:8080/"
        },
        "id": "s4eNQb8-lvpR",
        "outputId": "6cfcbbdb-bdac-4c5a-a88c-7368b6f43bcc"
      },
      "execution_count": null,
      "outputs": [
        {
          "output_type": "execute_result",
          "data": {
            "text/plain": [
              "array([0., 1., 0.], dtype=float32)"
            ]
          },
          "metadata": {},
          "execution_count": 43
        }
      ]
    },
    {
      "cell_type": "code",
      "execution_count": null,
      "metadata": {
        "id": "PgTFCBiC1ZG_"
      },
      "outputs": [],
      "source": [
        "from sklearn.model_selection import train_test_split\n",
        "train_input, val_input, train_target, val_target = train_test_split(train_input,\n",
        "                                                                      train_target,\n",
        "                                                                      shuffle=True)"
      ]
    },
    {
      "cell_type": "code",
      "execution_count": null,
      "metadata": {
        "colab": {
          "base_uri": "https://localhost:8080/"
        },
        "id": "4Jh07Hw-1ZHA",
        "outputId": "02cd4167-482f-477d-bf94-7516bbfe2899"
      },
      "outputs": [
        {
          "output_type": "execute_result",
          "data": {
            "text/plain": [
              "((24066, 224, 224, 3), (24066, 3), (8023, 224, 224, 3), (8023, 3))"
            ]
          },
          "metadata": {},
          "execution_count": 45
        }
      ],
      "source": [
        "train_input.shape,train_target.shape,val_input.shape,val_target.shape"
      ]
    },
    {
      "cell_type": "code",
      "execution_count": null,
      "metadata": {
        "colab": {
          "base_uri": "https://localhost:8080/"
        },
        "id": "P05dnQ1b1ZHA",
        "outputId": "ee9d15a0-45e1-4e4f-e7f1-43a1ead8469c"
      },
      "outputs": [
        {
          "output_type": "execute_result",
          "data": {
            "text/plain": [
              "((1010, 224, 224, 3), (1010, 3))"
            ]
          },
          "metadata": {},
          "execution_count": 46
        }
      ],
      "source": [
        "test_input.shape,test_target.shape"
      ]
    },
    {
      "cell_type": "code",
      "execution_count": null,
      "metadata": {
        "colab": {
          "base_uri": "https://localhost:8080/"
        },
        "id": "J5gGOjbh1ZHA",
        "outputId": "cafb684a-ae88-4af0-9d8a-b7cc46c69519"
      },
      "outputs": [
        {
          "output_type": "execute_result",
          "data": {
            "text/plain": [
              "(24066, 3)"
            ]
          },
          "metadata": {},
          "execution_count": 47
        }
      ],
      "source": [
        "train_target.shape"
      ]
    },
    {
      "cell_type": "code",
      "execution_count": null,
      "metadata": {
        "id": "0PcA3GwX1ZHA",
        "colab": {
          "base_uri": "https://localhost:8080/"
        },
        "outputId": "38b715b3-bcb5-4500-98f3-30ef99aa435b"
      },
      "outputs": [
        {
          "output_type": "stream",
          "name": "stdout",
          "text": [
            "Downloading data from https://storage.googleapis.com/tensorflow/keras-applications/resnet/resnet50_weights_tf_dim_ordering_tf_kernels_notop.h5\n",
            "94773248/94765736 [==============================] - 1s 0us/step\n",
            "94781440/94765736 [==============================] - 1s 0us/step\n"
          ]
        }
      ],
      "source": [
        "## 일부 재학습 모델\n",
        "base_model = ResNet50(include_top=False, input_shape = (224, 224,3), weights = 'imagenet')\n",
        "\n",
        "for layer in base_model.layers[:-10]: \n",
        "    layer.trainable = False\t\t\t\n",
        "\n",
        "inputs = tf.keras.Input(shape=(224, 224, 3))\n",
        "\n",
        "x = base_model(inputs, training=False) # batchnorm 부분 update 방지\n",
        "\n",
        "x = tf.keras.layers.Flatten(input_shape=base_model.output_shape[1:])(x)\n",
        "x = tf.keras.layers.Dense(256, activation='relu')(x)\n",
        "x= tf.keras.layers.Dropout(0.5)(x)\n",
        "outputs = tf.keras.layers.Dense(3, activation='softmax')(x)\n",
        "\n",
        "model = tf.keras.Model(inputs, outputs)\n"
      ]
    },
    {
      "cell_type": "code",
      "execution_count": null,
      "metadata": {
        "colab": {
          "base_uri": "https://localhost:8080/"
        },
        "id": "Gt6oCQMx1ZHA",
        "outputId": "822f2b01-fa08-4c43-ef17-05fb24c14957"
      },
      "outputs": [
        {
          "output_type": "stream",
          "name": "stdout",
          "text": [
            "Model: \"model\"\n",
            "_________________________________________________________________\n",
            " Layer (type)                Output Shape              Param #   \n",
            "=================================================================\n",
            " input_2 (InputLayer)        [(None, 224, 224, 3)]     0         \n",
            "                                                                 \n",
            " resnet50 (Functional)       (None, 7, 7, 2048)        23587712  \n",
            "                                                                 \n",
            " flatten (Flatten)           (None, 100352)            0         \n",
            "                                                                 \n",
            " dense (Dense)               (None, 256)               25690368  \n",
            "                                                                 \n",
            " dropout (Dropout)           (None, 256)               0         \n",
            "                                                                 \n",
            " dense_1 (Dense)             (None, 3)                 771       \n",
            "                                                                 \n",
            "=================================================================\n",
            "Total params: 49,278,851\n",
            "Trainable params: 30,156,803\n",
            "Non-trainable params: 19,122,048\n",
            "_________________________________________________________________\n"
          ]
        }
      ],
      "source": [
        "model.summary()"
      ]
    },
    {
      "cell_type": "code",
      "source": [
        "model.compile(optimizer = tf.keras.optimizers.Adam( learning_rate= 0.0001),\n",
        "                loss = 'categorical_crossentropy',\n",
        "                metrics=['accuracy'])"
      ],
      "metadata": {
        "id": "vSlPaNWsmK14"
      },
      "execution_count": null,
      "outputs": []
    },
    {
      "cell_type": "code",
      "source": [
        "callback = tf.keras.callbacks.ReduceLROnPlateau(monitor='val_loss', factor=0.2, patience=3, min_lr=0)"
      ],
      "metadata": {
        "id": "ChSSA9aKCgYO"
      },
      "execution_count": null,
      "outputs": []
    },
    {
      "cell_type": "code",
      "execution_count": null,
      "metadata": {
        "colab": {
          "base_uri": "https://localhost:8080/"
        },
        "id": "d22o8ikP1ZHA",
        "outputId": "a6d8f386-470e-441a-b425-ca62b1c6bfbb"
      },
      "outputs": [
        {
          "output_type": "stream",
          "name": "stdout",
          "text": [
            "Epoch 1/15\n",
            "193/193 [==============================] - 2844s 15s/step - loss: 1.0453 - accuracy: 0.5684 - val_loss: 0.7961 - val_accuracy: 0.6382 - lr: 1.0000e-04\n",
            "Epoch 2/15\n",
            "193/193 [==============================] - 2841s 15s/step - loss: 0.7826 - accuracy: 0.6481 - val_loss: 0.7608 - val_accuracy: 0.6519 - lr: 1.0000e-04\n",
            "Epoch 3/15\n",
            "193/193 [==============================] - 2844s 15s/step - loss: 0.7301 - accuracy: 0.6709 - val_loss: 0.7453 - val_accuracy: 0.6601 - lr: 1.0000e-04\n",
            "Epoch 4/15\n",
            "193/193 [==============================] - 2885s 15s/step - loss: 0.6821 - accuracy: 0.6966 - val_loss: 0.7344 - val_accuracy: 0.6804 - lr: 1.0000e-04\n",
            "Epoch 5/15\n",
            "193/193 [==============================] - 2909s 15s/step - loss: 0.6323 - accuracy: 0.7174 - val_loss: 0.7347 - val_accuracy: 0.6759 - lr: 1.0000e-04\n",
            "Epoch 6/15\n",
            "193/193 [==============================] - 2939s 15s/step - loss: 0.5823 - accuracy: 0.7403 - val_loss: 0.7589 - val_accuracy: 0.6691 - lr: 1.0000e-04\n",
            "Epoch 7/15\n",
            "193/193 [==============================] - 2867s 15s/step - loss: 0.5114 - accuracy: 0.7745 - val_loss: 0.8083 - val_accuracy: 0.6663 - lr: 1.0000e-04\n",
            "Epoch 8/15\n",
            "193/193 [==============================] - 2810s 15s/step - loss: 0.4044 - accuracy: 0.8282 - val_loss: 0.8243 - val_accuracy: 0.6789 - lr: 2.0000e-05\n",
            "Epoch 9/15\n",
            "193/193 [==============================] - 2797s 15s/step - loss: 0.3539 - accuracy: 0.8502 - val_loss: 0.8686 - val_accuracy: 0.6783 - lr: 2.0000e-05\n",
            "Epoch 10/15\n",
            "193/193 [==============================] - 2805s 15s/step - loss: 0.3211 - accuracy: 0.8673 - val_loss: 0.9037 - val_accuracy: 0.6764 - lr: 2.0000e-05\n",
            "Epoch 11/15\n",
            "193/193 [==============================] - 2828s 15s/step - loss: 0.2824 - accuracy: 0.8885 - val_loss: 0.9366 - val_accuracy: 0.6783 - lr: 4.0000e-06\n",
            "Epoch 12/15\n",
            "193/193 [==============================] - 2874s 15s/step - loss: 0.2731 - accuracy: 0.8940 - val_loss: 0.9493 - val_accuracy: 0.6783 - lr: 4.0000e-06\n",
            "Epoch 13/15\n",
            "193/193 [==============================] - 2853s 15s/step - loss: 0.2631 - accuracy: 0.8968 - val_loss: 0.9613 - val_accuracy: 0.6779 - lr: 4.0000e-06\n",
            "Epoch 14/15\n",
            "193/193 [==============================] - 2865s 15s/step - loss: 0.2550 - accuracy: 0.9017 - val_loss: 0.9786 - val_accuracy: 0.6768 - lr: 8.0000e-07\n",
            "Epoch 15/15\n",
            "193/193 [==============================] - 2856s 15s/step - loss: 0.2534 - accuracy: 0.9006 - val_loss: 0.9756 - val_accuracy: 0.6771 - lr: 8.0000e-07\n"
          ]
        },
        {
          "output_type": "execute_result",
          "data": {
            "text/plain": [
              "<keras.callbacks.History at 0x7fd92a971cd0>"
            ]
          },
          "metadata": {},
          "execution_count": 52
        }
      ],
      "source": [
        "# 학습\n",
        "# 2. 전처리 + 헤어스타일 라벨 3개 + 증강(train = 32089개) + zeromean 불가능\n",
        "# 카테고리컬\n",
        "\n",
        "model.fit(train_input, train_target, epochs = 15, batch_size= 125, validation_data=(val_input, val_target),callbacks=[callback])"
      ]
    },
    {
      "cell_type": "code",
      "execution_count": null,
      "metadata": {
        "id": "Tq2g6ZJ920h_",
        "colab": {
          "base_uri": "https://localhost:8080/"
        },
        "outputId": "4897dfd9-c5bf-4ac8-8bbd-210f47e98558"
      },
      "outputs": [
        {
          "output_type": "stream",
          "name": "stdout",
          "text": [
            "Epoch 1/15\n",
            "193/193 [==============================] - 8500s 44s/step - loss: 0.9833 - accuracy: 0.5849 - val_loss: 0.7907 - val_accuracy: 0.6378 - lr: 1.0000e-04\n",
            "Epoch 2/15\n"
          ]
        }
      ],
      "source": [
        "## fine-tune\n",
        "base_model.trainable = True\n",
        "\n",
        "model.compile(optimizer = tf.keras.optimizers.Adam( learning_rate= 0.0001),\n",
        "                loss = 'categorical_crossentropy',\n",
        "                metrics=['accuracy'])\n",
        "\n",
        "model.fit(train_input, train_target, epochs = 15, validation_data=(val_input, val_target), batch_size= 125,callbacks=[callback])"
      ]
    },
    {
      "cell_type": "code",
      "source": [
        "# 시험\n",
        "model.evaluate(test_input, test_target)"
      ],
      "metadata": {
        "id": "P4yM6xoeQj27"
      },
      "execution_count": null,
      "outputs": []
    },
    {
      "cell_type": "code",
      "source": [],
      "metadata": {
        "id": "uM7EUNU7QnDI"
      },
      "execution_count": null,
      "outputs": []
    }
  ],
  "metadata": {
    "colab": {
      "collapsed_sections": [
        "h2n_V4vyXyx4",
        "8k7KdEnY278p",
        "wbazrLkEbd48",
        "M19EnAV9uoYD",
        "Q7PyNKSP0_fH",
        "5f7e_zveQOO-",
        "Qjiwui4L0shB"
      ],
      "machine_shape": "hm",
      "provenance": []
    },
    "gpuClass": "standard",
    "kernelspec": {
      "display_name": "Python 3.10.5 64-bit",
      "language": "python",
      "name": "python3"
    },
    "language_info": {
      "name": "python",
      "version": "3.10.5"
    },
    "vscode": {
      "interpreter": {
        "hash": "aee8b7b246df8f9039afb4144a1f6fd8d2ca17a180786b69acc140d282b71a49"
      }
    }
  },
  "nbformat": 4,
  "nbformat_minor": 0
}