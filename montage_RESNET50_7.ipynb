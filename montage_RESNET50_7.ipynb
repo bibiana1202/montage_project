{
  "cells": [
    {
      "cell_type": "code",
      "execution_count": null,
      "metadata": {
        "id": "2hVjETSnsIX8"
      },
      "outputs": [],
      "source": [
        "import pickle\n",
        "from google.colab import drive\n",
        "\n",
        "import pandas as pd\n",
        "import numpy as np\n",
        "\n",
        "import requests\n",
        "from bs4 import BeautifulSoup\n",
        "import os"
      ]
    },
    {
      "cell_type": "code",
      "execution_count": null,
      "metadata": {
        "colab": {
          "base_uri": "https://localhost:8080/"
        },
        "id": "VvEgEp6VdFOk",
        "outputId": "afe48907-6204-401d-8898-3a1cd3986b9d"
      },
      "outputs": [
        {
          "output_type": "stream",
          "name": "stdout",
          "text": [
            "Mounted at /content/drive\n"
          ]
        }
      ],
      "source": [
        "# Google dirve에 연결\n",
        "\n",
        "drive.mount('/content/drive')"
      ]
    },
    {
      "cell_type": "code",
      "execution_count": null,
      "metadata": {
        "id": "aa3oglfZuQua"
      },
      "outputs": [],
      "source": [
        "# PATH\n",
        "PATH_train='/content/drive/MyDrive/montage_project/train/'\n",
        "PATH_train_montage = '/content/drive/MyDrive/montage_project/train/montage/'\n",
        "PATH_train_json = '/content/drive/MyDrive/montage_project/train/H/'\n",
        "\n",
        "PATH_mp='/content/drive/MyDrive/montage_project/'"
      ]
    },
    {
      "cell_type": "code",
      "execution_count": null,
      "metadata": {
        "id": "5VGqYcn66grs"
      },
      "outputs": [],
      "source": [
        "PATH_test='/content/drive/MyDrive/montage_project/test/'\n",
        "PATH_test_montage = '/content/drive/MyDrive/montage_project/test/montage/'\n",
        "PATH_test_json = '/content/drive/MyDrive/montage_project/test/H/'\n"
      ]
    },
    {
      "cell_type": "markdown",
      "metadata": {
        "id": "jGUIO0HXDCUt"
      },
      "source": [
        "---------------------------------------------------------------------------------------------------------------------------------------------------------------------------------------------------------------------------------------"
      ]
    },
    {
      "cell_type": "markdown",
      "metadata": {
        "id": "bMqXj4uszFBs"
      },
      "source": [
        "# 불러오기"
      ]
    },
    {
      "cell_type": "code",
      "execution_count": null,
      "metadata": {
        "colab": {
          "base_uri": "https://localhost:8080/"
        },
        "id": "qkC0yUlhzGra",
        "outputId": "9501bc1a-9392-4ba7-9c1a-fac5eb6dc34a"
      },
      "outputs": [
        {
          "output_type": "stream",
          "name": "stdout",
          "text": [
            "4 dict_keys(['train_img_ar', 'train_hairstyle_label', 'val_img_ar', 'val_hairstyle_label'])\n"
          ]
        }
      ],
      "source": [
        "import gzip\n",
        "# 6. 전처리 + 헤어스타일 라벨 5개 + 증강(23832)+ 콜백\n",
        "\n",
        "## train 불러오기!\n",
        "with gzip.open(PATH_train+'dic_train_label_type7.pickle','rb') as f:\n",
        "  dic_train_label = pickle.load(f)\n",
        "\n",
        "print(len(dic_train_label),dic_train_label.keys())"
      ]
    },
    {
      "cell_type": "code",
      "execution_count": null,
      "metadata": {
        "colab": {
          "base_uri": "https://localhost:8080/"
        },
        "id": "MrbystDmzuwJ",
        "outputId": "fe9e26e3-c1ce-4621-d7af-5bcc5a91f3f6"
      },
      "outputs": [
        {
          "output_type": "execute_result",
          "data": {
            "text/plain": [
              "(224, 224, 3)"
            ]
          },
          "metadata": {},
          "execution_count": 6
        }
      ],
      "source": [
        "dic_train_label['train_img_ar'][0].shape"
      ]
    },
    {
      "cell_type": "code",
      "execution_count": null,
      "metadata": {
        "colab": {
          "base_uri": "https://localhost:8080/"
        },
        "id": "igdZx9mkz-ds",
        "outputId": "93f461c0-b57b-456d-eda6-99f110f7d49d"
      },
      "outputs": [
        {
          "output_type": "execute_result",
          "data": {
            "text/plain": [
              "(21757, 21757)"
            ]
          },
          "metadata": {},
          "execution_count": 7
        }
      ],
      "source": [
        "len(dic_train_label['train_img_ar']),len(dic_train_label['train_hairstyle_label'])"
      ]
    },
    {
      "cell_type": "code",
      "source": [
        "len(dic_train_label['val_img_ar']),len(dic_train_label['val_hairstyle_label'])"
      ],
      "metadata": {
        "colab": {
          "base_uri": "https://localhost:8080/"
        },
        "id": "GegcIhOAWI-p",
        "outputId": "baac4bc9-2d4d-4ecc-a470-908d592b28e9"
      },
      "execution_count": null,
      "outputs": [
        {
          "output_type": "execute_result",
          "data": {
            "text/plain": [
              "(1000, 1000)"
            ]
          },
          "metadata": {},
          "execution_count": 8
        }
      ]
    },
    {
      "cell_type": "code",
      "execution_count": null,
      "metadata": {
        "colab": {
          "base_uri": "https://localhost:8080/"
        },
        "id": "W6zClZEE44lc",
        "outputId": "d8322121-5d2a-4467-9133-41dae7743bfa"
      },
      "outputs": [
        {
          "output_type": "execute_result",
          "data": {
            "text/plain": [
              "{0: 4508, 1: 4128, 2: 4388, 3: 4467, 4: 4266}"
            ]
          },
          "metadata": {},
          "execution_count": 9
        }
      ],
      "source": [
        "import numpy\n",
        "unique, counts = numpy.unique(dic_train_label['train_hairstyle_label'], return_counts=True)\n",
        "dict(zip(unique, counts))"
      ]
    },
    {
      "cell_type": "code",
      "source": [
        "import numpy\n",
        "unique, counts = numpy.unique(dic_train_label['val_hairstyle_label'], return_counts=True)\n",
        "dict(zip(unique, counts))"
      ],
      "metadata": {
        "colab": {
          "base_uri": "https://localhost:8080/"
        },
        "id": "CXneeCe9WGjb",
        "outputId": "46add4bd-2fe4-40ba-9bd5-4325be39e960"
      },
      "execution_count": null,
      "outputs": [
        {
          "output_type": "execute_result",
          "data": {
            "text/plain": [
              "{0: 276, 1: 28, 2: 123, 3: 568, 4: 5}"
            ]
          },
          "metadata": {},
          "execution_count": 10
        }
      ]
    },
    {
      "cell_type": "code",
      "execution_count": null,
      "metadata": {
        "colab": {
          "base_uri": "https://localhost:8080/"
        },
        "id": "rmxaGjdpzlvB",
        "outputId": "f4693956-1eb5-4f4c-9f4b-96c02c825d43"
      },
      "outputs": [
        {
          "output_type": "stream",
          "name": "stdout",
          "text": [
            "2 dict_keys(['test_img_ar', 'test_hairstyle_label'])\n"
          ]
        }
      ],
      "source": [
        "import gzip\n",
        "\n",
        "## test 불러오기!\n",
        "with gzip.open(PATH_test+'dic_test_label_type7.pickle','rb') as f:\n",
        "  dic_test_label = pickle.load(f)\n",
        "\n",
        "print(len(dic_test_label),dic_test_label.keys())"
      ]
    },
    {
      "cell_type": "code",
      "execution_count": null,
      "metadata": {
        "colab": {
          "base_uri": "https://localhost:8080/"
        },
        "id": "nP-Fla3l0aiJ",
        "outputId": "eeebdbce-7e55-4af3-c8d4-def65310c9b8"
      },
      "outputs": [
        {
          "output_type": "execute_result",
          "data": {
            "text/plain": [
              "(224, 224, 3)"
            ]
          },
          "metadata": {},
          "execution_count": 12
        }
      ],
      "source": [
        "dic_test_label['test_img_ar'][0].shape"
      ]
    },
    {
      "cell_type": "code",
      "execution_count": null,
      "metadata": {
        "colab": {
          "base_uri": "https://localhost:8080/"
        },
        "id": "AyaBRNUS0eAB",
        "outputId": "a6f9d718-0872-4ae8-e012-cebc230a43f4"
      },
      "outputs": [
        {
          "output_type": "execute_result",
          "data": {
            "text/plain": [
              "(1010, 1010)"
            ]
          },
          "metadata": {},
          "execution_count": 13
        }
      ],
      "source": [
        "len(dic_test_label['test_img_ar']),len(dic_test_label['test_hairstyle_label'])"
      ]
    },
    {
      "cell_type": "code",
      "execution_count": null,
      "metadata": {
        "id": "7o1EMOAC1ZG9"
      },
      "outputs": [],
      "source": [
        "import os\n",
        "import numpy as np\n",
        "import tensorflow as tf\n",
        "from tensorflow.keras import datasets, layers, models #Tensorflow에 있는 Keras 함수들 호출하기"
      ]
    },
    {
      "cell_type": "code",
      "execution_count": null,
      "metadata": {
        "id": "5H5ZIQGQ1ZG-"
      },
      "outputs": [],
      "source": [
        "from tensorflow.keras.applications.resnet50 import ResNet50\n",
        "from tensorflow.keras import datasets, layers, models\n",
        "\n",
        "from tensorflow.keras.layers import Dense, Flatten, MaxPooling2D\n",
        "from tensorflow.keras import Input\n",
        "from tensorflow.keras.layers import Dropout, BatchNormalization"
      ]
    },
    {
      "cell_type": "code",
      "execution_count": null,
      "metadata": {
        "colab": {
          "base_uri": "https://localhost:8080/"
        },
        "id": "4s3T0pR21ZG-",
        "outputId": "bfe66a9f-4f4d-480a-ee1b-c6389aea4b1a"
      },
      "outputs": [
        {
          "output_type": "execute_result",
          "data": {
            "text/plain": [
              "(numpy.ndarray, numpy.ndarray)"
            ]
          },
          "metadata": {},
          "execution_count": 16
        }
      ],
      "source": [
        "type(dic_train_label['train_img_ar']),type(dic_test_label['test_img_ar'])"
      ]
    },
    {
      "cell_type": "code",
      "execution_count": null,
      "metadata": {
        "colab": {
          "base_uri": "https://localhost:8080/"
        },
        "id": "BaCMXre51ZG-",
        "outputId": "cd32bab5-6b56-4c92-a982-0734ace2451b"
      },
      "outputs": [
        {
          "output_type": "execute_result",
          "data": {
            "text/plain": [
              "(21757, 1010)"
            ]
          },
          "metadata": {},
          "execution_count": 17
        }
      ],
      "source": [
        "len(dic_train_label['train_img_ar']),len(dic_test_label['test_img_ar'])"
      ]
    },
    {
      "cell_type": "code",
      "execution_count": null,
      "metadata": {
        "colab": {
          "base_uri": "https://localhost:8080/"
        },
        "id": "nq2QjXxo1ZG_",
        "outputId": "5278407d-9412-4da8-e48c-d868a73fbc08"
      },
      "outputs": [
        {
          "output_type": "execute_result",
          "data": {
            "text/plain": [
              "((224, 224, 3), (224, 224, 3))"
            ]
          },
          "metadata": {},
          "execution_count": 18
        }
      ],
      "source": [
        "dic_train_label['train_img_ar'][0].shape,dic_test_label['test_img_ar'][0].shape"
      ]
    },
    {
      "cell_type": "code",
      "execution_count": null,
      "metadata": {
        "colab": {
          "base_uri": "https://localhost:8080/"
        },
        "id": "oDD-DFqZ1ZG_",
        "outputId": "91dd6242-2c88-48ee-fe37-632985a09179"
      },
      "outputs": [
        {
          "output_type": "execute_result",
          "data": {
            "text/plain": [
              "(numpy.ndarray, numpy.ndarray)"
            ]
          },
          "metadata": {},
          "execution_count": 19
        }
      ],
      "source": [
        "type(dic_train_label['train_hairstyle_label']),type(dic_test_label['test_hairstyle_label'])"
      ]
    },
    {
      "cell_type": "code",
      "execution_count": null,
      "metadata": {
        "colab": {
          "base_uri": "https://localhost:8080/"
        },
        "id": "Y1gw2mZy1ZG_",
        "outputId": "09136e00-a3ab-4331-c11b-cb3533defc4a"
      },
      "outputs": [
        {
          "output_type": "execute_result",
          "data": {
            "text/plain": [
              "(21757, 1010)"
            ]
          },
          "metadata": {},
          "execution_count": 20
        }
      ],
      "source": [
        "len(dic_train_label['train_hairstyle_label']),len(dic_test_label['test_hairstyle_label'])"
      ]
    },
    {
      "cell_type": "code",
      "execution_count": null,
      "metadata": {
        "colab": {
          "base_uri": "https://localhost:8080/"
        },
        "id": "-06aFaWn1ZG_",
        "outputId": "3aba0c41-47c1-405a-a2c6-e991c337ac5f"
      },
      "outputs": [
        {
          "output_type": "execute_result",
          "data": {
            "text/plain": [
              "(2, 1)"
            ]
          },
          "metadata": {},
          "execution_count": 21
        }
      ],
      "source": [
        "dic_train_label['train_hairstyle_label'][1000],dic_test_label['test_hairstyle_label'][1000]"
      ]
    },
    {
      "cell_type": "code",
      "execution_count": null,
      "metadata": {
        "colab": {
          "base_uri": "https://localhost:8080/"
        },
        "id": "N-2EgUfA15hl",
        "outputId": "b05817c3-9dcc-456f-89b4-7cc62f593776"
      },
      "outputs": [
        {
          "output_type": "execute_result",
          "data": {
            "text/plain": [
              "{0, 1, 2, 3, 4}"
            ]
          },
          "metadata": {},
          "execution_count": 22
        }
      ],
      "source": [
        "set(dic_train_label['train_hairstyle_label'])"
      ]
    },
    {
      "cell_type": "code",
      "execution_count": null,
      "metadata": {
        "id": "PgTFCBiC1ZG_"
      },
      "outputs": [],
      "source": [
        "train_input = dic_train_label['train_img_ar']\n",
        "test_input = dic_test_label['test_img_ar']\n",
        "\n",
        "train_target = dic_train_label['train_hairstyle_label']\n",
        "test_target =dic_test_label['test_hairstyle_label']\n",
        "\n",
        "val_input=dic_train_label['val_img_ar']\n",
        "val_target=dic_train_label['val_hairstyle_label']"
      ]
    },
    {
      "cell_type": "code",
      "execution_count": null,
      "metadata": {
        "colab": {
          "base_uri": "https://localhost:8080/"
        },
        "id": "4Jh07Hw-1ZHA",
        "outputId": "be94454f-f4ac-4a32-f80b-989c2157402d"
      },
      "outputs": [
        {
          "output_type": "execute_result",
          "data": {
            "text/plain": [
              "((21757, 224, 224, 3), (21757,), (1000, 224, 224, 3), (1000,))"
            ]
          },
          "metadata": {},
          "execution_count": 24
        }
      ],
      "source": [
        "train_input.shape,train_target.shape,val_input.shape,val_target.shape"
      ]
    },
    {
      "cell_type": "code",
      "execution_count": null,
      "metadata": {
        "colab": {
          "base_uri": "https://localhost:8080/"
        },
        "id": "P05dnQ1b1ZHA",
        "outputId": "20021984-90ab-41c3-b2ab-971cb4f3d7be"
      },
      "outputs": [
        {
          "output_type": "execute_result",
          "data": {
            "text/plain": [
              "((1010, 224, 224, 3), (1010,))"
            ]
          },
          "metadata": {},
          "execution_count": 25
        }
      ],
      "source": [
        "test_input.shape,test_target.shape"
      ]
    },
    {
      "cell_type": "code",
      "execution_count": null,
      "metadata": {
        "colab": {
          "base_uri": "https://localhost:8080/"
        },
        "id": "J5gGOjbh1ZHA",
        "outputId": "0381ae67-cef4-4243-ff7d-ed9a4f7ec0f2"
      },
      "outputs": [
        {
          "output_type": "execute_result",
          "data": {
            "text/plain": [
              "{0, 1, 2, 3, 4}"
            ]
          },
          "metadata": {},
          "execution_count": 26
        }
      ],
      "source": [
        "set(train_target)"
      ]
    },
    {
      "cell_type": "code",
      "execution_count": null,
      "metadata": {
        "colab": {
          "base_uri": "https://localhost:8080/",
          "height": 241
        },
        "id": "5DtYnpZZ12W0",
        "outputId": "b7c29f77-1497-4d94-d6ee-1f71aa7401df"
      },
      "outputs": [
        {
          "output_type": "display_data",
          "data": {
            "text/plain": [
              "<PIL.Image.Image image mode=RGB size=224x224 at 0x7EFECE8DE9D0>"
            ],
            "image/png": "[encoded data removed]"
          },
          "metadata": {}
        }
      ],
      "source": [
        "from google.colab.patches import cv2_imshow\n",
        "\n",
        "cv2_imshow(train_input[0])\n",
        "\n"
      ]
    },
    {
      "cell_type": "code",
      "execution_count": null,
      "metadata": {
        "colab": {
          "base_uri": "https://localhost:8080/"
        },
        "id": "0PcA3GwX1ZHA",
        "outputId": "dca0b5e3-1c9c-49d9-a015-fb6fe868915c"
      },
      "outputs": [
        {
          "output_type": "stream",
          "name": "stdout",
          "text": [
            "Downloading data from https://storage.googleapis.com/tensorflow/keras-applications/resnet/resnet50_weights_tf_dim_ordering_tf_kernels_notop.h5\n",
            "94773248/94765736 [==============================] - 0s 0us/step\n",
            "94781440/94765736 [==============================] - 0s 0us/step\n"
          ]
        }
      ],
      "source": [
        "## 일부 재학습 모델\n",
        "base_model = ResNet50(include_top=False, input_shape = (224, 224,3), weights = 'imagenet')\n",
        "\n",
        "for layer in base_model.layers[:-10]: \n",
        "    layer.trainable = False\t\t\t\n",
        "\n",
        "inputs = tf.keras.Input(shape=(224, 224, 3))\n",
        "\n",
        "x = base_model(inputs, training=False) # batchnorm 부분 update 방지\n",
        "\n",
        "x = tf.keras.layers.Flatten(input_shape=base_model.output_shape[1:])(x)\n",
        "x = tf.keras.layers.Dense(256, activation='relu')(x)\n",
        "x= tf.keras.layers.Dropout(0.5)(x)\n",
        "outputs = tf.keras.layers.Dense(5, activation='softmax')(x)\n",
        "\n",
        "model = tf.keras.Model(inputs, outputs)\n",
        "\n",
        "model.compile(optimizer = tf.keras.optimizers.Adam( learning_rate= 0.0001),\n",
        "                loss = 'sparse_categorical_crossentropy',\n",
        "                metrics=['accuracy'])"
      ]
    },
    {
      "cell_type": "code",
      "execution_count": null,
      "metadata": {
        "colab": {
          "base_uri": "https://localhost:8080/"
        },
        "id": "Gt6oCQMx1ZHA",
        "outputId": "8de477b2-fabc-4bfb-91bd-a9f7f4e8af22"
      },
      "outputs": [
        {
          "output_type": "stream",
          "name": "stdout",
          "text": [
            "Model: \"model\"\n",
            "_________________________________________________________________\n",
            " Layer (type)                Output Shape              Param #   \n",
            "=================================================================\n",
            " input_2 (InputLayer)        [(None, 224, 224, 3)]     0         \n",
            "                                                                 \n",
            " resnet50 (Functional)       (None, 7, 7, 2048)        23587712  \n",
            "                                                                 \n",
            " flatten (Flatten)           (None, 100352)            0         \n",
            "                                                                 \n",
            " dense (Dense)               (None, 256)               25690368  \n",
            "                                                                 \n",
            " dropout (Dropout)           (None, 256)               0         \n",
            "                                                                 \n",
            " dense_1 (Dense)             (None, 5)                 1285      \n",
            "                                                                 \n",
            "=================================================================\n",
            "Total params: 49,279,365\n",
            "Trainable params: 30,157,317\n",
            "Non-trainable params: 19,122,048\n",
            "_________________________________________________________________\n"
          ]
        }
      ],
      "source": [
        "model.summary()"
      ]
    },
    {
      "cell_type": "code",
      "execution_count": null,
      "metadata": {
        "id": "QfiuvpbY59tN"
      },
      "outputs": [],
      "source": [
        "# monitor : ReduceLROnPlateau의 기준이 되는 값을 입력합니다.\n",
        "# factor : Learning rate를 얼마나 감소시킬 지 정하는 인자값입니다.새로운 learning rate는 기존 learning rate * factor입니다.예를 들어 현재 lr이 0.01이고 factor가 0.8일 때, 콜백함수가 실행된다면 그 다음 lr은 0.008이 됩니다.또다른 예로 현재 lr이 0.3이고 factor가 0.1일 때, 콜백함수가 실행된다면 그 다음 lr은 0.03이 됩니다. \n",
        "# patience :  Training이 진행됨에도 더이상 monitor되는 값의 개선이 없을 경우, 최적의 monitor 값을 기준으로 몇 번의 epoch을 진행하고, learning rate를 조절할 지의 값입니다. \n",
        "# min_lr\t: Learning rate의 하한선을 지정합니다.\n",
        "\n",
        "\n",
        "# verbose\t:0 또는 11일 경우, EarlyStopping이 적용될 때, 화면에 적용되었다고 나타냅니다.0일 경우, 화면에 나타냄 없이 종료합니다.\n",
        "# mode\t: \"auto\" 또는 \"min\" 또는 \"max\"monitor되는 값이 최소가 되어야 하는지, 최대가 되어야 하는지 알려주는 인자입니다.예를 들어, monitor하는 값이 val_acc 즉 정확도일 경우, 값이 클수록 좋기때문에 \"max\"를 입력하고, val_loss일 경우 작을수록 좋기 때문에 \"min\"을 입력합니다.\"auto\"는 모델이 알아서 판단합니다.\n",
        "# min_delta\t: 개선된 것으로 간주하기 위한 최소한의 변화량입니다\n",
        "# cooldown\t: Learning rate가 감소한 후, ReduceLROnPlateau 콜백함수를 다시 실행하기 전에 대기 할 Epoch 수입니다. 예시로 이해하는 게 좋을 것 같습니다.\n",
        "\n",
        "\n",
        "callbacks = [  \n",
        "        tf.keras.callbacks.EarlyStopping(patience=2),  \n",
        "        tf.keras.callbacks.ModelCheckpoint(filepath=PATH_train+'model.{epoch:02d}-{loss:.2f}.h5'),  \n",
        "        tf.keras.callbacks.TensorBoard(log_dir='./logs'),\n",
        "        tf.keras.callbacks.ReduceLROnPlateau(monitor='val_loss', factor=0.2,\n",
        "                              patience=1, min_lr=0.001)\n",
        "    ]  "
      ]
    },
    {
      "cell_type": "code",
      "execution_count": null,
      "metadata": {
        "colab": {
          "base_uri": "https://localhost:8080/"
        },
        "id": "d22o8ikP1ZHA",
        "outputId": "75828830-50cf-453c-a735-12cdbf4e2341"
      },
      "outputs": [
        {
          "output_type": "stream",
          "name": "stdout",
          "text": [
            "Epoch 1/30\n",
            "175/175 [==============================] - 2017s 12s/step - loss: 1.0189 - accuracy: 0.6250 - val_loss: 0.7020 - val_accuracy: 0.7090 - lr: 1.0000e-04\n",
            "Epoch 2/30\n",
            "175/175 [==============================] - 2023s 12s/step - loss: 0.6450 - accuracy: 0.7435 - val_loss: 0.6691 - val_accuracy: 0.7170 - lr: 1.0000e-04\n",
            "Epoch 3/30\n",
            "175/175 [==============================] - 2001s 11s/step - loss: 0.5547 - accuracy: 0.7738 - val_loss: 0.6635 - val_accuracy: 0.7020 - lr: 1.0000e-04\n",
            "Epoch 4/30\n",
            "175/175 [==============================] - 1998s 11s/step - loss: 0.5042 - accuracy: 0.7977 - val_loss: 0.6229 - val_accuracy: 0.7320 - lr: 1.0000e-04\n",
            "Epoch 5/30\n",
            "175/175 [==============================] - 2006s 11s/step - loss: 0.4230 - accuracy: 0.8261 - val_loss: 0.5849 - val_accuracy: 0.7430 - lr: 1.0000e-04\n",
            "Epoch 6/30\n",
            "175/175 [==============================] - 2043s 12s/step - loss: 0.3697 - accuracy: 0.8458 - val_loss: 0.5551 - val_accuracy: 0.7540 - lr: 1.0000e-04\n",
            "Epoch 7/30\n",
            "175/175 [==============================] - 2033s 12s/step - loss: 0.3308 - accuracy: 0.8633 - val_loss: 0.5691 - val_accuracy: 0.7480 - lr: 1.0000e-04\n",
            "Epoch 8/30\n",
            "175/175 [==============================] - 2041s 12s/step - loss: 0.2987 - accuracy: 0.8748 - val_loss: 0.5281 - val_accuracy: 0.7670 - lr: 1.0000e-04\n",
            "Epoch 9/30\n",
            "175/175 [==============================] - 2025s 12s/step - loss: 0.2684 - accuracy: 0.8870 - val_loss: 0.4888 - val_accuracy: 0.7990 - lr: 1.0000e-04\n",
            "Epoch 10/30\n",
            "175/175 [==============================] - 2018s 12s/step - loss: 0.2451 - accuracy: 0.8969 - val_loss: 0.4557 - val_accuracy: 0.8230 - lr: 1.0000e-04\n",
            "Epoch 11/30\n",
            "175/175 [==============================] - 2039s 12s/step - loss: 0.2227 - accuracy: 0.9082 - val_loss: 0.4299 - val_accuracy: 0.8310 - lr: 1.0000e-04\n",
            "Epoch 12/30\n",
            "175/175 [==============================] - 2077s 12s/step - loss: 0.2003 - accuracy: 0.9167 - val_loss: 0.3545 - val_accuracy: 0.8500 - lr: 1.0000e-04\n",
            "Epoch 13/30\n",
            "175/175 [==============================] - 2031s 12s/step - loss: 0.1816 - accuracy: 0.9230 - val_loss: 0.3427 - val_accuracy: 0.8620 - lr: 1.0000e-04\n",
            "Epoch 14/30\n",
            "175/175 [==============================] - 2054s 12s/step - loss: 0.1724 - accuracy: 0.9276 - val_loss: 0.3471 - val_accuracy: 0.8600 - lr: 1.0000e-04\n",
            "Epoch 15/30\n",
            "175/175 [==============================] - 2024s 12s/step - loss: 0.1442 - accuracy: 0.9421 - val_loss: 0.2438 - val_accuracy: 0.9100 - lr: 1.0000e-04\n",
            "Epoch 16/30\n",
            "175/175 [==============================] - 2025s 12s/step - loss: 0.1391 - accuracy: 0.9448 - val_loss: 0.2108 - val_accuracy: 0.9350 - lr: 1.0000e-04\n",
            "Epoch 17/30\n",
            "175/175 [==============================] - 2044s 12s/step - loss: 0.1181 - accuracy: 0.9546 - val_loss: 0.1886 - val_accuracy: 0.9350 - lr: 1.0000e-04\n",
            "Epoch 18/30\n",
            "175/175 [==============================] - 2038s 12s/step - loss: 0.1025 - accuracy: 0.9602 - val_loss: 0.1438 - val_accuracy: 0.9550 - lr: 1.0000e-04\n",
            "Epoch 19/30\n",
            "175/175 [==============================] - 2029s 12s/step - loss: 0.0901 - accuracy: 0.9659 - val_loss: 0.1974 - val_accuracy: 0.9240 - lr: 1.0000e-04\n",
            "Epoch 20/30\n",
            "175/175 [==============================] - 2044s 12s/step - loss: 0.0795 - accuracy: 0.9697 - val_loss: 0.2014 - val_accuracy: 0.9020 - lr: 1.0000e-04\n"
          ]
        },
        {
          "output_type": "execute_result",
          "data": {
            "text/plain": [
              "<keras.callbacks.History at 0x7f748c877e50>"
            ]
          },
          "metadata": {},
          "execution_count": 30
        }
      ],
      "source": [
        "# 학습\n",
        "# 7. 전처리 + 헤어스타일 라벨 5개 + 증강(21757)+ 콜백(p=2,c=에폭,텐서보드,lr=reduce)\n",
        "\n",
        "model.fit(train_input, train_target, epochs = 30, batch_size= 125, validation_data=(val_input, val_target),callbacks=[callbacks])"
      ]
    },
    {
      "cell_type": "code",
      "execution_count": null,
      "metadata": {
        "colab": {
          "base_uri": "https://localhost:8080/"
        },
        "id": "KetXsmph1ZHB",
        "outputId": "5d181e4b-4577-4b5f-cf04-16deba8d8da3"
      },
      "outputs": [
        {
          "output_type": "stream",
          "name": "stdout",
          "text": [
            "Epoch 1/30\n",
            "175/175 [==============================] - 7135s 41s/step - loss: 1.4243 - accuracy: 0.5602 - val_loss: 0.7713 - val_accuracy: 0.6500 - lr: 1.0000e-04\n",
            "Epoch 2/30\n",
            "175/175 [==============================] - 7150s 41s/step - loss: 0.6901 - accuracy: 0.7250 - val_loss: 0.7661 - val_accuracy: 0.6690 - lr: 1.0000e-04\n",
            "Epoch 3/30\n",
            "175/175 [==============================] - 7368s 42s/step - loss: 0.5625 - accuracy: 0.7758 - val_loss: 0.7124 - val_accuracy: 0.6950 - lr: 1.0000e-04\n",
            "Epoch 4/30\n",
            "175/175 [==============================] - 7252s 41s/step - loss: 0.5009 - accuracy: 0.7984 - val_loss: 0.6613 - val_accuracy: 0.7180 - lr: 1.0000e-04\n",
            "Epoch 5/30\n",
            "175/175 [==============================] - 7261s 41s/step - loss: 0.4243 - accuracy: 0.8263 - val_loss: 0.6197 - val_accuracy: 0.7240 - lr: 1.0000e-04\n",
            "Epoch 6/30\n",
            "175/175 [==============================] - 7339s 42s/step - loss: 0.3778 - accuracy: 0.8418 - val_loss: 0.5758 - val_accuracy: 0.7640 - lr: 1.0000e-04\n",
            "Epoch 7/30\n",
            " 51/175 [=======>......................] - ETA: 1:26:11 - loss: 0.3115 - accuracy: 0.8660"
          ]
        }
      ],
      "source": [
        "## fine-tune\n",
        "base_model.trainable = True\n",
        "\n",
        "model.compile(optimizer = tf.keras.optimizers.Adam( learning_rate= 0.0001),\n",
        "                loss = 'sparse_categorical_crossentropy',\n",
        "                metrics=['accuracy'])\n",
        "\n",
        "model.fit(train_input, train_target, epochs = 30, validation_data=(val_input, val_target), batch_size= 125,callbacks=[callbacks])"
      ]
    },
    {
      "cell_type": "code",
      "execution_count": null,
      "metadata": {
        "id": "rlT5i1m81ZHB"
      },
      "outputs": [],
      "source": [
        "# 시험\n",
        "model.evaluate(test_input, test_target)"
      ]
    },
    {
      "cell_type": "code",
      "source": [
        "y_predict = model.predict(test_input)\n",
        "print(y_predict) #[[0.67222077]]\n",
        "print(y_predict[0]) #[0.67222077]\n",
        "print(y_predict[0][0]) #0.67222077\n",
        "label = labels[1 if y_predict[0][0] > 0.5 else 0]\n",
        "confidence = y_predict[0][0] if y_predict[0][0] > 0.5 else 1 - y_predict[0][0]\n",
        "print(label, confidence) #"
      ],
      "metadata": {
        "id": "YNsb8-Clxs-Q"
      },
      "execution_count": null,
      "outputs": []
    },
    {
      "cell_type": "code",
      "source": [],
      "metadata": {
        "id": "mM0A4enL4ONF"
      },
      "execution_count": null,
      "outputs": []
    },
    {
      "cell_type": "code",
      "execution_count": null,
      "metadata": {
        "id": "Tq2g6ZJ920h_"
      },
      "outputs": [],
      "source": [
        "PATH_mp='/content/drive/MyDrive/montage_project/'\n",
        "\n",
        "model.save(PATH_mp+'model_type7.h5')"
      ]
    },
    {
      "cell_type": "code",
      "execution_count": null,
      "metadata": {
        "id": "hupttyQvlaYX"
      },
      "outputs": [],
      "source": []
    }
  ],
  "metadata": {
    "colab": {
      "collapsed_sections": [],
      "machine_shape": "hm",
      "provenance": []
    },
    "gpuClass": "standard",
    "kernelspec": {
      "display_name": "Python 3.10.5 64-bit",
      "language": "python",
      "name": "python3"
    },
    "language_info": {
      "name": "python",
      "version": "3.10.5"
    },
    "vscode": {
      "interpreter": {
        "hash": "aee8b7b246df8f9039afb4144a1f6fd8d2ca17a180786b69acc140d282b71a49"
      }
    }
  },
  "nbformat": 4,
  "nbformat_minor": 0
}