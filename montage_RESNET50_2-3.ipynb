{
  "cells": [
    {
      "cell_type": "code",
      "execution_count": null,
      "metadata": {
        "id": "2hVjETSnsIX8"
      },
      "outputs": [],
      "source": [
        "import pickle\n",
        "from google.colab import drive\n",
        "\n",
        "import pandas as pd\n",
        "import numpy as np\n",
        "\n",
        "import requests\n",
        "from bs4 import BeautifulSoup\n",
        "import os"
      ]
    },
    {
      "cell_type": "code",
      "execution_count": null,
      "metadata": {
        "colab": {
          "base_uri": "https://localhost:8080/"
        },
        "id": "VvEgEp6VdFOk",
        "outputId": "63b75101-ae1f-4a76-9665-741dfb9263cb"
      },
      "outputs": [
        {
          "name": "stdout",
          "output_type": "stream",
          "text": [
            "Mounted at /content/drive\n"
          ]
        }
      ],
      "source": [
        "# Google dirve에 연결\n",
        "\n",
        "drive.mount('/content/drive')"
      ]
    },
    {
      "cell_type": "code",
      "execution_count": null,
      "metadata": {
        "id": "aa3oglfZuQua"
      },
      "outputs": [],
      "source": [
        "# PATH\n",
        "PATH_train='/content/drive/MyDrive/montage_project/train/'\n",
        "PATH_train_montage = '/content/drive/MyDrive/montage_project/train/montage/'\n",
        "PATH_train_json = '/content/drive/MyDrive/montage_project/train/H/'\n",
        "\n",
        "PATH_train_resized='/content/drive/MyDrive/montage_project/train/resized/'"
      ]
    },
    {
      "cell_type": "code",
      "execution_count": null,
      "metadata": {
        "id": "5VGqYcn66grs"
      },
      "outputs": [],
      "source": [
        "PATH_test='/content/drive/MyDrive/montage_project/test/'\n",
        "PATH_test_montage = '/content/drive/MyDrive/montage_project/test/montage/'\n",
        "PATH_test_json = '/content/drive/MyDrive/montage_project/test/H/'\n"
      ]
    },
    {
      "cell_type": "code",
      "execution_count": null,
      "metadata": {
        "id": "KB0gEtQ69ri4"
      },
      "outputs": [],
      "source": [
        "# 라벨 설정\n",
        "class_names_age = ['20~35','25~50','50']\n",
        "class_names_gender = ['M','F']\n",
        "class_names_face = ['계란형','긴형','둥근형','마름모형','사각형','역삼각형']\n",
        "class_names_hairstyle = ['곱슬머리','직모(생머리)','나머지']\n",
        "class_names_eyebrows =['각진형','둥근형','물결형','직선형','분류없음']"
      ]
    },
    {
      "cell_type": "markdown",
      "metadata": {
        "id": "jGUIO0HXDCUt"
      },
      "source": [
        "---------------------------------------------------------------------------------------------------------------------------------------------------------------------------------------------------------------------------------------"
      ]
    },
    {
      "cell_type": "markdown",
      "metadata": {
        "id": "bMqXj4uszFBs"
      },
      "source": [
        "# 불러오기"
      ]
    },
    {
      "cell_type": "code",
      "execution_count": null,
      "metadata": {
        "colab": {
          "base_uri": "https://localhost:8080/"
        },
        "id": "qkC0yUlhzGra",
        "outputId": "2f8faa51-20d5-496b-a0d0-d4ac531c65b1"
      },
      "outputs": [
        {
          "name": "stdout",
          "output_type": "stream",
          "text": [
            "6 dict_keys(['train_img_ar', 'train_age_label', 'train_gender_label', 'train_face_label', 'train_hairstyle_label', 'train_eyebrows_label'])\n"
          ]
        }
      ],
      "source": [
        "import gzip\n",
        "# 2. 전처리 + 헤어스타일 라벨 3개 + 증강\n",
        "\n",
        "## train 불러오기!\n",
        "with gzip.open(PATH_train+'dic_train_label2.pickle','rb') as f:\n",
        "  dic_train_label = pickle.load(f)\n",
        "\n",
        "print(len(dic_train_label),dic_train_label.keys())"
      ]
    },
    {
      "cell_type": "code",
      "execution_count": null,
      "metadata": {
        "colab": {
          "base_uri": "https://localhost:8080/"
        },
        "id": "MrbystDmzuwJ",
        "outputId": "1e39fe89-e710-4afb-9cbf-115e7e4cf3ca"
      },
      "outputs": [
        {
          "data": {
            "text/plain": [
              "(224, 224, 3)"
            ]
          },
          "execution_count": 7,
          "metadata": {},
          "output_type": "execute_result"
        }
      ],
      "source": [
        "dic_train_label['train_img_ar'][0].shape"
      ]
    },
    {
      "cell_type": "code",
      "execution_count": null,
      "metadata": {
        "colab": {
          "base_uri": "https://localhost:8080/"
        },
        "id": "igdZx9mkz-ds",
        "outputId": "6745c458-cdbc-4f84-b208-4a6a1e1c6e07"
      },
      "outputs": [
        {
          "data": {
            "text/plain": [
              "(32089, 32089, 32089, 32089)"
            ]
          },
          "execution_count": 8,
          "metadata": {},
          "output_type": "execute_result"
        }
      ],
      "source": [
        "len(dic_train_label['train_img_ar']),len(dic_train_label['train_age_label']),len(dic_train_label['train_gender_label']),len(dic_train_label['train_hairstyle_label'])"
      ]
    },
    {
      "cell_type": "code",
      "execution_count": null,
      "metadata": {
        "colab": {
          "base_uri": "https://localhost:8080/"
        },
        "id": "rmxaGjdpzlvB",
        "outputId": "fc9b903e-5372-4ffd-fef8-999b74f7677d"
      },
      "outputs": [
        {
          "name": "stdout",
          "output_type": "stream",
          "text": [
            "6 dict_keys(['test_img_ar', 'test_age_label', 'test_gender_label', 'test_face_label', 'test_hairstyle_label', 'test_eyebrows_label'])\n"
          ]
        }
      ],
      "source": [
        "import gzip\n",
        "# 2. 전처리 + 헤어스타일 라벨 3개 + 증강\n",
        "\n",
        "## test 불러오기!\n",
        "with gzip.open(PATH_test+'dic_test_label2.pickle','rb') as f:\n",
        "  dic_test_label = pickle.load(f)\n",
        "\n",
        "print(len(dic_test_label),dic_test_label.keys())"
      ]
    },
    {
      "cell_type": "code",
      "execution_count": null,
      "metadata": {
        "colab": {
          "base_uri": "https://localhost:8080/"
        },
        "id": "nP-Fla3l0aiJ",
        "outputId": "84428130-127e-4fd6-825c-0e15ed3fa163"
      },
      "outputs": [
        {
          "data": {
            "text/plain": [
              "(224, 224, 3)"
            ]
          },
          "execution_count": 10,
          "metadata": {},
          "output_type": "execute_result"
        }
      ],
      "source": [
        "dic_test_label['test_img_ar'][0].shape"
      ]
    },
    {
      "cell_type": "code",
      "execution_count": null,
      "metadata": {
        "colab": {
          "base_uri": "https://localhost:8080/"
        },
        "id": "AyaBRNUS0eAB",
        "outputId": "2220d6b6-9bf3-4d83-d3ec-4cb616bfd345"
      },
      "outputs": [
        {
          "data": {
            "text/plain": [
              "(1010, 1010, 1010, 1010)"
            ]
          },
          "execution_count": 11,
          "metadata": {},
          "output_type": "execute_result"
        }
      ],
      "source": [
        "len(dic_test_label['test_img_ar']),len(dic_test_label['test_age_label']),len(dic_test_label['test_gender_label']),len(dic_test_label['test_hairstyle_label'])"
      ]
    },
    {
      "cell_type": "markdown",
      "metadata": {
        "id": "-8PiRlbo1ZG9"
      },
      "source": [
        "# RESNET50 - hairstyle\n"
      ]
    },
    {
      "cell_type": "code",
      "execution_count": null,
      "metadata": {
        "id": "7o1EMOAC1ZG9"
      },
      "outputs": [],
      "source": [
        "import os\n",
        "import numpy as np\n",
        "import tensorflow as tf\n",
        "from tensorflow.keras import datasets, layers, models #Tensorflow에 있는 Keras 함수들 호출하기"
      ]
    },
    {
      "cell_type": "code",
      "execution_count": null,
      "metadata": {
        "id": "5H5ZIQGQ1ZG-"
      },
      "outputs": [],
      "source": [
        "from tensorflow.keras.applications.resnet50 import ResNet50\n",
        "from tensorflow.keras import datasets, layers, models\n",
        "\n",
        "from tensorflow.keras.layers import Dense, Flatten, MaxPooling2D\n",
        "from tensorflow.keras import Input\n",
        "from tensorflow.keras.layers import Dropout, BatchNormalization\n",
        "\n",
        "import matplotlib.pyplot as plt\n",
        "\n",
        "from sklearn.model_selection import train_test_split"
      ]
    },
    {
      "cell_type": "code",
      "execution_count": null,
      "metadata": {
        "colab": {
          "base_uri": "https://localhost:8080/"
        },
        "id": "4s3T0pR21ZG-",
        "outputId": "9f8787ad-10f1-4862-8c93-cdc0cd1ddbfe"
      },
      "outputs": [
        {
          "data": {
            "text/plain": [
              "(numpy.ndarray, numpy.ndarray)"
            ]
          },
          "execution_count": 14,
          "metadata": {},
          "output_type": "execute_result"
        }
      ],
      "source": [
        "type(dic_train_label['train_img_ar']),type(dic_test_label['test_img_ar'])"
      ]
    },
    {
      "cell_type": "code",
      "execution_count": null,
      "metadata": {
        "colab": {
          "base_uri": "https://localhost:8080/"
        },
        "id": "BaCMXre51ZG-",
        "outputId": "5cdc9b76-d128-459c-d8ff-36e11d511093"
      },
      "outputs": [
        {
          "data": {
            "text/plain": [
              "(32089, 1010)"
            ]
          },
          "execution_count": 15,
          "metadata": {},
          "output_type": "execute_result"
        }
      ],
      "source": [
        "len(dic_train_label['train_img_ar']),len(dic_test_label['test_img_ar'])"
      ]
    },
    {
      "cell_type": "code",
      "execution_count": null,
      "metadata": {
        "colab": {
          "base_uri": "https://localhost:8080/"
        },
        "id": "nq2QjXxo1ZG_",
        "outputId": "98866441-d444-49ee-b4f2-c8c9b3ba1b76"
      },
      "outputs": [
        {
          "data": {
            "text/plain": [
              "((224, 224, 3), (224, 224, 3))"
            ]
          },
          "execution_count": 16,
          "metadata": {},
          "output_type": "execute_result"
        }
      ],
      "source": [
        "dic_train_label['train_img_ar'][0].shape,dic_test_label['test_img_ar'][0].shape"
      ]
    },
    {
      "cell_type": "code",
      "execution_count": null,
      "metadata": {
        "colab": {
          "base_uri": "https://localhost:8080/"
        },
        "id": "oDD-DFqZ1ZG_",
        "outputId": "b9489a6b-a163-4fec-9530-5f9dbf87b90b"
      },
      "outputs": [
        {
          "data": {
            "text/plain": [
              "(numpy.ndarray, numpy.ndarray)"
            ]
          },
          "execution_count": 17,
          "metadata": {},
          "output_type": "execute_result"
        }
      ],
      "source": [
        "type(dic_train_label['train_hairstyle_label']),type(dic_test_label['test_hairstyle_label'])"
      ]
    },
    {
      "cell_type": "code",
      "execution_count": null,
      "metadata": {
        "colab": {
          "base_uri": "https://localhost:8080/"
        },
        "id": "Y1gw2mZy1ZG_",
        "outputId": "2dc338c8-f21f-46f7-8253-b3e728964067"
      },
      "outputs": [
        {
          "data": {
            "text/plain": [
              "(32089, 1010)"
            ]
          },
          "execution_count": 18,
          "metadata": {},
          "output_type": "execute_result"
        }
      ],
      "source": [
        "len(dic_train_label['train_hairstyle_label']),len(dic_test_label['test_hairstyle_label'])"
      ]
    },
    {
      "cell_type": "code",
      "execution_count": null,
      "metadata": {
        "colab": {
          "base_uri": "https://localhost:8080/"
        },
        "id": "-06aFaWn1ZG_",
        "outputId": "c64b7df0-7b3e-407b-ee78-58e12379a246"
      },
      "outputs": [
        {
          "data": {
            "text/plain": [
              "(0, 1)"
            ]
          },
          "execution_count": 19,
          "metadata": {},
          "output_type": "execute_result"
        }
      ],
      "source": [
        "dic_train_label['train_hairstyle_label'][10000],dic_test_label['test_hairstyle_label'][1000]"
      ]
    },
    {
      "cell_type": "code",
      "execution_count": null,
      "metadata": {
        "colab": {
          "base_uri": "https://localhost:8080/"
        },
        "id": "N-2EgUfA15hl",
        "outputId": "b7de7fa8-bbf5-41f1-d7f5-561309470791"
      },
      "outputs": [
        {
          "data": {
            "text/plain": [
              "{0, 1, 2}"
            ]
          },
          "execution_count": 20,
          "metadata": {},
          "output_type": "execute_result"
        }
      ],
      "source": [
        "set(dic_train_label['train_hairstyle_label'])"
      ]
    },
    {
      "cell_type": "code",
      "execution_count": null,
      "metadata": {
        "id": "PgTFCBiC1ZG_"
      },
      "outputs": [],
      "source": [
        "train_input = dic_train_label['train_img_ar']\n",
        "test_input = dic_test_label['test_img_ar']\n",
        "\n",
        "train_target = dic_train_label['train_hairstyle_label']\n",
        "test_target =dic_test_label['test_hairstyle_label']\n",
        "\n",
        "\n",
        "from sklearn.model_selection import train_test_split\n",
        "train_input, val_input, train_target, val_target = train_test_split(train_input,\n",
        "                                                                      train_target,\n",
        "                                                                      shuffle=True, \n",
        "                                                                      stratify=train_target, \n",
        "                                                                      random_state=34)"
      ]
    },
    {
      "cell_type": "code",
      "execution_count": null,
      "metadata": {
        "id": "u9jxWFco1ZG_"
      },
      "outputs": [],
      "source": [
        "train_input = train_input.astype('float32')\n",
        "val_input=val_input.astype('float32')\n",
        "test_input=test_input.astype('float32')"
      ]
    },
    {
      "cell_type": "code",
      "execution_count": null,
      "metadata": {
        "id": "0Jvq0LaL1ZG_"
      },
      "outputs": [],
      "source": [
        "def zero_mean(image):\n",
        "    # zero-centering\n",
        "    return np.mean(image, axis=0)"
      ]
    },
    {
      "cell_type": "code",
      "execution_count": null,
      "metadata": {
        "colab": {
          "base_uri": "https://localhost:8080/"
        },
        "id": "eZ9TXmgg1ZG_",
        "outputId": "27b302cc-9284-49f0-c71c-4ea9d2073e84"
      },
      "outputs": [
        {
          "data": {
            "text/plain": [
              "(224, 224, 3)"
            ]
          },
          "execution_count": 28,
          "metadata": {},
          "output_type": "execute_result"
        }
      ],
      "source": [
        "zero_mean_img = zero_mean(train_input)\n",
        "zero_mean_img.shape"
      ]
    },
    {
      "cell_type": "code",
      "execution_count": null,
      "metadata": {
        "id": "QjRL7qrIpBop"
      },
      "outputs": [],
      "source": [
        "train_input -= zero_mean_img\n",
        "val_input -= zero_mean_img\n",
        "test_input -= zero_mean_img"
      ]
    },
    {
      "cell_type": "code",
      "execution_count": null,
      "metadata": {
        "colab": {
          "base_uri": "https://localhost:8080/"
        },
        "id": "4Jh07Hw-1ZHA",
        "outputId": "50f6d07b-1929-4723-e012-9b80ebc9a686"
      },
      "outputs": [
        {
          "data": {
            "text/plain": [
              "((24066, 224, 224, 3), (24066,), (8023, 224, 224, 3), (8023,))"
            ]
          },
          "execution_count": 22,
          "metadata": {},
          "output_type": "execute_result"
        }
      ],
      "source": [
        "train_input.shape,train_target.shape,val_input.shape,val_target.shape"
      ]
    },
    {
      "cell_type": "code",
      "execution_count": null,
      "metadata": {
        "colab": {
          "base_uri": "https://localhost:8080/"
        },
        "id": "P05dnQ1b1ZHA",
        "outputId": "43671d53-53dc-4923-a9ff-9b3206d51649"
      },
      "outputs": [
        {
          "data": {
            "text/plain": [
              "((1010, 224, 224, 3), (1010,))"
            ]
          },
          "execution_count": 23,
          "metadata": {},
          "output_type": "execute_result"
        }
      ],
      "source": [
        "test_input.shape,test_target.shape"
      ]
    },
    {
      "cell_type": "code",
      "execution_count": null,
      "metadata": {
        "colab": {
          "base_uri": "https://localhost:8080/"
        },
        "id": "J5gGOjbh1ZHA",
        "outputId": "758770fb-8c7f-4e1d-907a-a315d8b399b5"
      },
      "outputs": [
        {
          "data": {
            "text/plain": [
              "{0, 1, 2}"
            ]
          },
          "execution_count": 24,
          "metadata": {},
          "output_type": "execute_result"
        }
      ],
      "source": [
        "set(train_target)"
      ]
    },
    {
      "cell_type": "code",
      "execution_count": null,
      "metadata": {
        "colab": {
          "base_uri": "https://localhost:8080/"
        },
        "id": "0PcA3GwX1ZHA",
        "outputId": "6185e82a-4cb3-4c85-fb07-e77fffc338d5"
      },
      "outputs": [
        {
          "name": "stdout",
          "output_type": "stream",
          "text": [
            "Downloading data from https://storage.googleapis.com/tensorflow/keras-applications/resnet/resnet50_weights_tf_dim_ordering_tf_kernels_notop.h5\n",
            "94773248/94765736 [==============================] - 1s 0us/step\n",
            "94781440/94765736 [==============================] - 1s 0us/step\n"
          ]
        }
      ],
      "source": [
        "## 일부 재학습 모델\n",
        "base_model = ResNet50(include_top=False, input_shape = (224, 224,3), weights = 'imagenet')\n",
        "\n",
        "for layer in base_model.layers[:-10]: \n",
        "    layer.trainable = False\t\t\t\n",
        "\n",
        "inputs = tf.keras.Input(shape=(224, 224, 3))\n",
        "\n",
        "x = base_model(inputs, training=False) # batchnorm 부분 update 방지\n",
        "\n",
        "x = tf.keras.layers.Flatten(input_shape=base_model.output_shape[1:])(x)\n",
        "x = tf.keras.layers.Dense(256, activation='relu')(x)\n",
        "x= tf.keras.layers.Dropout(0.5)(x)\n",
        "outputs = tf.keras.layers.Dense(3, activation='softmax')(x)\n",
        "\n",
        "model = tf.keras.Model(inputs, outputs)\n",
        "\n",
        "model.compile(optimizer = tf.keras.optimizers.Adam( learning_rate= 0.0001),\n",
        "                loss = 'sparse_categorical_crossentropy',\n",
        "                metrics=['accuracy'])"
      ]
    },
    {
      "cell_type": "code",
      "execution_count": null,
      "metadata": {
        "colab": {
          "base_uri": "https://localhost:8080/"
        },
        "id": "Gt6oCQMx1ZHA",
        "outputId": "c5e4e1d3-b79c-48a9-b7fe-a91ab0f640ad"
      },
      "outputs": [
        {
          "name": "stdout",
          "output_type": "stream",
          "text": [
            "Model: \"model\"\n",
            "_________________________________________________________________\n",
            " Layer (type)                Output Shape              Param #   \n",
            "=================================================================\n",
            " input_2 (InputLayer)        [(None, 224, 224, 3)]     0         \n",
            "                                                                 \n",
            " resnet50 (Functional)       (None, 7, 7, 2048)        23587712  \n",
            "                                                                 \n",
            " flatten (Flatten)           (None, 100352)            0         \n",
            "                                                                 \n",
            " dense (Dense)               (None, 256)               25690368  \n",
            "                                                                 \n",
            " dropout (Dropout)           (None, 256)               0         \n",
            "                                                                 \n",
            " dense_1 (Dense)             (None, 3)                 771       \n",
            "                                                                 \n",
            "=================================================================\n",
            "Total params: 49,278,851\n",
            "Trainable params: 30,156,803\n",
            "Non-trainable params: 19,122,048\n",
            "_________________________________________________________________\n"
          ]
        }
      ],
      "source": [
        "model.summary()"
      ]
    },
    {
      "cell_type": "code",
      "execution_count": null,
      "metadata": {
        "id": "R1p2ffCDvwyx"
      },
      "outputs": [],
      "source": [
        "# monitor : ReduceLROnPlateau의 기준이 되는 값을 입력합니다.\n",
        "# factor : Learning rate를 얼마나 감소시킬 지 정하는 인자값입니다.새로운 learning rate는 기존 learning rate * factor입니다.예를 들어 현재 lr이 0.01이고 factor가 0.8일 때, 콜백함수가 실행된다면 그 다음 lr은 0.008이 됩니다.또다른 예로 현재 lr이 0.3이고 factor가 0.1일 때, 콜백함수가 실행된다면 그 다음 lr은 0.03이 됩니다. \n",
        "# patience :  Training이 진행됨에도 더이상 monitor되는 값의 개선이 없을 경우, 최적의 monitor 값을 기준으로 몇 번의 epoch을 진행하고, learning rate를 조절할 지의 값입니다. \n",
        "# min_lr\t: Learning rate의 하한선을 지정합니다.\n",
        "\n",
        "\n",
        "# verbose\t:0 또는 11일 경우, EarlyStopping이 적용될 때, 화면에 적용되었다고 나타냅니다.0일 경우, 화면에 나타냄 없이 종료합니다.\n",
        "# mode\t: \"auto\" 또는 \"min\" 또는 \"max\"monitor되는 값이 최소가 되어야 하는지, 최대가 되어야 하는지 알려주는 인자입니다.예를 들어, monitor하는 값이 val_acc 즉 정확도일 경우, 값이 클수록 좋기때문에 \"max\"를 입력하고, val_loss일 경우 작을수록 좋기 때문에 \"min\"을 입력합니다.\"auto\"는 모델이 알아서 판단합니다.\n",
        "# min_delta\t: 개선된 것으로 간주하기 위한 최소한의 변화량입니다\n",
        "# cooldown\t: Learning rate가 감소한 후, ReduceLROnPlateau 콜백함수를 다시 실행하기 전에 대기 할 Epoch 수입니다. 예시로 이해하는 게 좋을 것 같습니다.\n",
        "\n",
        "\n",
        "callback = tf.keras.callbacks.ReduceLROnPlateau(monitor='val_loss', factor=0.2, patience=3, min_lr=0)"
      ]
    },
    {
      "cell_type": "code",
      "execution_count": null,
      "metadata": {
        "colab": {
          "base_uri": "https://localhost:8080/"
        },
        "id": "d22o8ikP1ZHA",
        "outputId": "d105f947-392d-4663-b1a0-bd00b7cabc75"
      },
      "outputs": [
        {
          "output_type": "stream",
          "name": "stdout",
          "text": [
            "Epoch 1/15\n",
            "193/193 [==============================] - 2834s 15s/step - loss: 1.0119 - accuracy: 0.5764 - val_loss: 0.7851 - val_accuracy: 0.6418 - lr: 1.0000e-04\n",
            "Epoch 2/15\n",
            "193/193 [==============================] - 2801s 15s/step - loss: 0.7714 - accuracy: 0.6567 - val_loss: 0.7533 - val_accuracy: 0.6650 - lr: 1.0000e-04\n",
            "Epoch 3/15\n",
            "193/193 [==============================] - 2789s 14s/step - loss: 0.7106 - accuracy: 0.6839 - val_loss: 0.7425 - val_accuracy: 0.6682 - lr: 1.0000e-04\n",
            "Epoch 4/15\n",
            "193/193 [==============================] - 2806s 15s/step - loss: 0.6536 - accuracy: 0.7098 - val_loss: 0.7851 - val_accuracy: 0.6530 - lr: 1.0000e-04\n",
            "Epoch 5/15\n",
            "193/193 [==============================] - 2816s 15s/step - loss: 0.5947 - accuracy: 0.7341 - val_loss: 0.7473 - val_accuracy: 0.6779 - lr: 1.0000e-04\n",
            "Epoch 6/15\n",
            "193/193 [==============================] - 2874s 15s/step - loss: 0.5311 - accuracy: 0.7682 - val_loss: 0.7707 - val_accuracy: 0.6722 - lr: 1.0000e-04\n",
            "Epoch 7/15\n",
            "193/193 [==============================] - 2848s 15s/step - loss: 0.4124 - accuracy: 0.8248 - val_loss: 0.8148 - val_accuracy: 0.6754 - lr: 2.0000e-05\n",
            "Epoch 8/15\n",
            "193/193 [==============================] - 2809s 15s/step - loss: 0.3618 - accuracy: 0.8479 - val_loss: 0.8527 - val_accuracy: 0.6805 - lr: 2.0000e-05\n",
            "Epoch 9/15\n",
            "193/193 [==============================] - 2821s 15s/step - loss: 0.3252 - accuracy: 0.8667 - val_loss: 0.8833 - val_accuracy: 0.6781 - lr: 2.0000e-05\n",
            "Epoch 10/15\n",
            "193/193 [==============================] - 2808s 15s/step - loss: 0.2831 - accuracy: 0.8907 - val_loss: 0.9287 - val_accuracy: 0.6804 - lr: 4.0000e-06\n",
            "Epoch 11/15\n",
            "193/193 [==============================] - 2804s 15s/step - loss: 0.2713 - accuracy: 0.8922 - val_loss: 0.9332 - val_accuracy: 0.6789 - lr: 4.0000e-06\n",
            "Epoch 12/15\n",
            "193/193 [==============================] - 2813s 15s/step - loss: 0.2621 - accuracy: 0.8973 - val_loss: 0.9395 - val_accuracy: 0.6776 - lr: 4.0000e-06\n",
            "Epoch 13/15\n",
            "193/193 [==============================] - 2800s 15s/step - loss: 0.2516 - accuracy: 0.9056 - val_loss: 0.9477 - val_accuracy: 0.6761 - lr: 8.0000e-07\n",
            "Epoch 14/15\n",
            "193/193 [==============================] - 2830s 15s/step - loss: 0.2488 - accuracy: 0.9042 - val_loss: 0.9520 - val_accuracy: 0.6766 - lr: 8.0000e-07\n",
            "Epoch 15/15\n",
            "193/193 [==============================] - 2855s 15s/step - loss: 0.2475 - accuracy: 0.9056 - val_loss: 0.9531 - val_accuracy: 0.6778 - lr: 8.0000e-07\n"
          ]
        },
        {
          "output_type": "execute_result",
          "data": {
            "text/plain": [
              "<keras.callbacks.History at 0x7f63dd536550>"
            ]
          },
          "metadata": {},
          "execution_count": 29
        }
      ],
      "source": [
        "# 학습\n",
        "# 2. 전처리 + 헤어스타일 라벨 3개 + 증강(train = 32089개) + zeromean 불가능\n",
        "\n",
        "model.fit(train_input, train_target, epochs = 15, batch_size= 125, validation_data=(val_input, val_target),callbacks=[callback])"
      ]
    },
    {
      "cell_type": "code",
      "execution_count": null,
      "metadata": {
        "id": "KetXsmph1ZHB",
        "colab": {
          "base_uri": "https://localhost:8080/"
        },
        "outputId": "d78bf7c9-ac4a-4cb2-ec12-c3154c9fc896"
      },
      "outputs": [
        {
          "output_type": "stream",
          "name": "stdout",
          "text": [
            "Epoch 1/15\n",
            "193/193 [==============================] - 8352s 43s/step - loss: 1.0447 - accuracy: 0.5880 - val_loss: 0.7831 - val_accuracy: 0.6451\n",
            "Epoch 2/15\n",
            "193/193 [==============================] - 8407s 44s/step - loss: 0.7570 - accuracy: 0.6679 - val_loss: 0.7380 - val_accuracy: 0.6676\n",
            "Epoch 3/15\n",
            "193/193 [==============================] - 8436s 44s/step - loss: 0.6802 - accuracy: 0.7034 - val_loss: 0.7180 - val_accuracy: 0.6889\n",
            "Epoch 4/15\n",
            "130/193 [===================>..........] - ETA: 42:21 - loss: 0.6087 - accuracy: 0.7334"
          ]
        }
      ],
      "source": [
        "## fine-tune\n",
        "base_model.trainable = True\n",
        "\n",
        "model.compile(optimizer = tf.keras.optimizers.Adam( learning_rate= 0.0001),\n",
        "                loss = 'sparse_categorical_crossentropy',\n",
        "                metrics=['accuracy'])\n",
        "\n",
        "model.fit(train_input, train_target, epochs = 15, validation_data=(val_input, val_target), \n",
        "                   batch_size= 125)"
      ]
    },
    {
      "cell_type": "code",
      "execution_count": null,
      "metadata": {
        "id": "rlT5i1m81ZHB"
      },
      "outputs": [],
      "source": [
        "# 시험\n",
        "model.evaluate(test_input, test_target)"
      ]
    },
    {
      "cell_type": "code",
      "execution_count": null,
      "metadata": {
        "id": "Tq2g6ZJ920h_"
      },
      "outputs": [],
      "source": []
    }
  ],
  "metadata": {
    "colab": {
      "collapsed_sections": [],
      "machine_shape": "hm",
      "provenance": []
    },
    "gpuClass": "standard",
    "kernelspec": {
      "display_name": "Python 3.10.5 64-bit",
      "language": "python",
      "name": "python3"
    },
    "language_info": {
      "name": "python",
      "version": "3.10.5"
    },
    "vscode": {
      "interpreter": {
        "hash": "aee8b7b246df8f9039afb4144a1f6fd8d2ca17a180786b69acc140d282b71a49"
      }
    }
  },
  "nbformat": 4,
  "nbformat_minor": 0
}